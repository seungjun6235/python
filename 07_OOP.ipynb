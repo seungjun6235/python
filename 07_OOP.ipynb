{
 "cells": [
  {
   "cell_type": "markdown",
   "id": "1009f3ae-e9de-4c9e-be4d-75b45c0ccdda",
   "metadata": {},
   "source": [
    "# 객체지향 프로그래밍(OOP)\n",
    "\n",
    "- class = 같은 집단에 속하는 속성(attribute)과 메소드를 정의한것\n",
    "- instance = 클래스를 실제 메모리상에 할당한 것\n",
    "- attribute : 클래스/인스턴스가 가지고 있는 **데이터**/값\n",
    "- 메소드 : 클래스/인스턴스가 가지고 있는 **함수**/기능"
   ]
  },
  {
   "cell_type": "code",
   "execution_count": 3,
   "id": "35d72c8f-bec5-47b0-8d5c-9ee55c2b6a97",
   "metadata": {},
   "outputs": [],
   "source": [
    "number =  1 + 1j"
   ]
  },
  {
   "cell_type": "code",
   "execution_count": 4,
   "id": "18c4fabe-2f14-4acf-8954-a3ebca7daa8f",
   "metadata": {},
   "outputs": [
    {
     "data": {
      "text/plain": [
       "complex"
      ]
     },
     "execution_count": 4,
     "metadata": {},
     "output_type": "execute_result"
    }
   ],
   "source": [
    "type(number)"
   ]
  },
  {
   "cell_type": "code",
   "execution_count": 6,
   "id": "83b1c830-4c53-412e-ace0-3742b0098889",
   "metadata": {},
   "outputs": [
    {
     "name": "stdout",
     "output_type": "stream",
     "text": [
      "1.0\n",
      "1.0\n"
     ]
    }
   ],
   "source": [
    "print(number.real)\n",
    "print(number.imag)"
   ]
  },
  {
   "cell_type": "code",
   "execution_count": 8,
   "id": "8f6962b4-1b0a-4f70-96a5-04526ed6bec0",
   "metadata": {},
   "outputs": [
    {
     "name": "stdout",
     "output_type": "stream",
     "text": [
      "<class 'list'>\n",
      "[4, 3, 2, 1]\n"
     ]
    }
   ],
   "source": [
    "my_list = [1,2,3,4]\n",
    "print(type(my_list))\n",
    "my_list.reverse()\n",
    "print(my_list)"
   ]
  },
  {
   "cell_type": "code",
   "execution_count": 9,
   "id": "cdef9898-1f19-403e-bb57-51d8a0ba1ede",
   "metadata": {},
   "outputs": [
    {
     "name": "stdout",
     "output_type": "stream",
     "text": [
      "핸드폰이 켜졌습니다\n"
     ]
    }
   ],
   "source": [
    "power = False\n",
    "number = '010-123-1234'\n",
    "book = {\n",
    "    '홍길동' : '010-111-1111',\n",
    "    '이순신' : '010-222-2222'\n",
    "}\n",
    "\n",
    "def on():\n",
    "    global power\n",
    "    if power == False:\n",
    "        power = True\n",
    "        print('핸드폰이 켜졌습니다')\n",
    "\n",
    "on()"
   ]
  },
  {
   "cell_type": "markdown",
   "id": "94070eff-cb27-481b-aa83-c13adc40189f",
   "metadata": {},
   "source": [
    "# Class\n",
    "\n",
    "- 클래스 선언          \n",
    "```python\n",
    "class ClassName:\n",
    "    attribute = value\n",
    "\n",
    "    def method_name(self):\n",
    "        code\n",
    "```\n",
    "\n",
    "-인스턴스화       \n",
    "\n",
    "```python\n",
    "ClassName()\n",
    "```"
   ]
  },
  {
   "cell_type": "code",
   "execution_count": 75,
   "id": "d70aebcc-8023-45b8-8f3b-3bb781654c2c",
   "metadata": {},
   "outputs": [],
   "source": [
    "# 선언 \n",
    "class MyClass:\n",
    "    name = 'kim'\n",
    "\n",
    "    def hello(self):\n",
    "        return 'hello'"
   ]
  },
  {
   "cell_type": "code",
   "execution_count": 76,
   "id": "7914ae8c-5ba6-4592-937b-5b2612629fbf",
   "metadata": {},
   "outputs": [
    {
     "name": "stdout",
     "output_type": "stream",
     "text": [
      "<class '__main__.MyClass'>\n",
      "kim\n",
      "hello\n",
      "park\n",
      "hello\n"
     ]
    }
   ],
   "source": [
    "#인스턴스화\n",
    "\n",
    "a = MyClass()\n",
    "print(type(a))\n",
    "\n",
    "print(a.name)\n",
    "print(a.hello())\n",
    "\n",
    "b = MyClass()\n",
    "b.name = 'park'\n",
    "print(b.name)\n",
    "print(b.hello())"
   ]
  },
  {
   "cell_type": "code",
   "execution_count": 77,
   "id": "d83ea9a4-7dd5-431d-bd34-9caa9880d5fc",
   "metadata": {},
   "outputs": [],
   "source": [
    "class Phone:\n",
    "    power = False\n",
    "    number = '010-000-0000'\n",
    "    book = {}\n",
    "    model = ''\n",
    "\n",
    "    def on(self):\n",
    "        if self.power == False:\n",
    "            self.power = True\n",
    "\n",
    "    def off(self):\n",
    "          if self.power == True:\n",
    "            self.power = False\n",
    "\n",
    "    def call(self, target):\n",
    "        if self.power == True:\n",
    "            print(f'제번호는 {self.number}입니다')\n",
    "            print(f'{target}로 전화 거는중')\n",
    "        else:\n",
    "            print('핸드폰을 켜주세요')\n",
    "        "
   ]
  },
  {
   "cell_type": "code",
   "execution_count": 78,
   "id": "0f55836e-1ac0-4209-8710-a0c80316af26",
   "metadata": {},
   "outputs": [],
   "source": [
    "my_phone = Phone()\n",
    "your_phone = Phone()"
   ]
  },
  {
   "cell_type": "code",
   "execution_count": 79,
   "id": "ad1a51fe-251d-4a46-a1b4-c812ff9fb6ba",
   "metadata": {},
   "outputs": [
    {
     "name": "stdout",
     "output_type": "stream",
     "text": [
      "010-123-1234\n"
     ]
    }
   ],
   "source": [
    "my_phone.number = '010-123-1234'\n",
    "print(my_phone.number)"
   ]
  },
  {
   "cell_type": "code",
   "execution_count": 80,
   "id": "2db38d77-fe7e-46ff-ba37-7f4f773c2eb8",
   "metadata": {},
   "outputs": [
    {
     "name": "stdout",
     "output_type": "stream",
     "text": [
      "010-000-0000\n"
     ]
    }
   ],
   "source": [
    "print(your_phone.number)"
   ]
  },
  {
   "cell_type": "code",
   "execution_count": 81,
   "id": "c9b370d0-2417-400c-aa87-d5b4e2b7682b",
   "metadata": {},
   "outputs": [
    {
     "name": "stdout",
     "output_type": "stream",
     "text": [
      "True\n",
      "False\n",
      "False\n"
     ]
    }
   ],
   "source": [
    "my_phone.on() # => my_phone.on(my_phone)\n",
    "print(my_phone.power)\n",
    "print(your_phone.power)\n",
    "\n",
    "my_phone.off()\n",
    "print(my_phone.power)"
   ]
  },
  {
   "cell_type": "code",
   "execution_count": 90,
   "id": "bec972b2-3587-433d-ac6e-f17c4913b272",
   "metadata": {},
   "outputs": [
    {
     "name": "stdout",
     "output_type": "stream",
     "text": [
      "제번호는 010-123-1234입니다\n",
      "112로 전화 거는중\n",
      "제번호는 010-000-0000입니다\n",
      "119로 전화 거는중\n"
     ]
    }
   ],
   "source": [
    "my_phone.on()\n",
    "my_phone.call('112')\n",
    "\n",
    "your_phone.on()\n",
    "your_phone.call('119')"
   ]
  },
  {
   "cell_type": "code",
   "execution_count": 169,
   "id": "116ee405-fc40-4a8c-afea-5ed42cc0ce09",
   "metadata": {},
   "outputs": [],
   "source": [
    "# 연습\n",
    "\n",
    "class MyList:\n",
    "    data = []\n",
    "\n",
    "    def append(self,x):\n",
    "        # self.data.append(x) => 이렇게 쓰면 .해서 주소에 값이 입력돼어 list_b에 list_a에  마지막 [5]가 다시 처음으로 입력\n",
    "        self.data = self.data + [x]\n",
    "\n",
    "    \n",
    "    def pop(self):\n",
    "        # self.data.pop()\n",
    "        self.data = self.data[:-1]\n"
   ]
  },
  {
   "cell_type": "code",
   "execution_count": 170,
   "id": "b674550d-5a42-45d3-b9a2-9c8af13fc6b0",
   "metadata": {},
   "outputs": [
    {
     "name": "stdout",
     "output_type": "stream",
     "text": [
      "[]\n",
      "[5]\n",
      "[5, 10]\n",
      "[5]\n"
     ]
    }
   ],
   "source": [
    "list_a = MyList()\n",
    "print(list_a.data) # => []\n",
    "\n",
    "list_a.append(5) # => [5]\n",
    "print(list_a.data)\n",
    "list_a.append(10) # => [5 ,10]\n",
    "print(list_a.data)\n",
    "\n",
    "list_a.pop() # => [5]\n",
    "print(list_a.data)"
   ]
  },
  {
   "cell_type": "code",
   "execution_count": 172,
   "id": "a9fa8bd0-bff1-48c3-95d0-acbd75ef8b44",
   "metadata": {},
   "outputs": [
    {
     "name": "stdout",
     "output_type": "stream",
     "text": [
      "['일', '이', '삼']\n"
     ]
    }
   ],
   "source": [
    "list_b = MyList()\n",
    "list_b.append('일')\n",
    "list_b.append('이')\n",
    "list_b.append('삼')\n",
    "print(list_b.data)"
   ]
  },
  {
   "cell_type": "markdown",
   "id": "50ba1c90-4fa5-4782-bf99-689034802d09",
   "metadata": {},
   "source": [
    "# 생성자 , 소멸자\n",
    "\n",
    "```python\n",
    "class MyClass:\n",
    "\n",
    "    def __init__():\n",
    "        pass\n",
    "\n",
    "    def __del__(self):\n",
    "        pass\n",
    "\n",
    "```"
   ]
  },
  {
   "cell_type": "code",
   "execution_count": 197,
   "id": "c0839f72-1049-4ed6-bfaf-c9e32b2314d5",
   "metadata": {},
   "outputs": [],
   "source": [
    "class Person:\n",
    "    name = 'noname'\n",
    "\n",
    "    def __init__(self,name='익명'):\n",
    "        self.name = name\n",
    "        print('생성됨')\n",
    "\n",
    "    def __del__(self):\n",
    "        print('소멸됨')"
   ]
  },
  {
   "cell_type": "code",
   "execution_count": 203,
   "id": "fcb626e5-60aa-45e3-a330-4fbf31266768",
   "metadata": {},
   "outputs": [
    {
     "name": "stdout",
     "output_type": "stream",
     "text": [
      "생성됨\n",
      "소멸됨\n",
      "<__main__.Person object at 0x000002617871C190>\n",
      "kim\n",
      "생성됨\n",
      "소멸됨\n",
      "park\n",
      "생성됨\n",
      "소멸됨\n",
      "익명\n",
      "noname\n",
      "010-123-1234\n"
     ]
    }
   ],
   "source": [
    "p1 = Person('kim') # => Person.__init__('kim')\n",
    "\n",
    "print(p1)\n",
    "print(p1.name)\n",
    "\n",
    "p2=Person('park')\n",
    "print(p2.name)\n",
    "\n",
    "p3=Person()\n",
    "print(p3.name)\n",
    "\n",
    "print(Person.name)\n",
    "\n",
    "p1.phone = '010-123-1234'\n",
    "print(p1.phone)"
   ]
  },
  {
   "cell_type": "code",
   "execution_count": 199,
   "id": "075ef5ed-3e11-44bd-8882-e26a173d2a77",
   "metadata": {},
   "outputs": [
    {
     "name": "stdout",
     "output_type": "stream",
     "text": [
      "소멸됨\n"
     ]
    }
   ],
   "source": [
    "del p1"
   ]
  },
  {
   "cell_type": "code",
   "execution_count": 196,
   "id": "0e5b1c5d-6ab0-4e16-b68d-6724a2ce4309",
   "metadata": {},
   "outputs": [
    {
     "ename": "NameError",
     "evalue": "name 'p1' is not defined",
     "output_type": "error",
     "traceback": [
      "\u001b[1;31m---------------------------------------------------------------------------\u001b[0m",
      "\u001b[1;31mNameError\u001b[0m                                 Traceback (most recent call last)",
      "Cell \u001b[1;32mIn[196], line 1\u001b[0m\n\u001b[1;32m----> 1\u001b[0m \u001b[38;5;28mprint\u001b[39m(\u001b[43mp1\u001b[49m)\n",
      "\u001b[1;31mNameError\u001b[0m: name 'p1' is not defined"
     ]
    }
   ],
   "source": [
    "print(p1)"
   ]
  },
  {
   "cell_type": "code",
   "execution_count": 238,
   "id": "286df21b-bef9-4117-9f78-ecaaa5138387",
   "metadata": {},
   "outputs": [],
   "source": [
    "# Circle\n",
    "\n",
    "class Circle:\n",
    "    pi = 3.14\n",
    "\n",
    "    def __init__(self, r, x=0, y=0):\n",
    "        self.r = r\n",
    "        self.x = x\n",
    "        self.y = y\n",
    "\n",
    "    def area(self):\n",
    "        return self.pi * self.r ** 2\n",
    "\n",
    "    def move(self, x, y):\n",
    "        self.x = x\n",
    "        self.y = y\n",
    "        print(f'원의 중심이{self.x},{self.y}로 이동했습니다')\n",
    "\n",
    "    def center(self):\n",
    "        return (self.x, self.y)\n",
    "\n",
    "    def circumference(self):\n",
    "        return self.r * self.pi * 2"
   ]
  },
  {
   "cell_type": "code",
   "execution_count": 239,
   "id": "834aacd6-1b09-4210-bfff-94c3e61bc058",
   "metadata": {},
   "outputs": [
    {
     "name": "stdout",
     "output_type": "stream",
     "text": [
      "3\n",
      "28.26\n",
      "원의 중심이0,1로 이동했습니다\n",
      "(0, 1)\n",
      "10\n",
      "314.0\n",
      "원의 중심이0,2로 이동했습니다\n",
      "(0, 2)\n",
      "(0, 0)\n",
      "78.5\n",
      "31.400000000000002\n"
     ]
    }
   ],
   "source": [
    "c1 = Circle(3,5,5)\n",
    "print(c1.r)\n",
    "print(c1.area())\n",
    "c1.move(0,1)\n",
    "print(c1.center())\n",
    "\n",
    "c2 = Circle(10,0,0)\n",
    "print(c2.r)\n",
    "print(c2.area())\n",
    "c2.move(0,2)\n",
    "print(c2.center())\n",
    "\n",
    "c3=Circle(5)\n",
    "print(c3.center())\n",
    "print(c3.area())\n",
    "print(c3.circumference())"
   ]
  },
  {
   "cell_type": "code",
   "execution_count": 260,
   "id": "cdf5c968-46be-4c04-95ff-1461033c463a",
   "metadata": {},
   "outputs": [],
   "source": [
    "# point\n",
    "class Point:\n",
    "    def __init__(self,x,y):\n",
    "        self.x = x\n",
    "        self.y = y\n",
    "\n",
    "    def info(self):\n",
    "        return (self.x,self.y)\n",
    "\n",
    "# Circle\n",
    "class Circle:\n",
    "    def __init__(self, point, r):\n",
    "        self.point= point\n",
    "        self.r = r\n",
    "\n",
    "    def info(self):\n",
    "        return (self.point.x, self.point.y, self.r)\n",
    "\n",
    "    def move(self, x, y):\n",
    "        self.point.x= x\n",
    "        self.point.y= y"
   ]
  },
  {
   "cell_type": "code",
   "execution_count": 262,
   "id": "9b348f97-a2be-4d11-85ba-9f25ade65ca6",
   "metadata": {},
   "outputs": [
    {
     "name": "stdout",
     "output_type": "stream",
     "text": [
      "(3, 3)\n",
      "(3, 3)\n",
      "(3, 3, 10)\n",
      "(5, 5, 10)\n",
      "(5, 5)\n"
     ]
    }
   ],
   "source": [
    "p1 = Point(3,3)\n",
    "print(p1.info())\n",
    "\n",
    "c1 =Circle(p1, 10)\n",
    "print(c1.point.info())\n",
    "print(c1.info())\n",
    "\n",
    "c1.move(5,5)\n",
    "print(c1.info())\n",
    "print(p1.info())\n"
   ]
  },
  {
   "cell_type": "code",
   "execution_count": 263,
   "id": "40f696ac-c9e9-4cd3-9fca-8180790a6b49",
   "metadata": {},
   "outputs": [
    {
     "name": "stdout",
     "output_type": "stream",
     "text": [
      "(5, 5, 5)\n"
     ]
    }
   ],
   "source": [
    "c2 = Circle(p1, 5)\n",
    "print(c2.info())"
   ]
  },
  {
   "cell_type": "markdown",
   "id": "4afbbbdd-ed9e-40de-b559-20b6507711ab",
   "metadata": {},
   "source": [
    "# 클래스 변수\n",
    "- 클래스 선언 블록 최상단에 위치\n",
    "\n",
    "# 인스턴스 변수\n",
    "- 인스턴스 내부에서 생성한 변수('self.variable = ')\n",
    "\n",
    "```python\n",
    "class MyClass:\n",
    "    class_variable = '클래스변수'\n",
    "\n",
    "    def __init__(self,name):\n",
    "        self.instance_variable= '인스턴스 변수'\n",
    "```"
   ]
  },
  {
   "cell_type": "code",
   "execution_count": 267,
   "id": "d0ca8371-dc18-4ddd-b381-28c6f99859e6",
   "metadata": {},
   "outputs": [],
   "source": [
    "class Person:\n",
    "    name = '홍길동'\n",
    "    phone = '010-123-1234'\n",
    "\n",
    "    def __init__(self,name):\n",
    "        self.name = name"
   ]
  },
  {
   "cell_type": "code",
   "execution_count": 271,
   "id": "871933ab-04fe-44fb-9ad3-54544964988f",
   "metadata": {},
   "outputs": [
    {
     "name": "stdout",
     "output_type": "stream",
     "text": [
      "승준\n",
      "홍길동\n",
      "010-123-1234\n"
     ]
    }
   ],
   "source": [
    "p1 = Person('승준')\n",
    "\n",
    "print(p1.name)\n",
    "print(Person.name)\n",
    "\n",
    "print(p1.phone)"
   ]
  },
  {
   "cell_type": "markdown",
   "id": "ddc04508-91eb-42ce-a330-c1a7c48af354",
   "metadata": {},
   "source": [
    "# 클래스 메소드, 인스턴스 메소드, 스태틱 메소드\n",
    "\n",
    "```python\n",
    "class MyClass:\n",
    "    \n",
    "    def instance_method(self):\n",
    "        pass\n",
    "        \n",
    "    @classmethod\n",
    "    def class_method(cls):\n",
    "        pass\n",
    "        \n",
    "    @staticmethod\n",
    "    def static_method():\n",
    "        apss\n",
    "```"
   ]
  },
  {
   "cell_type": "code",
   "execution_count": 273,
   "id": "0afe3c26-960e-4656-b2da-72df4586f295",
   "metadata": {},
   "outputs": [],
   "source": [
    "class MyClass:\n",
    "    \n",
    "    def instance_method(self):\n",
    "        return self\n",
    "        \n",
    "    @classmethod\n",
    "    def class_method(cls):\n",
    "        return cls\n",
    "        \n",
    "    @staticmethod\n",
    "    def static_method():\n",
    "        return 'hello'"
   ]
  },
  {
   "cell_type": "code",
   "execution_count": 277,
   "id": "34b80fa3-3998-462a-9a86-f5a03bbd4263",
   "metadata": {},
   "outputs": [
    {
     "name": "stdout",
     "output_type": "stream",
     "text": [
      "<__main__.MyClass object at 0x0000026178D21910>\n",
      "<class '__main__.MyClass'>\n",
      "<class '__main__.MyClass'>\n",
      "hello\n"
     ]
    }
   ],
   "source": [
    "c = MyClass()\n",
    "\n",
    "print(c.instance_method())\n",
    "print(c.class_method())\n",
    "print(MyClass.class_method())\n",
    "print(MyClass.static_method())"
   ]
  },
  {
   "cell_type": "code",
   "execution_count": 301,
   "id": "fe67d54e-6b2a-42a2-9e94-2e1fdd5c7f80",
   "metadata": {},
   "outputs": [],
   "source": [
    "class Puppy:\n",
    "    num_of_puppy =0\n",
    "    \n",
    "    def __init__(self, name):\n",
    "        self.name = name\n",
    "        Puppy.num_of_puppy += 1\n",
    "\n",
    "    @classmethod\n",
    "    def get_status(cls):\n",
    "        print(f'현재 강아지는 {cls.num_of_puppy}마리입니다.')\n",
    "\n",
    "    @staticmethod\n",
    "    def bark(msg):\n",
    "        return msg\n",
    "\n",
    "    def bark2(self, msg):\n",
    "        return f'{self.name}은 {msg}합니다'"
   ]
  },
  {
   "cell_type": "code",
   "execution_count": 302,
   "id": "802e656b-254d-444c-84ca-fbc1f64ae4be",
   "metadata": {},
   "outputs": [
    {
     "name": "stdout",
     "output_type": "stream",
     "text": [
      "3\n",
      "3\n",
      "현재 강아지는 3마리입니다.\n",
      "현재 강아지는 3마리입니다.\n",
      "멍멍\n",
      "그르릉\n",
      "인절미은 멍멍합니다\n"
     ]
    }
   ],
   "source": [
    "p1 = Puppy('인절미')\n",
    "p2 = Puppy('백구')\n",
    "p3 = Puppy('흰둥이')\n",
    "\n",
    "print(Puppy.num_of_puppy)\n",
    "print(p1.num_of_puppy)\n",
    "\n",
    "Puppy.get_status()\n",
    "p1.get_status()\n",
    "\n",
    "print(p1.bark('멍멍'))\n",
    "print(p2.bark('그르릉'))\n",
    "\n",
    "print(p1.bark2('멍멍'))"
   ]
  },
  {
   "cell_type": "markdown",
   "id": "ed3c8fa9-219b-4002-8394-1071ba0ee829",
   "metadata": {},
   "source": [
    "# 상속"
   ]
  },
  {
   "cell_type": "code",
   "execution_count": 319,
   "id": "ac9c98cd-9507-48df-98e9-12a5ca1c6c16",
   "metadata": {},
   "outputs": [],
   "source": [
    "class Person:\n",
    "\n",
    "    id = ('987451-168695')\n",
    "    \n",
    "    def __init__(self,name):\n",
    "        self.name = name\n",
    "\n",
    "    def greeting(self):\n",
    "        print(f'안녕하세요 {self.name}입니다')"
   ]
  },
  {
   "cell_type": "code",
   "execution_count": 320,
   "id": "237e8df5-cba6-4081-8ae0-419c3dce569d",
   "metadata": {},
   "outputs": [
    {
     "name": "stdout",
     "output_type": "stream",
     "text": [
      "안녕하세요 홍길동입니다\n"
     ]
    }
   ],
   "source": [
    "p1 = Person('홍길동')\n",
    "p2 = Person('이순신')\n",
    "\n",
    "p1.greeting()"
   ]
  },
  {
   "cell_type": "code",
   "execution_count": 321,
   "id": "15554af6-bd55-48b9-a91a-a164da0dbfea",
   "metadata": {},
   "outputs": [],
   "source": [
    "class Student:\n",
    "    \n",
    "    def __init__(self,name, student_id):\n",
    "        self.name = name\n",
    "        self.student_id = student_id\n",
    "    def greeting(self):\n",
    "        print(f'안녕하세요 {self.name}입니다')\n",
    "\n"
   ]
  },
  {
   "cell_type": "code",
   "execution_count": 322,
   "id": "5f3b53d4-879b-4ccb-a70a-a1b07851f2f5",
   "metadata": {},
   "outputs": [
    {
     "name": "stdout",
     "output_type": "stream",
     "text": [
      "안녕하세요 승준입니다\n"
     ]
    }
   ],
   "source": [
    "s1 = Student('승준','123456')\n",
    "s1.greeting()"
   ]
  },
  {
   "cell_type": "code",
   "execution_count": 323,
   "id": "8350f94f-1958-49d2-93e7-29c7afb77a6b",
   "metadata": {},
   "outputs": [],
   "source": [
    "class Soldier:\n",
    "\n",
    "    def __init__(self,name,soldier_id):\n",
    "        self.name = name\n",
    "        self.soldier_id = soldier_id\n",
    "\n",
    "    def greeting(self):\n",
    "        print(f'충성! {self.name}입니다')\n"
   ]
  },
  {
   "cell_type": "code",
   "execution_count": 324,
   "id": "e0148959-84d4-4cc2-94c2-e4707eab73d0",
   "metadata": {},
   "outputs": [
    {
     "name": "stdout",
     "output_type": "stream",
     "text": [
      "충성! 국방이입니다\n"
     ]
    }
   ],
   "source": [
    "s2 = Soldier('국방이', '12-12345678')\n",
    "s2.greeting()"
   ]
  },
  {
   "cell_type": "code",
   "execution_count": 325,
   "id": "91879e00-fa4c-44e7-866a-d7efcd134eb0",
   "metadata": {},
   "outputs": [],
   "source": [
    "class Student(Person):\n",
    "    #  def __init__(self,name):\n",
    "    #     self.name = name\n",
    "\n",
    "    # def greeting(self):\n",
    "    #     print(f'안녕하세요 {self.name}입니다')\n",
    "\n",
    "    def __init__(self,name, student_id):\n",
    "        self.name = name\n",
    "        self.student_id = student_id"
   ]
  },
  {
   "cell_type": "code",
   "execution_count": 326,
   "id": "9c567d59-5cce-4c82-8cd0-7f911bb1edbe",
   "metadata": {},
   "outputs": [
    {
     "name": "stdout",
     "output_type": "stream",
     "text": [
      "안녕하세요 승준입니다\n"
     ]
    }
   ],
   "source": [
    "s1 = Student('승준','12345678')\n",
    "s1.greeting()"
   ]
  },
  {
   "cell_type": "code",
   "execution_count": 327,
   "id": "1ea1573d-a56f-4ba8-84e1-27e4c50f4033",
   "metadata": {},
   "outputs": [],
   "source": [
    "class Soldier(Person):\n",
    "\n",
    "    def __init__(self,name,soldier_id):\n",
    "        self.name = name\n",
    "        self.soldier_id = soldier_id\n",
    "\n",
    "    def greeting(self):\n",
    "        print(f'충성! {self.name}입니다')"
   ]
  },
  {
   "cell_type": "code",
   "execution_count": 329,
   "id": "ff2af458-fa58-4039-888f-d5b8ca989da1",
   "metadata": {},
   "outputs": [],
   "source": [
    "class Person:\n",
    "    def __init__(self, name, email, phone, location):\n",
    "        self.name = name\n",
    "        self.email = email\n",
    "        self.phone = phone\n",
    "        self.location = location\n",
    "\n",
    "class Student(Person):\n",
    "      def __init__(self, name, email, phone, location, student_id):\n",
    "        self.name = name\n",
    "        self.email = email\n",
    "        self.phone = phone\n",
    "        self.location = location\n",
    "        self.student_id = student_id\n",
    "\n",
    "class Soldier(Person):\n",
    "    \n",
    "    def __init__(self, name, email, phone, location, soldier_id):\n",
    "        super().__init__(name, email, phone, location)    # super() => (부모클래스 Person을 실행)\n",
    "        self.soldier_id = soldier_id\n"
   ]
  },
  {
   "cell_type": "markdown",
   "id": "548bcbce-6450-4e98-896f-08377b880322",
   "metadata": {},
   "source": [
    "# 다중상속"
   ]
  },
  {
   "cell_type": "code",
   "execution_count": 350,
   "id": "0ff86711-17aa-4783-9ecd-1e1b90ad8291",
   "metadata": {},
   "outputs": [],
   "source": [
    "class Person:\n",
    "    \n",
    "    def __init__(self,name):\n",
    "        self.name = name\n",
    "\n",
    "    def breath(self):\n",
    "        print('후하')"
   ]
  },
  {
   "cell_type": "code",
   "execution_count": 351,
   "id": "e6081199-9e9f-428b-bcbf-0fce5ecc18d8",
   "metadata": {},
   "outputs": [],
   "source": [
    "class Mom(Person):\n",
    "    gene = 'xx'\n",
    "\n",
    "    def swim(self):\n",
    "        print('어푸어푸')"
   ]
  },
  {
   "cell_type": "code",
   "execution_count": 352,
   "id": "05846905-6d59-4c43-b0eb-f12b33dce5cc",
   "metadata": {},
   "outputs": [],
   "source": [
    "class Dad(Person):\n",
    "    gene = 'xy'\n",
    "\n",
    "    def run(self):\n",
    "        print('다다다')"
   ]
  },
  {
   "cell_type": "code",
   "execution_count": 353,
   "id": "c1dbdad6-8647-46c8-87f7-845df9572506",
   "metadata": {},
   "outputs": [],
   "source": [
    "class Baby(Dad,Mom): # a,b중 a 먼저 상속 값 사용 '' 다른 언어에서는 (a,b) 여러 상속 불가능\n",
    "    pass"
   ]
  },
  {
   "cell_type": "code",
   "execution_count": 355,
   "id": "1a07581c-aab4-4f47-b681-942f34d828b2",
   "metadata": {},
   "outputs": [
    {
     "name": "stdout",
     "output_type": "stream",
     "text": [
      "금쪽이\n",
      "xy\n",
      "어푸어푸\n",
      "다다다\n",
      "후하\n"
     ]
    }
   ],
   "source": [
    "b = Baby('금쪽이')\n",
    "print(b.name)\n",
    "print(b.gene)\n",
    "\n",
    "b.swim()\n",
    "b.run()\n",
    "b.breath()"
   ]
  },
  {
   "cell_type": "code",
   "execution_count": null,
   "id": "08ec65cd-933e-4f47-868f-6721062012c8",
   "metadata": {},
   "outputs": [],
   "source": []
  },
  {
   "cell_type": "code",
   "execution_count": null,
   "id": "d8083aba-e02c-44e6-ae24-1844c351fe87",
   "metadata": {},
   "outputs": [],
   "source": []
  }
 ],
 "metadata": {
  "kernelspec": {
   "display_name": "Python 3 (ipykernel)",
   "language": "python",
   "name": "python3"
  },
  "language_info": {
   "codemirror_mode": {
    "name": "ipython",
    "version": 3
   },
   "file_extension": ".py",
   "mimetype": "text/x-python",
   "name": "python",
   "nbconvert_exporter": "python",
   "pygments_lexer": "ipython3",
   "version": "3.11.6"
  }
 },
 "nbformat": 4,
 "nbformat_minor": 5
}
