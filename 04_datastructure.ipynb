{
 "cells": [
  {
   "cell_type": "code",
   "execution_count": 1,
   "id": "752689f3-ba73-4c2e-b131-663bcfb00ba6",
   "metadata": {},
   "outputs": [
    {
     "name": "stdout",
     "output_type": "stream",
     "text": [
      "hello\n"
     ]
    }
   ],
   "source": [
    "print('hello')"
   ]
  },
  {
   "cell_type": "code",
   "execution_count": 3,
   "id": "7f9bcbf5-596b-4464-9e50-142ce327609c",
   "metadata": {},
   "outputs": [
    {
     "data": {
      "text/plain": [
       "'일이'"
      ]
     },
     "execution_count": 3,
     "metadata": {},
     "output_type": "execute_result"
    }
   ],
   "source": [
    "''.join(['일','이'])"
   ]
  },
  {
   "cell_type": "code",
   "execution_count": 5,
   "id": "6b8f6916-b163-4ce9-a416-c8caad83facc",
   "metadata": {},
   "outputs": [
    {
     "data": {
      "text/plain": [
       "['__add__',\n",
       " '__class__',\n",
       " '__contains__',\n",
       " '__delattr__',\n",
       " '__dir__',\n",
       " '__doc__',\n",
       " '__eq__',\n",
       " '__format__',\n",
       " '__ge__',\n",
       " '__getattribute__',\n",
       " '__getitem__',\n",
       " '__getnewargs__',\n",
       " '__getstate__',\n",
       " '__gt__',\n",
       " '__hash__',\n",
       " '__init__',\n",
       " '__init_subclass__',\n",
       " '__iter__',\n",
       " '__le__',\n",
       " '__len__',\n",
       " '__lt__',\n",
       " '__mod__',\n",
       " '__mul__',\n",
       " '__ne__',\n",
       " '__new__',\n",
       " '__reduce__',\n",
       " '__reduce_ex__',\n",
       " '__repr__',\n",
       " '__rmod__',\n",
       " '__rmul__',\n",
       " '__setattr__',\n",
       " '__sizeof__',\n",
       " '__str__',\n",
       " '__subclasshook__',\n",
       " 'capitalize',\n",
       " 'casefold',\n",
       " 'center',\n",
       " 'count',\n",
       " 'encode',\n",
       " 'endswith',\n",
       " 'expandtabs',\n",
       " 'find',\n",
       " 'format',\n",
       " 'format_map',\n",
       " 'index',\n",
       " 'isalnum',\n",
       " 'isalpha',\n",
       " 'isascii',\n",
       " 'isdecimal',\n",
       " 'isdigit',\n",
       " 'isidentifier',\n",
       " 'islower',\n",
       " 'isnumeric',\n",
       " 'isprintable',\n",
       " 'isspace',\n",
       " 'istitle',\n",
       " 'isupper',\n",
       " 'join',\n",
       " 'ljust',\n",
       " 'lower',\n",
       " 'lstrip',\n",
       " 'maketrans',\n",
       " 'partition',\n",
       " 'removeprefix',\n",
       " 'removesuffix',\n",
       " 'replace',\n",
       " 'rfind',\n",
       " 'rindex',\n",
       " 'rjust',\n",
       " 'rpartition',\n",
       " 'rsplit',\n",
       " 'rstrip',\n",
       " 'split',\n",
       " 'splitlines',\n",
       " 'startswith',\n",
       " 'strip',\n",
       " 'swapcase',\n",
       " 'title',\n",
       " 'translate',\n",
       " 'upper',\n",
       " 'zfill']"
      ]
     },
     "execution_count": 5,
     "metadata": {},
     "output_type": "execute_result"
    }
   ],
   "source": [
    "dir('hello')"
   ]
  },
  {
   "cell_type": "markdown",
   "id": "178043a6-8cb1-4ff9-986c-90e90122dd66",
   "metadata": {},
   "source": [
    "# 문자열 메소드 \n",
    "\n",
    "## 문자열은 원본은 바뀌지 않고 return만 해줌"
   ]
  },
  {
   "cell_type": "code",
   "execution_count": 12,
   "id": "8407df32-bc98-46cd-9f4d-155fbc3a11d3",
   "metadata": {},
   "outputs": [],
   "source": [
    "a = 'hello my name is seungjun'"
   ]
  },
  {
   "cell_type": "code",
   "execution_count": 13,
   "id": "c7a24201-deef-4f1b-92cc-37bab74623ab",
   "metadata": {},
   "outputs": [
    {
     "name": "stdout",
     "output_type": "stream",
     "text": [
      "hello my name is seungjun\n"
     ]
    }
   ],
   "source": [
    "print(a)"
   ]
  },
  {
   "cell_type": "code",
   "execution_count": 14,
   "id": "72906580-36bc-4b8f-9b05-3a1eb1dc3992",
   "metadata": {},
   "outputs": [
    {
     "name": "stdout",
     "output_type": "stream",
     "text": [
      "h\n"
     ]
    }
   ],
   "source": [
    "print(a[0])"
   ]
  },
  {
   "cell_type": "code",
   "execution_count": 15,
   "id": "ab1333f1-4ed0-4f21-a598-2d75af246287",
   "metadata": {},
   "outputs": [
    {
     "ename": "TypeError",
     "evalue": "'str' object does not support item assignment",
     "output_type": "error",
     "traceback": [
      "\u001b[1;31m---------------------------------------------------------------------------\u001b[0m",
      "\u001b[1;31mTypeError\u001b[0m                                 Traceback (most recent call last)",
      "Cell \u001b[1;32mIn[15], line 1\u001b[0m\n\u001b[1;32m----> 1\u001b[0m \u001b[43ma\u001b[49m\u001b[43m[\u001b[49m\u001b[38;5;241;43m0\u001b[39;49m\u001b[43m]\u001b[49m \u001b[38;5;241m=\u001b[39m \u001b[38;5;124m'\u001b[39m\u001b[38;5;124mH\u001b[39m\u001b[38;5;124m'\u001b[39m \u001b[38;5;66;03m# 문자열은 immutable 해서 sequence 중 하나의 문자만 바꾸는거 불가능 \u001b[39;00m\n",
      "\u001b[1;31mTypeError\u001b[0m: 'str' object does not support item assignment"
     ]
    }
   ],
   "source": [
    "a[0] = 'H' # 문자열은 immutable 해서 sequence 중 하나의 문자만 바꾸는거 불가능 "
   ]
  },
  {
   "cell_type": "code",
   "execution_count": 18,
   "id": "dd391c48-49f9-4cf9-bfe5-f463ca3afba4",
   "metadata": {},
   "outputs": [
    {
     "name": "stdout",
     "output_type": "stream",
     "text": [
      "Hello my name is seungjun\n"
     ]
    }
   ],
   "source": [
    "a = a.capitalize()\n",
    "print(a)"
   ]
  },
  {
   "cell_type": "code",
   "execution_count": 21,
   "id": "bf54fe09-943f-4c97-9eb6-4f8f58ee1dce",
   "metadata": {},
   "outputs": [
    {
     "data": {
      "text/plain": [
       "'Hello My Name Is Seungjun'"
      ]
     },
     "execution_count": 21,
     "metadata": {},
     "output_type": "execute_result"
    }
   ],
   "source": [
    "a.title()\n"
   ]
  },
  {
   "cell_type": "code",
   "execution_count": 22,
   "id": "1833c851-6133-4c7f-a18f-97bfbb278ef3",
   "metadata": {},
   "outputs": [
    {
     "data": {
      "text/plain": [
       "'HELLO MY NAME IS SEUNGJUN'"
      ]
     },
     "execution_count": 22,
     "metadata": {},
     "output_type": "execute_result"
    }
   ],
   "source": [
    "a.upper()"
   ]
  },
  {
   "cell_type": "code",
   "execution_count": 23,
   "id": "58f24299-591f-4ebe-b98a-57f7f2cfa2c9",
   "metadata": {},
   "outputs": [
    {
     "data": {
      "text/plain": [
       "'hello my name is seungjun'"
      ]
     },
     "execution_count": 23,
     "metadata": {},
     "output_type": "execute_result"
    }
   ],
   "source": [
    "a.lower() "
   ]
  },
  {
   "cell_type": "code",
   "execution_count": 25,
   "id": "0059cf07-be5f-4827-80f0-1dd3a2fdb1d5",
   "metadata": {},
   "outputs": [
    {
     "name": "stdout",
     "output_type": "stream",
     "text": [
      "Hello my name is seungjun\n"
     ]
    }
   ],
   "source": [
    "print(a) # string은 return만 해주고 원본은 바뀌지 않는걸 print를 통해 확인"
   ]
  },
  {
   "cell_type": "code",
   "execution_count": 32,
   "id": "5f4d2c66-f73a-4ebc-a246-d5512b972ada",
   "metadata": {},
   "outputs": [
    {
     "data": {
      "text/plain": [
       "'hi my name'"
      ]
     },
     "execution_count": 32,
     "metadata": {},
     "output_type": "execute_result"
    }
   ],
   "source": [
    "my_list= ['hi','my','name']\n",
    "' '.join(my_list) #띄어쓰기 "
   ]
  },
  {
   "cell_type": "code",
   "execution_count": 42,
   "id": "c456627a-c9a7-4bb5-94b8-b9b4380e0f63",
   "metadata": {},
   "outputs": [
    {
     "name": "stdout",
     "output_type": "stream",
     "text": [
      "     hello|\n",
      "   \n",
      "hello|\n",
      "ello\n",
      "ellohihi\n",
      "hihihello\n"
     ]
    }
   ],
   "source": [
    "# .strip([chars]) # []은 생략, character 문자를 넣어도 되고 안 넣어도 되고 #공백 없애줌\n",
    "\n",
    "my_string = '     hello|\\n   '\n",
    "print(my_string)\n",
    "print(my_string.strip())\n",
    "\n",
    "my_string2 = 'hihihellohihi' \n",
    "print(my_string2.strip('hi'))\n",
    "print(my_string2.lstrip('hi'))\n",
    "print(my_string2.rstrip('hi'))"
   ]
  },
  {
   "cell_type": "code",
   "execution_count": 44,
   "id": "92c5171a-d089-4efa-83de-afbb5db03a0f",
   "metadata": {},
   "outputs": [
    {
     "data": {
      "text/plain": [
       "'w!!!ooooow'"
      ]
     },
     "execution_count": 44,
     "metadata": {},
     "output_type": "execute_result"
    }
   ],
   "source": [
    "# .replace(old, new[,count]) # a,b => a를 b로 대체 3개 바꾸기\n",
    "a = 'woooooooow'\n",
    "a.replace('o','!', 3)"
   ]
  },
  {
   "cell_type": "code",
   "execution_count": 66,
   "id": "00820828-884b-41ca-89c7-132291b194be",
   "metadata": {},
   "outputs": [
    {
     "name": "stdout",
     "output_type": "stream",
     "text": [
      "0\n",
      "1\n",
      "-1\n",
      "1\n"
     ]
    }
   ],
   "source": [
    "#.find(x)\n",
    "a = 'apple'\n",
    "print(a.find('a')) # 0번째 index\n",
    "print(a.find('p')) # 1번째 index\n",
    "print(a.find('z'))\n",
    "\n",
    "for i in range(len(a)):\n",
    "    if 'p' == a[i]:\n",
    "        print(i)\n",
    "        break\n",
    "else:\n",
    "    print(-1)"
   ]
  },
  {
   "cell_type": "code",
   "execution_count": 55,
   "id": "7dac9e8c-3cb1-485a-a5da-23d26aa07a62",
   "metadata": {},
   "outputs": [
    {
     "name": "stdout",
     "output_type": "stream",
     "text": [
      "0\n"
     ]
    },
    {
     "ename": "ValueError",
     "evalue": "substring not found",
     "output_type": "error",
     "traceback": [
      "\u001b[1;31m---------------------------------------------------------------------------\u001b[0m",
      "\u001b[1;31mValueError\u001b[0m                                Traceback (most recent call last)",
      "Cell \u001b[1;32mIn[55], line 4\u001b[0m\n\u001b[0;32m      2\u001b[0m a \u001b[38;5;241m=\u001b[39m \u001b[38;5;124m'\u001b[39m\u001b[38;5;124mapple\u001b[39m\u001b[38;5;124m'\u001b[39m\n\u001b[0;32m      3\u001b[0m \u001b[38;5;28mprint\u001b[39m(a\u001b[38;5;241m.\u001b[39mindex(\u001b[38;5;124m'\u001b[39m\u001b[38;5;124ma\u001b[39m\u001b[38;5;124m'\u001b[39m))\n\u001b[1;32m----> 4\u001b[0m \u001b[38;5;28mprint\u001b[39m(\u001b[43ma\u001b[49m\u001b[38;5;241;43m.\u001b[39;49m\u001b[43mindex\u001b[49m\u001b[43m(\u001b[49m\u001b[38;5;124;43m'\u001b[39;49m\u001b[38;5;124;43mz\u001b[39;49m\u001b[38;5;124;43m'\u001b[39;49m\u001b[43m)\u001b[49m)\n",
      "\u001b[1;31mValueError\u001b[0m: substring not found"
     ]
    }
   ],
   "source": [
    "# index(x)\n",
    "a = 'apple'\n",
    "print(a.index('a'))\n",
    "print(a.index('z'))"
   ]
  },
  {
   "cell_type": "code",
   "execution_count": 62,
   "id": "216035f7-cf79-4d19-a147-18cdff9dd639",
   "metadata": {},
   "outputs": [
    {
     "data": {
      "text/plain": [
       "['my', 'name', 'is']"
      ]
     },
     "execution_count": 62,
     "metadata": {},
     "output_type": "execute_result"
    }
   ],
   "source": [
    "# .split(x)\n",
    "a = 'my_name_is'\n",
    "a.split('_')"
   ]
  },
  {
   "cell_type": "code",
   "execution_count": 67,
   "id": "0e160bbe-d479-4605-82b3-26300aaf6dfc",
   "metadata": {},
   "outputs": [
    {
     "data": {
      "text/plain": [
       "4"
      ]
     },
     "execution_count": 67,
     "metadata": {},
     "output_type": "execute_result"
    }
   ],
   "source": [
    "#.count(x)\n",
    "'woooow'.count('o')"
   ]
  },
  {
   "cell_type": "markdown",
   "id": "c41180a4-849e-41f7-8863-39f65f42d1b0",
   "metadata": {},
   "source": [
    "# 리스트 메소드\n",
    "\n",
    "## 원본을 수정"
   ]
  },
  {
   "cell_type": "code",
   "execution_count": 73,
   "id": "af548302-9672-4b35-b1c2-45dbaeb453b8",
   "metadata": {},
   "outputs": [],
   "source": [
    "numbers = [1,5,3,6,1]"
   ]
  },
  {
   "cell_type": "code",
   "execution_count": 74,
   "id": "4bcbcc69-edf6-416f-b61e-7386b2d6b521",
   "metadata": {},
   "outputs": [],
   "source": [
    "# .append(x)\n",
    "numbers.append(10)"
   ]
  },
  {
   "cell_type": "code",
   "execution_count": 75,
   "id": "510fefce-fa75-40c3-b771-a55d69cf0995",
   "metadata": {},
   "outputs": [
    {
     "name": "stdout",
     "output_type": "stream",
     "text": [
      "[1, 5, 3, 6, 1, 10]\n"
     ]
    }
   ],
   "source": [
    "print(numbers)"
   ]
  },
  {
   "cell_type": "code",
   "execution_count": 78,
   "id": "53fc1563-338b-481c-8752-c3510cc7675c",
   "metadata": {},
   "outputs": [
    {
     "name": "stdout",
     "output_type": "stream",
     "text": [
      "[1, 5, 3, 6, 1, 10, 99, 100, 99, 100]\n",
      "[1, 5, 3, 6, 1, 10, 99, 100, 99, 100, 99, 100]\n"
     ]
    }
   ],
   "source": [
    "#.extend(iterable)\n",
    "\n",
    "a=[99,100]\n",
    "\n",
    "numbers.extend(a)\n",
    "print(numbers)\n",
    "print(numbers + a)"
   ]
  },
  {
   "cell_type": "code",
   "execution_count": 79,
   "id": "3510ea40-3ec8-4175-8bf4-5a81f462d0ae",
   "metadata": {},
   "outputs": [
    {
     "name": "stdout",
     "output_type": "stream",
     "text": [
      "[1, 5, 3, 3.5, 6, 1, 10, 99, 100, 99, 100]\n"
     ]
    }
   ],
   "source": [
    "# .insert(idx,x)\n",
    "numbers.insert(3, 3.5)\n",
    "print(numbers)"
   ]
  },
  {
   "cell_type": "code",
   "execution_count": 80,
   "id": "80154202-cb47-4c85-a412-2880eeae9539",
   "metadata": {},
   "outputs": [
    {
     "name": "stdout",
     "output_type": "stream",
     "text": [
      "[1, 5, 3, 6, 1, 10, 99, 100, 99, 100]\n"
     ]
    }
   ],
   "source": [
    "#. remove(x)\n",
    "numbers.remove(3.5)\n",
    "print(numbers)"
   ]
  },
  {
   "cell_type": "code",
   "execution_count": 84,
   "id": "2b29e2eb-de79-411c-aa04-90bcca2c5ea0",
   "metadata": {},
   "outputs": [
    {
     "name": "stdout",
     "output_type": "stream",
     "text": [
      "[5, 3, 6, 1, 10]\n",
      "[3, 6, 1, 10]\n"
     ]
    },
    {
     "data": {
      "text/plain": [
       "10"
      ]
     },
     "execution_count": 84,
     "metadata": {},
     "output_type": "execute_result"
    }
   ],
   "source": [
    "# .pop() #stack은 append 와 pop을 주로 쓴다\n",
    "numbers.pop()\n",
    "print(numbers) # 맨뒤에거 빠짐\n",
    "\n",
    "numbers.pop(0) # 맨 앞에거 빠짐\n",
    "print(numbers)\n",
    "\n",
    "numbers.pop() # 원본도 바꾸고 return 뭐가 pop됏는지 나온다"
   ]
  },
  {
   "cell_type": "code",
   "execution_count": 86,
   "id": "d0c40d46-1ff4-4271-842f-cb23cf957d9e",
   "metadata": {},
   "outputs": [
    {
     "name": "stdout",
     "output_type": "stream",
     "text": [
      "6\n"
     ]
    }
   ],
   "source": [
    "num = numbers.pop() \n",
    "print(num)"
   ]
  },
  {
   "cell_type": "code",
   "execution_count": 93,
   "id": "6a8331d6-b71a-4ee5-b9c9-2f0d16a5c4ab",
   "metadata": {},
   "outputs": [
    {
     "name": "stdout",
     "output_type": "stream",
     "text": [
      "[1, 5, 2, 5]\n",
      "None\n",
      "[1, 2, 5, 5]\n",
      "[5, 5, 2, 1]\n"
     ]
    }
   ],
   "source": [
    "#.sort()\n",
    "\n",
    "numbers = [1,5,2,5]\n",
    "print(numbers)\n",
    "\n",
    "print(numbers.sort())\n",
    "\n",
    "print(numbers)\n",
    "\n",
    "numbers.sort(reverse=True)\n",
    "print(numbers)"
   ]
  },
  {
   "cell_type": "code",
   "execution_count": 95,
   "id": "2fc94e53-7cc5-4c28-add6-f681700962b6",
   "metadata": {},
   "outputs": [
    {
     "name": "stdout",
     "output_type": "stream",
     "text": [
      "[1, 2, 5, 5]\n",
      "[1, 5, 2, 5]\n"
     ]
    }
   ],
   "source": [
    "numbers = [1,5,2,5]\n",
    "print(sorted(numbers))\n",
    "print(numbers)"
   ]
  },
  {
   "cell_type": "code",
   "execution_count": 99,
   "id": "f413cbc0-1966-45f0-8a50-4bd6810002d8",
   "metadata": {},
   "outputs": [
    {
     "name": "stdout",
     "output_type": "stream",
     "text": [
      "[1, 5, 2, 5]\n",
      "[5, 2, 5, 1]\n",
      "[5, 2, 5, 1]\n"
     ]
    }
   ],
   "source": [
    "#.reverse()\n",
    "numbers = [1,5,2,5]\n",
    "print(numbers)\n",
    "numbers.reverse()\n",
    "print(numbers)\n",
    "\n",
    "numbers[ :  : -1] # 처음부터 끝까지 -1 reverse\n",
    "print(numbers)\n"
   ]
  },
  {
   "cell_type": "markdown",
   "id": "548e42eb-4fc8-4d6a-85c9-251fe337a883",
   "metadata": {},
   "source": [
    "# list copy"
   ]
  },
  {
   "cell_type": "code",
   "execution_count": 100,
   "id": "c2ff6bbf-da08-4122-8082-19710b6c00e9",
   "metadata": {},
   "outputs": [
    {
     "name": "stdout",
     "output_type": "stream",
     "text": [
      "[1, 2, 3]\n",
      "[1, 2, 3]\n"
     ]
    }
   ],
   "source": [
    "origin_list = [1,2,3]\n",
    "copy_list = origin_list\n",
    "\n",
    "print(origin_list)\n",
    "print(copy_list)"
   ]
  },
  {
   "cell_type": "code",
   "execution_count": 101,
   "id": "adcd9dc0-ff98-4992-b7d6-e73275eba08d",
   "metadata": {},
   "outputs": [
    {
     "name": "stdout",
     "output_type": "stream",
     "text": [
      "[100, 2, 3]\n",
      "[100, 2, 3]\n"
     ]
    }
   ],
   "source": [
    "copy_list[0] = 100\n",
    "\n",
    "print(origin_list)\n",
    "print(copy_list)"
   ]
  },
  {
   "cell_type": "code",
   "execution_count": 103,
   "id": "8f7129ec-c8cf-4bf5-ae84-9dedfaadf87b",
   "metadata": {},
   "outputs": [
    {
     "name": "stdout",
     "output_type": "stream",
     "text": [
      "[1, 2, 3]\n",
      "[100, 2, 3]\n"
     ]
    }
   ],
   "source": [
    "a = [1,2,3]\n",
    "# b = list(a)\n",
    "b = a[:]\n",
    "\n",
    "b[0] = 100\n",
    "\n",
    "print(a)\n",
    "print(b)"
   ]
  },
  {
   "cell_type": "code",
   "execution_count": 104,
   "id": "07073732-8ed0-4b22-8fed-23ef2e69c9c1",
   "metadata": {},
   "outputs": [
    {
     "name": "stdout",
     "output_type": "stream",
     "text": [
      "[1, 2, [99, 1000]]\n",
      "[1, 2, [99, 1000]]\n"
     ]
    }
   ],
   "source": [
    "a = [1,2, [99,100]]\n",
    "b = a[:]\n",
    "# b= list(a)\n",
    "\n",
    "b[2][1] = 1000\n",
    "\n",
    "print(a)\n",
    "print(b)"
   ]
  },
  {
   "cell_type": "code",
   "execution_count": 106,
   "id": "7608b800-75e1-4be0-ad01-de819c925abb",
   "metadata": {},
   "outputs": [
    {
     "name": "stdout",
     "output_type": "stream",
     "text": [
      "[1, 2, [99, 100]]\n",
      "[1, 2, [99, 1000]]\n"
     ]
    }
   ],
   "source": [
    "import copy\n",
    "a = [1,2, [99,100]]\n",
    "b = copy.deepcopy(a) # 리스트 안에 리스트가 있는 경우 복제해 독립적으로 사용하고자 하는 경우\n",
    "\n",
    "b[2][1] = 1000\n",
    "\n",
    "print(a)\n",
    "print(b)"
   ]
  },
  {
   "cell_type": "markdown",
   "id": "8a0dff06-d619-4330-a6da-f1db8077023e",
   "metadata": {},
   "source": [
    "## list comprehension"
   ]
  },
  {
   "cell_type": "code",
   "execution_count": 108,
   "id": "ac79f0c2-4c6a-4fd6-80a5-bc624ba0fca1",
   "metadata": {},
   "outputs": [
    {
     "name": "stdout",
     "output_type": "stream",
     "text": [
      "[1, 2, 3, 4, 5, 6, 7, 8, 9, 10]\n"
     ]
    }
   ],
   "source": [
    "numbers = list(range(1, 11))\n",
    "print(numbers)"
   ]
  },
  {
   "cell_type": "code",
   "execution_count": 111,
   "id": "c3821750-768e-4dc7-a05b-22c2cc57534d",
   "metadata": {},
   "outputs": [
    {
     "name": "stdout",
     "output_type": "stream",
     "text": [
      "[1, 8, 27, 64, 125, 216, 343, 512, 729, 1000]\n"
     ]
    }
   ],
   "source": [
    "# [1,8,...1000] <= 3제곱만들기\n",
    "\n",
    "result = []\n",
    "\n",
    "for number in numbers:\n",
    "    result.append(number ** 3)\n",
    "    \n",
    "print(result)"
   ]
  },
  {
   "cell_type": "code",
   "execution_count": 116,
   "id": "9ce0d91a-d48d-4800-a658-327bfd31f5da",
   "metadata": {},
   "outputs": [
    {
     "name": "stdout",
     "output_type": "stream",
     "text": [
      "[1, 8, 27, 64, 125, 216, 343, 512, 729, 1000]\n"
     ]
    }
   ],
   "source": [
    "result2 = [ number ** 3 for number in numbers] # 이게 중요 \n",
    "print(result2)"
   ]
  },
  {
   "cell_type": "code",
   "execution_count": 117,
   "id": "b66994c4-cfc4-4964-b498-520c34c36f67",
   "metadata": {},
   "outputs": [
    {
     "name": "stdout",
     "output_type": "stream",
     "text": [
      "[2, 4, 6, 8, 10]\n"
     ]
    }
   ],
   "source": [
    "# 짝수만 고르기\n",
    "even_list = []\n",
    "\n",
    "for number in numbers:\n",
    "    if number % 2 == 0:\n",
    "        even_list.append(number)\n",
    "\n",
    "print(even_list)"
   ]
  },
  {
   "cell_type": "code",
   "execution_count": 118,
   "id": "8acbbc43-cf80-443d-8fda-1d424a0c5087",
   "metadata": {},
   "outputs": [
    {
     "name": "stdout",
     "output_type": "stream",
     "text": [
      "[2, 4, 6, 8, 10]\n"
     ]
    }
   ],
   "source": [
    "# 짝수만 고르기 (list comprehension)\n",
    "\n",
    "even_list2= [number for number in numbers if number % 2 == 0] ## \n",
    "print(even_list2)"
   ]
  },
  {
   "cell_type": "code",
   "execution_count": 144,
   "id": "7bdae600-bfff-4692-934d-d7172614053c",
   "metadata": {},
   "outputs": [],
   "source": [
    "words = 'my name is hong'\n",
    "vowels = 'aeiou'\n",
    "\n",
    "# => my nm s hng"
   ]
  },
  {
   "cell_type": "code",
   "execution_count": 145,
   "id": "256f2bb8-89a9-4ff4-91b5-e46086e2c0d6",
   "metadata": {},
   "outputs": [
    {
     "name": "stdout",
     "output_type": "stream",
     "text": [
      "['m', 'y', ' ', 'n', 'm', ' ', 's', ' ', 'h', 'n', 'g']\n",
      "my nm s hng\n"
     ]
    }
   ],
   "source": [
    "# 1. for문\n",
    "\n",
    "result = []\n",
    "\n",
    "for word in words:\n",
    "    if word not in vowels:\n",
    "        result.append(word)\n",
    "        \n",
    "print(result)\n",
    "print(''.join(result))"
   ]
  },
  {
   "cell_type": "code",
   "execution_count": 158,
   "id": "9f26026f-eb50-4531-b6a5-33a676f301d6",
   "metadata": {},
   "outputs": [
    {
     "name": "stdout",
     "output_type": "stream",
     "text": [
      "['m', 'y', ' ', 'n', 'm', ' ', 's', ' ', 'h', 'n', 'g']\n",
      "my nm s hng\n"
     ]
    }
   ],
   "source": [
    "# 2. list compreshension\n",
    "\n",
    "result=[ word for word in words if word not in vowels]  # 앞에 word는  result.append(word) 와 같다\n",
    "\n",
    "print(result)\n",
    "print(''.join(result))"
   ]
  },
  {
   "cell_type": "code",
   "execution_count": 159,
   "id": "bd4990a9-dcfd-430b-be83-04424832f8f6",
   "metadata": {},
   "outputs": [
    {
     "name": "stdout",
     "output_type": "stream",
     "text": [
      "my nm s hng\n"
     ]
    }
   ],
   "source": [
    "words = 'my name is hong'\n",
    "vowels = 'aeiou'\n",
    "\n",
    "for vowel in vowels:\n",
    "    words = words.replace(vowel,'')\n",
    "\n",
    "print(words)"
   ]
  },
  {
   "cell_type": "markdown",
   "id": "c7add52e-d0d9-44b8-807e-415eccc24b9d",
   "metadata": {},
   "source": [
    "# 딕셔너리 메소드"
   ]
  },
  {
   "cell_type": "code",
   "execution_count": 208,
   "id": "1361ef71-bd00-467c-ae8f-adc1e17ac600",
   "metadata": {},
   "outputs": [],
   "source": [
    "info = {\n",
    "    'name' : 'seungjun',\n",
    "    'location' : 'seoul'\n",
    "}"
   ]
  },
  {
   "cell_type": "code",
   "execution_count": 209,
   "id": "a596fa43-a4eb-47e9-b928-5b41066f113b",
   "metadata": {},
   "outputs": [
    {
     "name": "stdout",
     "output_type": "stream",
     "text": [
      "{'name': 'changhee', 'location': 'seoul'}\n"
     ]
    }
   ],
   "source": [
    "info['name'] = 'changhee'\n",
    "print(info)"
   ]
  },
  {
   "cell_type": "code",
   "execution_count": 210,
   "id": "fdd6d529-17d8-409b-b6ea-be2f12872e52",
   "metadata": {},
   "outputs": [
    {
     "name": "stdout",
     "output_type": "stream",
     "text": [
      "{'name': 'changhee', 'location': 'seoul'}\n",
      "seoul\n",
      "{'name': 'changhee'}\n",
      "None\n"
     ]
    }
   ],
   "source": [
    "# .pop(key[,default])\n",
    "print(info)\n",
    "print(info.pop('location'))\n",
    "\n",
    "print(info)\n",
    "print(info.pop('location', None)) #지워진 데이터에 hello 투입\n"
   ]
  },
  {
   "cell_type": "code",
   "execution_count": 211,
   "id": "5c11cd10-4bbe-4607-8fe8-dd863b98e724",
   "metadata": {},
   "outputs": [
    {
     "name": "stdout",
     "output_type": "stream",
     "text": [
      "{'name': 'park'}\n"
     ]
    }
   ],
   "source": [
    "#.update()\n",
    "info.update(name='park') # 이게 더 빠름\n",
    "print(info)"
   ]
  },
  {
   "cell_type": "code",
   "execution_count": 213,
   "id": "c3ee074b-a3eb-4450-aeb0-6f61a01bcdb2",
   "metadata": {},
   "outputs": [
    {
     "name": "stdout",
     "output_type": "stream",
     "text": [
      "park\n",
      "None\n",
      "해당키가 없습니다\n"
     ]
    }
   ],
   "source": [
    "#.get(key[,default])\n",
    "print(info.get('name'))\n",
    "print(info.get('phone')) \n",
    "print(info.get('phone','해당키가 없습니다')) "
   ]
  },
  {
   "cell_type": "markdown",
   "id": "86613b1c-adf6-4696-8f48-64b8a26a915c",
   "metadata": {},
   "source": [
    "# dict compreshension\n"
   ]
  },
  {
   "cell_type": "code",
   "execution_count": 220,
   "id": "8c0f2c4d-710a-46e6-88d0-693a87385e3e",
   "metadata": {},
   "outputs": [
    {
     "name": "stdout",
     "output_type": "stream",
     "text": [
      "{1: 1, 2: 8, 3: 27, 4: 64, 5: 125, 6: 216, 7: 343, 8: 512, 9: 729, 10: 1000}\n"
     ]
    }
   ],
   "source": [
    "#for\n",
    "# {1:1, 2: 8, ..}\n",
    "numbers = range(1,11)\n",
    "result = {}\n",
    "\n",
    "for number in numbers:  \n",
    "    result[number] = number ** 3 \n",
    "\n",
    "print(result)"
   ]
  },
  {
   "cell_type": "code",
   "execution_count": 221,
   "id": "3ba57e16-9b93-4914-8691-a8719de4ff2e",
   "metadata": {},
   "outputs": [
    {
     "name": "stdout",
     "output_type": "stream",
     "text": [
      "{1: 1, 2: 8, 3: 27, 4: 64, 5: 125, 6: 216, 7: 343, 8: 512, 9: 729, 10: 1000}\n"
     ]
    }
   ],
   "source": [
    "#compre\n",
    "result2 = {number : number ** 3 for number in range(1,11)} #빠름\n",
    "\n",
    "print(result2)"
   ]
  },
  {
   "cell_type": "code",
   "execution_count": 241,
   "id": "472eecd5-ced5-4565-9fb6-d61ea7a3ab80",
   "metadata": {},
   "outputs": [],
   "source": [
    "#\n",
    "dust ={\n",
    "    '서울' : 100,\n",
    "    '광주' : 30,\n",
    "    '대전' : 50,\n",
    "    '부산' : 70,\n",
    "    '제주' : 80\n",
    "}"
   ]
  },
  {
   "cell_type": "code",
   "execution_count": 244,
   "id": "01e21bb5-b632-49f7-8345-3bb759b0933f",
   "metadata": {},
   "outputs": [
    {
     "name": "stdout",
     "output_type": "stream",
     "text": [
      "{'서울': 100, '대전': 50, '부산': 70, '제주': 80}\n"
     ]
    }
   ],
   "source": [
    "#for문\n",
    "result= {}\n",
    "\n",
    "for k,v in dust.items():  \n",
    "    if v>=50:\n",
    "        result[k]=v\n",
    "\n",
    "print(result)\n",
    "    \n"
   ]
  },
  {
   "cell_type": "code",
   "execution_count": 245,
   "id": "173f0193-78b7-42f5-a9c6-90ea9b624540",
   "metadata": {},
   "outputs": [
    {
     "name": "stdout",
     "output_type": "stream",
     "text": [
      "{'서울': 100, '대전': 50, '부산': 70, '제주': 80}\n"
     ]
    }
   ],
   "source": [
    "#compre\n",
    "result2 = {k : v   for k,v in dust.items() if v >=50}\n",
    "print(result2)"
   ]
  },
  {
   "cell_type": "code",
   "execution_count": 248,
   "id": "a3d76b73-0207-4272-8fb0-da2340bd7842",
   "metadata": {},
   "outputs": [
    {
     "name": "stdout",
     "output_type": "stream",
     "text": [
      "{'서울': '좋음', '대전': '좋음', '부산': '좋음', '제주': '좋음'}\n"
     ]
    }
   ],
   "source": [
    "#compre\n",
    "result2 = {k : '좋음'   for k,v in dust.items() if v >=50}\n",
    "print(result2)"
   ]
  },
  {
   "cell_type": "markdown",
   "id": "7073f555-e04b-4284-a6fa-d22bfd0ce23f",
   "metadata": {},
   "source": [
    "# 세트 메소드 \n",
    "\n",
    "## 순서가 없는 집합"
   ]
  },
  {
   "cell_type": "code",
   "execution_count": 300,
   "id": "33daa687-5811-4c6d-9c57-1f41f83163c1",
   "metadata": {},
   "outputs": [],
   "source": [
    "fruits = {'apple','banana','melon'}"
   ]
  },
  {
   "cell_type": "code",
   "execution_count": 301,
   "id": "a9186fea-db69-45f0-88d8-60529cd32a75",
   "metadata": {},
   "outputs": [
    {
     "name": "stdout",
     "output_type": "stream",
     "text": [
      "{'watermelon', 'melon', 'banana', 'apple'}\n"
     ]
    }
   ],
   "source": [
    "# .add(x)\n",
    "fruits.add('watermelon')\n",
    "print(fruits)"
   ]
  },
  {
   "cell_type": "code",
   "execution_count": 302,
   "id": "aac6f333-38d7-4971-b212-6aafcf086b24",
   "metadata": {},
   "outputs": [
    {
     "name": "stdout",
     "output_type": "stream",
     "text": [
      "{'o', 'melon', 'a', 'banana', 'apple', 'n', 'e', 'watermelon', 'p', 'r', 'g'}\n"
     ]
    }
   ],
   "source": [
    "# .update()\n",
    "# fruits.update('grape')\n",
    "# print(fruits)\n",
    "\n",
    "fruits.update('grape','orange')\n",
    "print(fruits)\n"
   ]
  },
  {
   "cell_type": "code",
   "execution_count": 303,
   "id": "adba0610-0274-4f2e-9219-af0a16d6da28",
   "metadata": {},
   "outputs": [
    {
     "name": "stdout",
     "output_type": "stream",
     "text": [
      "{'o', 'melon', 'a', 'apple', 'n', 'e', 'watermelon', 'p', 'r', 'g'}\n"
     ]
    }
   ],
   "source": [
    "#.remove(x)\n",
    "\n",
    "fruits.remove('banana')\n",
    "print(fruits)"
   ]
  },
  {
   "cell_type": "code",
   "execution_count": 304,
   "id": "24a7a7d2-d110-4945-8332-2b536362cb10",
   "metadata": {},
   "outputs": [
    {
     "name": "stdout",
     "output_type": "stream",
     "text": [
      "{'melon', 'a', 'apple', 'n', 'e', 'watermelon', 'p', 'r', 'g'}\n"
     ]
    }
   ],
   "source": [
    "#.pop\n",
    "fruits.pop()\n",
    "print(fruits)"
   ]
  },
  {
   "cell_type": "markdown",
   "id": "12cbb8d9-f54a-4110-829b-5dbc765aae24",
   "metadata": {},
   "source": [
    "# map,filter,zip"
   ]
  },
  {
   "cell_type": "code",
   "execution_count": 298,
   "id": "9f432665-5c6d-44e2-a418-341d2db74ee3",
   "metadata": {},
   "outputs": [
    {
     "name": "stdout",
     "output_type": "stream",
     "text": [
      "<map object at 0x00000164A49B7D30>\n",
      "['1', '2', '3']\n"
     ]
    }
   ],
   "source": [
    "a = [1,2,3]\n",
    "number_str = map (str,a)\n",
    "print(number_str)\n",
    "print(list(number_str))"
   ]
  },
  {
   "cell_type": "code",
   "execution_count": 306,
   "id": "a54be826-13c2-4d5a-957e-1c24811f259f",
   "metadata": {},
   "outputs": [
    {
     "name": "stdout",
     "output_type": "stream",
     "text": [
      "125\n",
      "1000\n"
     ]
    }
   ],
   "source": [
    "def cube(x):\n",
    "    return x ** 3\n",
    "\n",
    "print(cube(5))\n",
    "print(cube(10))"
   ]
  },
  {
   "cell_type": "code",
   "execution_count": 307,
   "id": "6d4c9d89-da3a-457e-9c8e-32d1796594db",
   "metadata": {},
   "outputs": [
    {
     "name": "stdout",
     "output_type": "stream",
     "text": [
      "[1, 8, 27]\n"
     ]
    }
   ],
   "source": [
    "result = []\n",
    "for i in a:\n",
    "    result.append(i**3)\n",
    "\n",
    "print(result)"
   ]
  },
  {
   "cell_type": "code",
   "execution_count": 309,
   "id": "7a5b6843-a044-4163-9f5e-1591e93906bc",
   "metadata": {},
   "outputs": [
    {
     "name": "stdout",
     "output_type": "stream",
     "text": [
      "[1, 8, 27]\n"
     ]
    }
   ],
   "source": [
    "result2 = map(cube,a) # map 첫번쨰에 cube 함수 넣음\n",
    "print(list(result2))"
   ]
  },
  {
   "cell_type": "code",
   "execution_count": 310,
   "id": "c8171631-eef7-4873-87dd-df08c04fcb3e",
   "metadata": {},
   "outputs": [
    {
     "name": "stdout",
     "output_type": "stream",
     "text": [
      "[1, 3, 5, 7, 9]\n"
     ]
    }
   ],
   "source": [
    "a = '1 3 5 7 9'\n",
    "\n",
    "#numbers = [1,3,5,7,9]\n",
    "\n",
    "numbers = list(map(int,a.split()))\n",
    "print(numbers)"
   ]
  },
  {
   "cell_type": "markdown",
   "id": "e9fffc5c-7952-4c86-8452-8c559ddc5812",
   "metadata": {},
   "source": [
    "# filter(function,iterable)\n",
    "- filter에 들어가는 fuction은 T/F를 반환해야 합니다"
   ]
  },
  {
   "cell_type": "code",
   "execution_count": 319,
   "id": "3982475f-b363-42ac-95f6-8bc1fe28fdaa",
   "metadata": {},
   "outputs": [
    {
     "name": "stdout",
     "output_type": "stream",
     "text": [
      "True\n",
      "False\n"
     ]
    }
   ],
   "source": [
    "def is_odd(x):\n",
    "    # if x % 2 == 1:\n",
    "    #     return True\n",
    "    # else:\n",
    "    #     return False\n",
    "\n",
    "    return bool( x % 2)\n",
    "\n",
    "print(is_odd(5))\n",
    "print(is_odd(10))\n",
    "        "
   ]
  },
  {
   "cell_type": "code",
   "execution_count": 320,
   "id": "b2f95717-f52c-4f69-8713-c3e5732d9390",
   "metadata": {},
   "outputs": [],
   "source": [
    "numbers = [1,2,3,4,5]"
   ]
  },
  {
   "cell_type": "code",
   "execution_count": 321,
   "id": "a522d63b-76e5-4e86-9fc1-e811c8a5e798",
   "metadata": {},
   "outputs": [
    {
     "name": "stdout",
     "output_type": "stream",
     "text": [
      "[1, 3, 5]\n"
     ]
    }
   ],
   "source": [
    "#for\n",
    "\n",
    "result = []\n",
    "for number in numbers:\n",
    "    if is_odd(number):\n",
    "        result.append(number)\n",
    "\n",
    "print(result)"
   ]
  },
  {
   "cell_type": "code",
   "execution_count": 326,
   "id": "8b90a641-779b-474e-8d17-8e45a1ffb524",
   "metadata": {},
   "outputs": [
    {
     "name": "stdout",
     "output_type": "stream",
     "text": [
      "[1, 3, 5]\n"
     ]
    }
   ],
   "source": [
    "result2 = filter(is_odd,numbers)\n",
    "print(list(result2))"
   ]
  },
  {
   "cell_type": "markdown",
   "id": "079973ae-2428-4573-816c-d5323885723a",
   "metadata": {},
   "source": [
    "# zip\n"
   ]
  },
  {
   "cell_type": "code",
   "execution_count": 331,
   "id": "be71c41d-fb04-4816-9858-9377a758d516",
   "metadata": {},
   "outputs": [],
   "source": [
    "a = [1,2,3,4]\n",
    "b = [100,200,300,400,500]\n"
   ]
  },
  {
   "cell_type": "code",
   "execution_count": 332,
   "id": "e7a14c9b-5c3e-467f-a2c6-1671579da96a",
   "metadata": {},
   "outputs": [
    {
     "name": "stdout",
     "output_type": "stream",
     "text": [
      "<zip object at 0x00000164A481C980>\n",
      "[(1, 100), (2, 200), (3, 300), (4, 400)]\n"
     ]
    }
   ],
   "source": [
    "result = zip(a,b)\n",
    "print(result)\n",
    "print(list(result))"
   ]
  },
  {
   "cell_type": "code",
   "execution_count": null,
   "id": "5415d174-d723-4864-98c4-36c4547bc598",
   "metadata": {},
   "outputs": [],
   "source": []
  },
  {
   "cell_type": "code",
   "execution_count": null,
   "id": "26cece6c-6e79-4675-bcb1-8830cc880fa3",
   "metadata": {},
   "outputs": [],
   "source": []
  }
 ],
 "metadata": {
  "kernelspec": {
   "display_name": "Python 3 (ipykernel)",
   "language": "python",
   "name": "python3"
  },
  "language_info": {
   "codemirror_mode": {
    "name": "ipython",
    "version": 3
   },
   "file_extension": ".py",
   "mimetype": "text/x-python",
   "name": "python",
   "nbconvert_exporter": "python",
   "pygments_lexer": "ipython3",
   "version": "3.11.6"
  }
 },
 "nbformat": 4,
 "nbformat_minor": 5
}
