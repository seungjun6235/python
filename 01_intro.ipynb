{
 "cells": [
  {
   "cell_type": "markdown",
   "id": "19269be6-36bd-44c4-89af-a7cf41953fe0",
   "metadata": {},
   "source": [
    "# 01.intro"
   ]
  },
  {
   "cell_type": "markdown",
   "id": "fda32ef8-ebe6-42dc-947a-1335ac68b32c",
   "metadata": {},
   "source": [
    "## 단축키 \n",
    "\n",
    "- ctrl + enter : 지금 셀 실행\n",
    "- shift + enter : 지금 셀 실행 & 아래로 이동\n",
    "- alter + entter : 지금 셀 실행 & 아래에 새로운 셀 추가"
   ]
  },
  {
   "cell_type": "code",
   "execution_count": null,
   "id": "80916785-4974-44e8-bccd-d311abca4e76",
   "metadata": {},
   "outputs": [],
   "source": [
    "# 주석입니다."
   ]
  },
  {
   "cell_type": "markdown",
   "id": "d10dd5d9-9e3a-4055-807b-4e63036d69f8",
   "metadata": {},
   "source": [
    "# 1. 변수\n",
    "\n",
    "변수이름 '=' 값\n",
    "\n",
    "- 변수이름은 어떤 이름이든 상관없음\n",
    "- 영어, 숫자, '_'를 이용해 선언\n",
    "- 키워드는 사용불가"
   ]
  },
  {
   "cell_type": "code",
   "execution_count": 1,
   "id": "8817eb29-def0-446a-a9cf-a6b793c834a8",
   "metadata": {},
   "outputs": [],
   "source": [
    "a = 10"
   ]
  },
  {
   "cell_type": "code",
   "execution_count": 2,
   "id": "bf0e8536-3902-47da-a299-b7a71a4b7dec",
   "metadata": {},
   "outputs": [
    {
     "data": {
      "text/plain": [
       "10"
      ]
     },
     "execution_count": 2,
     "metadata": {},
     "output_type": "execute_result"
    }
   ],
   "source": [
    "a"
   ]
  },
  {
   "cell_type": "code",
   "execution_count": 3,
   "id": "f85641b2-d4c9-48a5-8847-8c57d039add5",
   "metadata": {},
   "outputs": [
    {
     "data": {
      "text/plain": [
       "['False',\n",
       " 'None',\n",
       " 'True',\n",
       " 'and',\n",
       " 'as',\n",
       " 'assert',\n",
       " 'async',\n",
       " 'await',\n",
       " 'break',\n",
       " 'class',\n",
       " 'continue',\n",
       " 'def',\n",
       " 'del',\n",
       " 'elif',\n",
       " 'else',\n",
       " 'except',\n",
       " 'finally',\n",
       " 'for',\n",
       " 'from',\n",
       " 'global',\n",
       " 'if',\n",
       " 'import',\n",
       " 'in',\n",
       " 'is',\n",
       " 'lambda',\n",
       " 'nonlocal',\n",
       " 'not',\n",
       " 'or',\n",
       " 'pass',\n",
       " 'raise',\n",
       " 'return',\n",
       " 'try',\n",
       " 'while',\n",
       " 'with',\n",
       " 'yield']"
      ]
     },
     "execution_count": 3,
     "metadata": {},
     "output_type": "execute_result"
    }
   ],
   "source": [
    "import keyword \n",
    "keyword.kwlist"
   ]
  },
  {
   "cell_type": "markdown",
   "id": "9cfd95a4-f619-4183-8e65-636b448eb7a4",
   "metadata": {},
   "source": [
    "# 1.1 number"
   ]
  },
  {
   "cell_type": "code",
   "execution_count": 7,
   "id": "b9de2871-34ff-4ed7-a5ba-b9418780be5f",
   "metadata": {},
   "outputs": [],
   "source": [
    "a = 100"
   ]
  },
  {
   "cell_type": "code",
   "execution_count": 8,
   "id": "fbb12f85-e737-4c1a-847d-c629dc284811",
   "metadata": {},
   "outputs": [
    {
     "data": {
      "text/plain": [
       "100"
      ]
     },
     "execution_count": 8,
     "metadata": {},
     "output_type": "execute_result"
    }
   ],
   "source": [
    "a"
   ]
  },
  {
   "cell_type": "code",
   "execution_count": 9,
   "id": "f4361a63-de00-4f5c-8e8c-234e774b03ae",
   "metadata": {},
   "outputs": [
    {
     "data": {
      "text/plain": [
       "int"
      ]
     },
     "execution_count": 9,
     "metadata": {},
     "output_type": "execute_result"
    }
   ],
   "source": [
    "type(a)"
   ]
  },
  {
   "cell_type": "code",
   "execution_count": 10,
   "id": "c72ef3ea-d2db-4ef3-b51c-fd158920cade",
   "metadata": {},
   "outputs": [],
   "source": [
    "b = 1.1"
   ]
  },
  {
   "cell_type": "code",
   "execution_count": 11,
   "id": "75417144-c44e-49de-8198-495e40af5ad6",
   "metadata": {},
   "outputs": [
    {
     "data": {
      "text/plain": [
       "1.1"
      ]
     },
     "execution_count": 11,
     "metadata": {},
     "output_type": "execute_result"
    }
   ],
   "source": [
    "b"
   ]
  },
  {
   "cell_type": "code",
   "execution_count": 12,
   "id": "27ede7f4-c39d-4b53-9306-01ee67a15067",
   "metadata": {},
   "outputs": [
    {
     "data": {
      "text/plain": [
       "float"
      ]
     },
     "execution_count": 12,
     "metadata": {},
     "output_type": "execute_result"
    }
   ],
   "source": [
    "type(b)"
   ]
  },
  {
   "cell_type": "code",
   "execution_count": 13,
   "id": "33e757b6-eb8e-4715-b23a-fa43e59a3e44",
   "metadata": {},
   "outputs": [],
   "source": [
    "c = 1 - 4j"
   ]
  },
  {
   "cell_type": "code",
   "execution_count": 14,
   "id": "5056bf2b-b116-440e-9b5f-5a12895016db",
   "metadata": {},
   "outputs": [
    {
     "data": {
      "text/plain": [
       "(1-4j)"
      ]
     },
     "execution_count": 14,
     "metadata": {},
     "output_type": "execute_result"
    }
   ],
   "source": [
    "c"
   ]
  },
  {
   "cell_type": "code",
   "execution_count": 15,
   "id": "375e7719-09b4-4eb8-bc97-a25086af8b07",
   "metadata": {},
   "outputs": [
    {
     "data": {
      "text/plain": [
       "complex"
      ]
     },
     "execution_count": 15,
     "metadata": {},
     "output_type": "execute_result"
    }
   ],
   "source": [
    "type(c)"
   ]
  },
  {
   "cell_type": "code",
   "execution_count": 16,
   "id": "54462f1c-4297-4a63-a4ae-33780d79021b",
   "metadata": {},
   "outputs": [
    {
     "data": {
      "text/plain": [
       "-4.0"
      ]
     },
     "execution_count": 16,
     "metadata": {},
     "output_type": "execute_result"
    }
   ],
   "source": [
    "c. imag"
   ]
  },
  {
   "cell_type": "code",
   "execution_count": 17,
   "id": "a981ab16-52ba-4953-b3e4-d820002964f4",
   "metadata": {},
   "outputs": [
    {
     "data": {
      "text/plain": [
       "1.0"
      ]
     },
     "execution_count": 17,
     "metadata": {},
     "output_type": "execute_result"
    }
   ],
   "source": [
    "c.real"
   ]
  },
  {
   "cell_type": "markdown",
   "id": "e70b2a8e-0ceb-40a6-b19d-465d1dfce44c",
   "metadata": {},
   "source": [
    "# 1.2 boolean\n",
    "\n",
    "`True`, `False`로 이루어진 타입"
   ]
  },
  {
   "cell_type": "code",
   "execution_count": 18,
   "id": "375593d2-1b3d-421c-882f-51480f8156e1",
   "metadata": {},
   "outputs": [],
   "source": [
    "a = True"
   ]
  },
  {
   "cell_type": "code",
   "execution_count": 19,
   "id": "e111bae8-ebff-40e8-9f2c-8ed805592a9a",
   "metadata": {},
   "outputs": [
    {
     "data": {
      "text/plain": [
       "bool"
      ]
     },
     "execution_count": 19,
     "metadata": {},
     "output_type": "execute_result"
    }
   ],
   "source": [
    "type(a)"
   ]
  },
  {
   "cell_type": "markdown",
   "id": "f4cba33a-15bf-45a0-883a-e59f1470a0fd",
   "metadata": {},
   "source": [
    "# 1.3 NONE\n",
    "\n",
    "데이터가 없음을 의미"
   ]
  },
  {
   "cell_type": "code",
   "execution_count": 20,
   "id": "47a31eed-4239-4576-af91-73f011b9e483",
   "metadata": {},
   "outputs": [],
   "source": [
    "a = None"
   ]
  },
  {
   "cell_type": "code",
   "execution_count": 21,
   "id": "99bcc5d6-6018-4bec-9eed-c1f27c408e2d",
   "metadata": {},
   "outputs": [
    {
     "data": {
      "text/plain": [
       "NoneType"
      ]
     },
     "execution_count": 21,
     "metadata": {},
     "output_type": "execute_result"
    }
   ],
   "source": [
    "type(a)"
   ]
  },
  {
   "cell_type": "markdown",
   "id": "a7dfbf82-2d70-40ab-baaa-f4cd6d6c1f8e",
   "metadata": {},
   "source": [
    "# 1.4 String\n",
    "- 문자열은 `'`,`\"`를 이용하여 표현"
   ]
  },
  {
   "cell_type": "code",
   "execution_count": 23,
   "id": "e1a739f8-0ff0-4f97-a1b9-670d6aeabda6",
   "metadata": {},
   "outputs": [],
   "source": [
    "a = 'hello'"
   ]
  },
  {
   "cell_type": "code",
   "execution_count": 24,
   "id": "1fc16365-8222-4bec-880c-fa48e5aa4f05",
   "metadata": {},
   "outputs": [
    {
     "data": {
      "text/plain": [
       "str"
      ]
     },
     "execution_count": 24,
     "metadata": {},
     "output_type": "execute_result"
    }
   ],
   "source": [
    "type(a)"
   ]
  },
  {
   "cell_type": "code",
   "execution_count": 25,
   "id": "7327f3ba-e922-40ad-a913-49b601b99501",
   "metadata": {},
   "outputs": [],
   "source": [
    "b = \"world\""
   ]
  },
  {
   "cell_type": "code",
   "execution_count": 26,
   "id": "d8c81cfe-fb3e-4867-b78a-71f7eaba4a32",
   "metadata": {},
   "outputs": [
    {
     "data": {
      "text/plain": [
       "str"
      ]
     },
     "execution_count": 26,
     "metadata": {},
     "output_type": "execute_result"
    }
   ],
   "source": [
    "type(b)"
   ]
  },
  {
   "cell_type": "code",
   "execution_count": 43,
   "id": "4f75b013-122f-489a-92e1-5d2a8fdb78a8",
   "metadata": {},
   "outputs": [
    {
     "name": "stdin",
     "output_type": "stream",
     "text": [
      " 111\n"
     ]
    }
   ],
   "source": [
    "age = input()"
   ]
  },
  {
   "cell_type": "code",
   "execution_count": 44,
   "id": "e25a48fb-ffe8-4d5b-be70-a5fbf86d032e",
   "metadata": {},
   "outputs": [
    {
     "data": {
      "text/plain": [
       "'111'"
      ]
     },
     "execution_count": 44,
     "metadata": {},
     "output_type": "execute_result"
    }
   ],
   "source": [
    "age"
   ]
  },
  {
   "cell_type": "code",
   "execution_count": 45,
   "id": "c89af3f4-b019-4763-bdf0-02dc63b977a0",
   "metadata": {},
   "outputs": [
    {
     "data": {
      "text/plain": [
       "str"
      ]
     },
     "execution_count": 45,
     "metadata": {},
     "output_type": "execute_result"
    }
   ],
   "source": [
    "type(age)"
   ]
  },
  {
   "cell_type": "code",
   "execution_count": 48,
   "id": "3afc3851-f5c4-42b9-a733-33c2697c26f4",
   "metadata": {},
   "outputs": [
    {
     "name": "stdout",
     "output_type": "stream",
     "text": [
      "안녕하세요 \"곽승준\"입니다\n"
     ]
    }
   ],
   "source": [
    "print('안녕하세요 \"곽승준\"입니다')"
   ]
  },
  {
   "cell_type": "code",
   "execution_count": 41,
   "id": "cb2f7a5a-eab8-4d76-9e26-5c0dbbc46f69",
   "metadata": {},
   "outputs": [
    {
     "name": "stdout",
     "output_type": "stream",
     "text": [
      "안녕하세요 \"곽승준\"입니다\n"
     ]
    }
   ],
   "source": [
    "print(\"안녕하세요 \\\"곽승준\\\"입니다\")"
   ]
  },
  {
   "cell_type": "code",
   "execution_count": 52,
   "id": "63be977d-172e-4c5c-8497-7b9396cec470",
   "metadata": {},
   "outputs": [],
   "source": [
    "a = '''\n",
    "여기는 \\n문자열입니다.\n",
    "여러\\t줄을 작성가능합니다\n",
    "'''"
   ]
  },
  {
   "cell_type": "code",
   "execution_count": 53,
   "id": "bc7bfa87-427e-4ff6-ae5d-5ceacc07b05e",
   "metadata": {},
   "outputs": [
    {
     "name": "stdout",
     "output_type": "stream",
     "text": [
      "\n",
      "여기는 \n",
      "문자열입니다.\n",
      "여러\t줄을 작성가능합니다\n",
      "\n"
     ]
    }
   ],
   "source": [
    "print(a)"
   ]
  },
  {
   "cell_type": "code",
   "execution_count": 54,
   "id": "20794e1f-ac9c-4911-b0f2-9354432f87da",
   "metadata": {},
   "outputs": [
    {
     "name": "stdout",
     "output_type": "stream",
     "text": [
      "하나 둘 셋\n"
     ]
    }
   ],
   "source": [
    "print('하나','둘','셋')"
   ]
  },
  {
   "cell_type": "markdown",
   "id": "0323959c-9e38-48d6-8a5b-e795c65476fc",
   "metadata": {},
   "source": [
    "# String interpolation\n",
    "\n",
    "1. %-formatting\n",
    "2. str.format()\n",
    "3. f-string"
   ]
  },
  {
   "cell_type": "code",
   "execution_count": 58,
   "id": "d38e9e51-2df7-4a29-a97d-c27724079222",
   "metadata": {},
   "outputs": [],
   "source": [
    "age = 100"
   ]
  },
  {
   "cell_type": "code",
   "execution_count": 59,
   "id": "626ff58d-41e2-4e4a-886d-86ec595844e9",
   "metadata": {},
   "outputs": [
    {
     "name": "stdout",
     "output_type": "stream",
     "text": [
      "홍길동은 100살입니다\n"
     ]
    }
   ],
   "source": [
    "print('홍길동은 %s살입니다' %age)"
   ]
  },
  {
   "cell_type": "code",
   "execution_count": 60,
   "id": "fb801f6d-1393-4f23-b72d-d7266228f366",
   "metadata": {},
   "outputs": [
    {
     "name": "stdout",
     "output_type": "stream",
     "text": [
      "홍길동은 100살입니다\n"
     ]
    }
   ],
   "source": [
    "print('홍길동은 {}살입니다'.format(age))"
   ]
  },
  {
   "cell_type": "code",
   "execution_count": 62,
   "id": "523c7413-7833-466f-a93e-162fbc5a7f35",
   "metadata": {},
   "outputs": [
    {
     "name": "stdout",
     "output_type": "stream",
     "text": [
      "홍길동은 100살입니다.\n"
     ]
    }
   ],
   "source": [
    "print(f'홍길동은 {age}살입니다.')"
   ]
  },
  {
   "cell_type": "markdown",
   "id": "e5491d51-1f63-4434-a528-60c4f7d29685",
   "metadata": {},
   "source": [
    "# 2. 연산자\n",
    "\n",
    "## 2.1 산술연산자"
   ]
  },
  {
   "cell_type": "code",
   "execution_count": 131,
   "id": "335cd9ff-6440-4c8e-b456-a7e9e181b00b",
   "metadata": {},
   "outputs": [],
   "source": [
    "a = 2\n",
    "b = 3"
   ]
  },
  {
   "cell_type": "code",
   "execution_count": 132,
   "id": "5a9570e6-536e-46c8-96b8-2daa50a143e5",
   "metadata": {},
   "outputs": [
    {
     "name": "stdout",
     "output_type": "stream",
     "text": [
      "5\n",
      "-1\n",
      "6\n",
      "0.6666666666666666\n",
      "2\n"
     ]
    }
   ],
   "source": [
    "print(a+b)\n",
    "print(a-b)\n",
    "print(a*b)\n",
    "print(a/b) # 나눈 값\n",
    "print(a%b)"
   ]
  },
  {
   "cell_type": "code",
   "execution_count": 133,
   "id": "387285ce-5f91-44e9-8010-42231d75f159",
   "metadata": {},
   "outputs": [
    {
     "data": {
      "text/plain": [
       "-1"
      ]
     },
     "execution_count": 133,
     "metadata": {},
     "output_type": "execute_result"
    }
   ],
   "source": [
    "a + b\n",
    "a - b"
   ]
  },
  {
   "cell_type": "code",
   "execution_count": 78,
   "id": "293b3cb3-726c-43e9-b1a4-065eb25bb77e",
   "metadata": {},
   "outputs": [
    {
     "name": "stdout",
     "output_type": "stream",
     "text": [
      "8\n",
      "0\n",
      "(0, 2)\n"
     ]
    }
   ],
   "source": [
    "print(a**b)\n",
    "print(a//b) # 나눈 몫\n",
    "\n",
    "# mod\n",
    "print(divmod(a,b))"
   ]
  },
  {
   "cell_type": "markdown",
   "id": "ef7f1e77-06d7-45fe-84a7-be3088c7ec63",
   "metadata": {},
   "source": [
    "# 2.2 비교연산자"
   ]
  },
  {
   "cell_type": "code",
   "execution_count": 80,
   "id": "93fff076-7422-47de-a0ff-05a4497470fb",
   "metadata": {},
   "outputs": [],
   "source": [
    "a = 5\n",
    "b = 10"
   ]
  },
  {
   "cell_type": "code",
   "execution_count": 84,
   "id": "a964e488-41cd-4f21-9c2f-7e3ced4aa8cd",
   "metadata": {},
   "outputs": [
    {
     "name": "stdout",
     "output_type": "stream",
     "text": [
      "False\n",
      "True\n",
      "False\n",
      "True\n"
     ]
    }
   ],
   "source": [
    "print(a > b)\n",
    "print(a < b)\n",
    "print(a >= b)\n",
    "print(a <= b)"
   ]
  },
  {
   "cell_type": "code",
   "execution_count": 86,
   "id": "00f20699-33bd-418c-a784-fc4b2325f1bd",
   "metadata": {},
   "outputs": [
    {
     "name": "stdout",
     "output_type": "stream",
     "text": [
      "False\n",
      "True\n"
     ]
    }
   ],
   "source": [
    "print(a == b)\n",
    "print(a != b)"
   ]
  },
  {
   "cell_type": "code",
   "execution_count": 88,
   "id": "c6f8afd4-b7a5-4360-8559-01831c9f06be",
   "metadata": {},
   "outputs": [
    {
     "name": "stdout",
     "output_type": "stream",
     "text": [
      "True\n",
      "False\n"
     ]
    }
   ],
   "source": [
    "print('hi' == 'hi')\n",
    "print('hi' == 'Hi')"
   ]
  },
  {
   "cell_type": "markdown",
   "id": "2c6ccd41-a17a-40b8-9aa5-23359a2bdf9d",
   "metadata": {},
   "source": [
    "# 2.3 논리연산자\n",
    "\n",
    "- `not` : 값을 반대로 전환"
   ]
  },
  {
   "cell_type": "code",
   "execution_count": 91,
   "id": "5fe1a3ce-70cc-4143-b46b-eeff072e1429",
   "metadata": {},
   "outputs": [
    {
     "name": "stdout",
     "output_type": "stream",
     "text": [
      "True\n",
      "False\n",
      "False\n",
      "False\n"
     ]
    }
   ],
   "source": [
    "print(True and True)\n",
    "print(True and False)\n",
    "print(False and True)\n",
    "print(False and False)"
   ]
  },
  {
   "cell_type": "code",
   "execution_count": 92,
   "id": "34247cba-b40e-4ef8-acb7-bc262367f09e",
   "metadata": {},
   "outputs": [
    {
     "name": "stdout",
     "output_type": "stream",
     "text": [
      "True\n",
      "True\n",
      "True\n",
      "False\n"
     ]
    }
   ],
   "source": [
    "print(True or True)\n",
    "print(True or False)\n",
    "print(False or True)\n",
    "print(False or False)"
   ]
  },
  {
   "cell_type": "code",
   "execution_count": 95,
   "id": "78fa9a8a-d9a6-4e3a-a04b-eef84a22792c",
   "metadata": {},
   "outputs": [
    {
     "name": "stdout",
     "output_type": "stream",
     "text": [
      "False\n",
      "False\n"
     ]
    }
   ],
   "source": [
    "print(not True)\n",
    "\n",
    "a = True\n",
    "print(not a)"
   ]
  },
  {
   "cell_type": "code",
   "execution_count": 98,
   "id": "e3517662-7e6c-45b3-a309-88203fb1aba0",
   "metadata": {},
   "outputs": [
    {
     "name": "stdout",
     "output_type": "stream",
     "text": [
      "5\n",
      "0\n",
      "0\n",
      "0\n"
     ]
    }
   ],
   "source": [
    "# 단축평가(and)\n",
    "print(3 and 5)\n",
    "print(3 and 0)\n",
    "print(0 and 5)\n",
    "print(0 and 0)"
   ]
  },
  {
   "cell_type": "markdown",
   "id": "9a664b2e-ca13-466e-80bb-24e9bd2bc6fc",
   "metadata": {},
   "source": [
    "print(3 or 5)\n",
    "print(3 or 0)\n",
    "print(0 or 5)\n",
    "print(0 or 0)"
   ]
  },
  {
   "cell_type": "code",
   "execution_count": 100,
   "id": "05d12ba4-ee77-495c-9fef-6b11fecb4d55",
   "metadata": {},
   "outputs": [
    {
     "name": "stdout",
     "output_type": "stream",
     "text": [
      "index.html\n"
     ]
    }
   ],
   "source": [
    "print(None or 'index.html')"
   ]
  },
  {
   "cell_type": "code",
   "execution_count": 101,
   "id": "418de585-0a62-4030-aeff-186dbfbdccdb",
   "metadata": {},
   "outputs": [
    {
     "name": "stdout",
     "output_type": "stream",
     "text": [
      "login.html\n"
     ]
    }
   ],
   "source": [
    "print('login.html' or 'index.html')"
   ]
  },
  {
   "cell_type": "markdown",
   "id": "501d1b9f-30e7-4cac-ba7d-488f20697483",
   "metadata": {},
   "source": [
    "# 2.4 복합연산자"
   ]
  },
  {
   "cell_type": "code",
   "execution_count": 115,
   "id": "d5a364c7-669b-4bbd-ada8-da385a4031bf",
   "metadata": {},
   "outputs": [],
   "source": [
    "a=2\n",
    "b=3"
   ]
  },
  {
   "cell_type": "code",
   "execution_count": 116,
   "id": "e56fb2fc-0fff-4300-b4f6-1e0a391bcdbb",
   "metadata": {},
   "outputs": [],
   "source": [
    "a = a + b\n",
    "a = a - b"
   ]
  },
  {
   "cell_type": "code",
   "execution_count": 117,
   "id": "fea539b6-e307-4999-8ae2-227d84d7dddc",
   "metadata": {},
   "outputs": [
    {
     "name": "stdout",
     "output_type": "stream",
     "text": [
      "2\n"
     ]
    }
   ],
   "source": [
    "print(a)"
   ]
  },
  {
   "cell_type": "code",
   "execution_count": 119,
   "id": "d7d8f92f-0bf6-4270-9fb5-ebf1eba54df7",
   "metadata": {},
   "outputs": [
    {
     "name": "stdout",
     "output_type": "stream",
     "text": [
      "8.0\n"
     ]
    }
   ],
   "source": [
    "a += b\n",
    "a -= b\n",
    "a *= b\n",
    "a /= b\n",
    "a //= b\n",
    "a %= b\n",
    "a **= b\n",
    "print(a)"
   ]
  },
  {
   "cell_type": "markdown",
   "id": "735ddcc3-9a19-4233-90aa-0508a11bf9cc",
   "metadata": {},
   "source": [
    "# 2.5 기타연산자"
   ]
  },
  {
   "cell_type": "code",
   "execution_count": 120,
   "id": "dcb9f112-2cb2-422e-a408-d541b3c87f24",
   "metadata": {},
   "outputs": [],
   "source": [
    "a = 'hi'\n",
    "b = 'hello'"
   ]
  },
  {
   "cell_type": "code",
   "execution_count": 123,
   "id": "eb473ec1-3598-4a7a-80a7-65d06fb5dc5f",
   "metadata": {},
   "outputs": [
    {
     "data": {
      "text/plain": [
       "'hihello'"
      ]
     },
     "execution_count": 123,
     "metadata": {},
     "output_type": "execute_result"
    }
   ],
   "source": [
    "#concatenation\n",
    "a + b"
   ]
  },
  {
   "cell_type": "code",
   "execution_count": 127,
   "id": "31d265d6-eeef-41ff-b219-8318aca22d67",
   "metadata": {},
   "outputs": [],
   "source": [
    "a = [1,2,3]\n",
    "b = [9,8,7]"
   ]
  },
  {
   "cell_type": "code",
   "execution_count": 135,
   "id": "4d44e6f0-4d27-4017-9b35-9057c6391850",
   "metadata": {},
   "outputs": [
    {
     "data": {
      "text/plain": [
       "5"
      ]
     },
     "execution_count": 135,
     "metadata": {},
     "output_type": "execute_result"
    }
   ],
   "source": [
    "a + b"
   ]
  },
  {
   "cell_type": "code",
   "execution_count": 137,
   "id": "32f6e840-ac89-4cc0-b199-e744b0adc802",
   "metadata": {},
   "outputs": [
    {
     "name": "stdout",
     "output_type": "stream",
     "text": [
      "True\n",
      "False\n"
     ]
    }
   ],
   "source": [
    "print('a' in 'apple')\n",
    "print('z' in 'apple')"
   ]
  },
  {
   "cell_type": "code",
   "execution_count": 139,
   "id": "899b285d-4c31-4b1c-9993-b301631f00f6",
   "metadata": {},
   "outputs": [
    {
     "name": "stdout",
     "output_type": "stream",
     "text": [
      "True\n",
      "False\n"
     ]
    }
   ],
   "source": [
    "print(1 in [1,2,3])\n",
    "print(100 in [1,2,3])"
   ]
  },
  {
   "cell_type": "code",
   "execution_count": 140,
   "id": "e38ef216-4ebf-49c8-b7d7-e8abc2a5d569",
   "metadata": {},
   "outputs": [
    {
     "name": "stdout",
     "output_type": "stream",
     "text": [
      "False\n"
     ]
    }
   ],
   "source": [
    "a=123123\n",
    "b=123123\n",
    "print(a is b)"
   ]
  },
  {
   "cell_type": "code",
   "execution_count": 144,
   "id": "c5dbd5cc-92b0-4f31-b279-a74ef0df968a",
   "metadata": {},
   "outputs": [
    {
     "name": "stdout",
     "output_type": "stream",
     "text": [
      "True\n"
     ]
    }
   ],
   "source": [
    "a=10\n",
    "b=10\n",
    "print(a is b)"
   ]
  },
  {
   "cell_type": "markdown",
   "id": "2b260327-54b7-437b-8a7a-58366dd9f8bc",
   "metadata": {},
   "source": [
    "## 연산자 우선순위\n",
    "\n",
    "0. ()를 통해 그룹\n",
    "1. **\n",
    "2. 산술연산사(*,/)\n",
    "3. +,-\n",
    "4. 비교연산자,is,in\n",
    "5. not\n",
    "6. and,or"
   ]
  },
  {
   "cell_type": "code",
   "execution_count": 147,
   "id": "d2c08627-0c21-4570-8242-294a3b1cc2b0",
   "metadata": {},
   "outputs": [
    {
     "name": "stdout",
     "output_type": "stream",
     "text": [
      "-81\n",
      "81\n"
     ]
    }
   ],
   "source": [
    "print(-3**4)\n",
    "print((-3)**4)"
   ]
  },
  {
   "cell_type": "markdown",
   "id": "e2cae507-8f20-4484-8970-6bce8b2ed101",
   "metadata": {},
   "source": [
    "# 3. 형변환\n",
    "## 3.1 암시적 형변환"
   ]
  },
  {
   "cell_type": "code",
   "execution_count": 148,
   "id": "24f47ec5-1222-407e-aeda-136d3946d8c2",
   "metadata": {},
   "outputs": [],
   "source": [
    "a = True\n",
    "b = False\n",
    "c = 1"
   ]
  },
  {
   "cell_type": "code",
   "execution_count": 149,
   "id": "b25a26be-94e9-4f76-a38c-8774c33ae030",
   "metadata": {},
   "outputs": [
    {
     "name": "stdout",
     "output_type": "stream",
     "text": [
      "2\n"
     ]
    }
   ],
   "source": [
    "print(a+c)"
   ]
  },
  {
   "cell_type": "code",
   "execution_count": 151,
   "id": "8fa9aae9-dd00-4181-94bd-a214f83230eb",
   "metadata": {},
   "outputs": [],
   "source": [
    "int_num = 3\n",
    "float_num = 3.3\n",
    "complex_num = 3+3j"
   ]
  },
  {
   "cell_type": "code",
   "execution_count": 153,
   "id": "dbf0f069-3bac-4ddc-8705-a1f0ef9caa6b",
   "metadata": {},
   "outputs": [
    {
     "name": "stdout",
     "output_type": "stream",
     "text": [
      "6.3\n",
      "(6+3j)\n"
     ]
    }
   ],
   "source": [
    "print(int_num + float_num)\n",
    "print(int_num + complex_num)"
   ]
  },
  {
   "cell_type": "code",
   "execution_count": 180,
   "id": "27b7c4cd-142d-492c-8177-c9210e139064",
   "metadata": {},
   "outputs": [],
   "source": [
    "a = 1\n",
    "b = '번'"
   ]
  },
  {
   "cell_type": "code",
   "execution_count": 181,
   "id": "af5dcdde-e0bf-46f8-8627-f6ea5d80acd0",
   "metadata": {},
   "outputs": [
    {
     "ename": "TypeError",
     "evalue": "unsupported operand type(s) for +: 'int' and 'str'",
     "output_type": "error",
     "traceback": [
      "\u001b[1;31m---------------------------------------------------------------------------\u001b[0m",
      "\u001b[1;31mTypeError\u001b[0m                                 Traceback (most recent call last)",
      "Cell \u001b[1;32mIn[181], line 1\u001b[0m\n\u001b[1;32m----> 1\u001b[0m \u001b[43ma\u001b[49m\u001b[38;5;241;43m+\u001b[39;49m\u001b[43mb\u001b[49m\n",
      "\u001b[1;31mTypeError\u001b[0m: unsupported operand type(s) for +: 'int' and 'str'"
     ]
    }
   ],
   "source": [
    "a+b"
   ]
  },
  {
   "cell_type": "code",
   "execution_count": 182,
   "id": "fcc16f1b-3fe1-491d-bf22-1ebc16397e5f",
   "metadata": {},
   "outputs": [
    {
     "name": "stdout",
     "output_type": "stream",
     "text": [
      "1번\n"
     ]
    }
   ],
   "source": [
    "print(str(a)+b) "
   ]
  },
  {
   "cell_type": "code",
   "execution_count": 183,
   "id": "e87feaa0-b634-47d0-a419-ba8e4df2783f",
   "metadata": {},
   "outputs": [],
   "source": [
    "a = '100'"
   ]
  },
  {
   "cell_type": "code",
   "execution_count": 185,
   "id": "ae38ebf3-a8dc-4607-ad8e-9eabb8492be7",
   "metadata": {},
   "outputs": [
    {
     "name": "stdout",
     "output_type": "stream",
     "text": [
      "<class 'int'>\n"
     ]
    }
   ],
   "source": [
    "print(type(int(a)))"
   ]
  },
  {
   "cell_type": "markdown",
   "id": "d07b2e94-310d-4640-a66d-64f1aa6d4ada",
   "metadata": {},
   "source": [
    "age = int(input())\n"
   ]
  },
  {
   "cell_type": "code",
   "execution_count": 186,
   "id": "6a6c6e58-f6d9-41c1-9638-1e5cea37dbf9",
   "metadata": {},
   "outputs": [
    {
     "data": {
      "text/plain": [
       "123123"
      ]
     },
     "execution_count": 186,
     "metadata": {},
     "output_type": "execute_result"
    }
   ],
   "source": [
    "123123"
   ]
  },
  {
   "cell_type": "code",
   "execution_count": 187,
   "id": "b5505f5a-3c79-48f3-be8a-a56f52f60ba4",
   "metadata": {},
   "outputs": [
    {
     "name": "stdout",
     "output_type": "stream",
     "text": [
      "<class 'int'>\n"
     ]
    }
   ],
   "source": [
    "print(type(age))"
   ]
  },
  {
   "cell_type": "code",
   "execution_count": 172,
   "id": "459c6786-9837-48ea-b172-73154aac37a5",
   "metadata": {},
   "outputs": [],
   "source": [
    "a = '3.3'"
   ]
  },
  {
   "cell_type": "code",
   "execution_count": 173,
   "id": "0fcacb98-df62-42fd-b4d5-09f9e28cd02c",
   "metadata": {},
   "outputs": [
    {
     "ename": "ValueError",
     "evalue": "invalid literal for int() with base 10: '3.3'",
     "output_type": "error",
     "traceback": [
      "\u001b[1;31m---------------------------------------------------------------------------\u001b[0m",
      "\u001b[1;31mValueError\u001b[0m                                Traceback (most recent call last)",
      "Cell \u001b[1;32mIn[173], line 1\u001b[0m\n\u001b[1;32m----> 1\u001b[0m \u001b[38;5;28mtype\u001b[39m(\u001b[38;5;28;43mint\u001b[39;49m\u001b[43m(\u001b[49m\u001b[43ma\u001b[49m\u001b[43m)\u001b[49m)\n",
      "\u001b[1;31mValueError\u001b[0m: invalid literal for int() with base 10: '3.3'"
     ]
    }
   ],
   "source": [
    "type(int(a))"
   ]
  },
  {
   "cell_type": "code",
   "execution_count": 188,
   "id": "2422c0c0-5172-4d1f-bc5b-7c2b5cbee6d0",
   "metadata": {},
   "outputs": [
    {
     "data": {
      "text/plain": [
       "float"
      ]
     },
     "execution_count": 188,
     "metadata": {},
     "output_type": "execute_result"
    }
   ],
   "source": [
    "type(float(a))"
   ]
  },
  {
   "cell_type": "code",
   "execution_count": 189,
   "id": "32f46ff6-6321-444d-9643-14ce9eb158e5",
   "metadata": {},
   "outputs": [],
   "source": [
    "a = 1\n",
    "b = 0\n",
    "c = 100"
   ]
  },
  {
   "cell_type": "code",
   "execution_count": 190,
   "id": "28cbb54b-477f-44da-a684-1d46d0e98f55",
   "metadata": {},
   "outputs": [
    {
     "name": "stdout",
     "output_type": "stream",
     "text": [
      "True\n",
      "False\n",
      "True\n"
     ]
    }
   ],
   "source": [
    "print(bool(a))\n",
    "print(bool(b))\n",
    "print(bool(c))"
   ]
  },
  {
   "cell_type": "code",
   "execution_count": 191,
   "id": "cefd9cd4-f474-41b1-a406-232297d935f8",
   "metadata": {},
   "outputs": [
    {
     "name": "stdout",
     "output_type": "stream",
     "text": [
      "False\n",
      "True\n"
     ]
    }
   ],
   "source": [
    "print(bool(''))\n",
    "print(bool(a))"
   ]
  },
  {
   "cell_type": "code",
   "execution_count": 193,
   "id": "8cb726a9-dfdd-4eb2-b27f-25f01ef98e1a",
   "metadata": {},
   "outputs": [
    {
     "name": "stdout",
     "output_type": "stream",
     "text": [
      "False\n",
      "True\n"
     ]
    }
   ],
   "source": [
    "print(bool([]))\n",
    "print(bool([1,2,3]))"
   ]
  },
  {
   "cell_type": "markdown",
   "id": "867082b9-0cec-4f3e-b4de-7e408cb79200",
   "metadata": {},
   "source": [
    "# 4. 시퀀스 자료형\n",
    "\n",
    "시퀀스는 데이터의 순서대로 나열된 자료구조. (순서대로 나열되어있다는 것은 정렬된것과는 다르다)\n",
    "\n",
    "1. 리스트(list)\n",
    "2. 튜플(tuple)\n",
    "3. 레인지(range)\n",
    "4. 문자열(string)"
   ]
  },
  {
   "cell_type": "markdown",
   "id": "c49b6032-3c54-4046-bc88-86c4b99f0563",
   "metadata": {},
   "source": [
    "# 4.1 List(배열)\n",
    "- 선언 : 변수이름 = [value1, value2, value3]\n",
    "- 접근 : 변수이름[index]"
   ]
  },
  {
   "cell_type": "code",
   "execution_count": 194,
   "id": "ad6cda3c-ab5b-4c26-8237-7bbbaff47f32",
   "metadata": {},
   "outputs": [
    {
     "name": "stdout",
     "output_type": "stream",
     "text": [
      "[]\n",
      "<class 'list'>\n"
     ]
    }
   ],
   "source": [
    "l = []\n",
    "print(l)\n",
    "print(type(l))"
   ]
  },
  {
   "cell_type": "code",
   "execution_count": 199,
   "id": "166dc238-137d-48b3-91d3-51eb3f314ac7",
   "metadata": {},
   "outputs": [
    {
     "name": "stdout",
     "output_type": "stream",
     "text": [
      "['서울', '대전', '부산']\n",
      "<class 'list'>\n",
      "서울\n",
      "부산\n",
      "['서울', '대전', '제주']\n"
     ]
    }
   ],
   "source": [
    "location = ['서울', '대전', '부산']\n",
    "print(location)\n",
    "print(type(location))\n",
    "\n",
    "print(location[0])\n",
    "print(location[-1])\n",
    "\n",
    "location[2]='제주'\n",
    "print(location)"
   ]
  },
  {
   "cell_type": "markdown",
   "id": "296769f6-b077-4348-b1db-be31aeaa9889",
   "metadata": {},
   "source": [
    "# 4.2 Tuple\n",
    "- 선언 : 변수이름 = (Value1,Value2,Value3,...)\n",
    "- 접근 : 변수이름[index]\n",
    "- 리스트와 유사하지만 수정불가능(immutable)하다!"
   ]
  },
  {
   "cell_type": "code",
   "execution_count": 202,
   "id": "2d67088b-961c-482f-891c-92e275bcdf49",
   "metadata": {},
   "outputs": [
    {
     "name": "stdout",
     "output_type": "stream",
     "text": [
      "(1, 2, 3)\n",
      "<class 'tuple'>\n",
      "3\n"
     ]
    }
   ],
   "source": [
    "t = (1,2,3)\n",
    "print(t)\n",
    "print(type(t))\n",
    "print(t[2])"
   ]
  },
  {
   "cell_type": "code",
   "execution_count": 203,
   "id": "196f806f-c19a-4be8-8126-7c63efef0c59",
   "metadata": {},
   "outputs": [
    {
     "ename": "TypeError",
     "evalue": "'tuple' object does not support item assignment",
     "output_type": "error",
     "traceback": [
      "\u001b[1;31m---------------------------------------------------------------------------\u001b[0m",
      "\u001b[1;31mTypeError\u001b[0m                                 Traceback (most recent call last)",
      "Cell \u001b[1;32mIn[203], line 1\u001b[0m\n\u001b[1;32m----> 1\u001b[0m \u001b[43mt\u001b[49m\u001b[43m[\u001b[49m\u001b[38;5;241;43m2\u001b[39;49m\u001b[43m]\u001b[49m\u001b[38;5;241m=\u001b[39m\u001b[38;5;241m100\u001b[39m\n",
      "\u001b[1;31mTypeError\u001b[0m: 'tuple' object does not support item assignment"
     ]
    }
   ],
   "source": [
    "t[2]=100"
   ]
  },
  {
   "cell_type": "code",
   "execution_count": 206,
   "id": "6027a831-9a08-45b9-830a-fd595e2a4759",
   "metadata": {},
   "outputs": [
    {
     "name": "stdout",
     "output_type": "stream",
     "text": [
      "<class 'tuple'>\n",
      "2\n"
     ]
    }
   ],
   "source": [
    "result = divmod(9,4)\n",
    "print(type(result))\n",
    "print(result[0])"
   ]
  },
  {
   "cell_type": "code",
   "execution_count": 209,
   "id": "33513036-bbeb-4687-8396-74a5ac4e9e0c",
   "metadata": {},
   "outputs": [
    {
     "name": "stdout",
     "output_type": "stream",
     "text": [
      "1 2\n",
      "2 1\n"
     ]
    }
   ],
   "source": [
    "x,y = (1,2)\n",
    "print(x,y)\n",
    "\n",
    "x,y= (y,x)\n",
    "print(x,y)"
   ]
  },
  {
   "cell_type": "markdown",
   "id": "f23b6a74-7057-4560-af42-12af29248ecb",
   "metadata": {},
   "source": [
    "# 4.3 range\n",
    "- range(n) : 0부터 n-1까지 범위\n",
    "- range(n,m) : n부터 m-1까지 범위\n",
    "- range(n,m,s) : n부터 m-1까지 s만큼 띄움"
   ]
  },
  {
   "cell_type": "code",
   "execution_count": 211,
   "id": "69040d60-5668-4d77-a3ba-468b30488fa2",
   "metadata": {},
   "outputs": [
    {
     "name": "stdout",
     "output_type": "stream",
     "text": [
      "range(0, 5)\n",
      "<class 'range'>\n"
     ]
    }
   ],
   "source": [
    "r = range(5)\n",
    "print(r)\n",
    "print(type(r))"
   ]
  },
  {
   "cell_type": "code",
   "execution_count": 214,
   "id": "95c61057-912d-4a5c-ad3d-68058066de12",
   "metadata": {},
   "outputs": [
    {
     "name": "stdout",
     "output_type": "stream",
     "text": [
      "range(5, 15)\n"
     ]
    }
   ],
   "source": [
    "r = range(5,15)\n",
    "print(r)"
   ]
  },
  {
   "cell_type": "code",
   "execution_count": 215,
   "id": "7cd6501a-1b8a-4186-a7ec-c347e2cbb22d",
   "metadata": {},
   "outputs": [
    {
     "name": "stdout",
     "output_type": "stream",
     "text": [
      "range(5, 15, 2)\n"
     ]
    }
   ],
   "source": [
    "r = range(5,15,2)\n",
    "print(r)"
   ]
  },
  {
   "cell_type": "code",
   "execution_count": 216,
   "id": "b333ac13-3cfc-4bc5-a327-f31480c5ebe3",
   "metadata": {},
   "outputs": [
    {
     "data": {
      "text/plain": [
       "[5, 7, 9, 11, 13]"
      ]
     },
     "execution_count": 216,
     "metadata": {},
     "output_type": "execute_result"
    }
   ],
   "source": [
    "list(r)"
   ]
  },
  {
   "cell_type": "markdown",
   "id": "dc62fc94-f169-454b-82d5-cf7466521198",
   "metadata": {},
   "source": [
    "# 4.4 String\n",
    "기본 데이터 구조 참고"
   ]
  },
  {
   "cell_type": "markdown",
   "id": "32640248-29c2-42b3-8f6c-a67b00cdc211",
   "metadata": {},
   "source": [
    "# 4.5 시퀀스에서 사용 가능한 연산/함수"
   ]
  },
  {
   "cell_type": "code",
   "execution_count": 217,
   "id": "aa8d2524-fc3b-4733-a828-ad14aab69cb7",
   "metadata": {},
   "outputs": [],
   "source": [
    "my_list = [1,2,3,4,5]\n",
    "my_tuple = (11,12,13,14,15)\n",
    "my_range = range(1,10,2)\n",
    "my_string = '일이삼사오'"
   ]
  },
  {
   "cell_type": "code",
   "execution_count": 219,
   "id": "f993af72-39bf-4c65-ab49-811aceb2b816",
   "metadata": {},
   "outputs": [
    {
     "name": "stdout",
     "output_type": "stream",
     "text": [
      "2\n",
      "12\n",
      "3\n",
      "이\n"
     ]
    }
   ],
   "source": [
    "# indexing\n",
    "print(my_list[1])\n",
    "print(my_tuple[1])\n",
    "print(my_range[1])\n",
    "print(my_string[1])"
   ]
  },
  {
   "cell_type": "code",
   "execution_count": 222,
   "id": "93a5e997-44b5-459c-9b4a-b70aaf18775d",
   "metadata": {},
   "outputs": [
    {
     "name": "stdout",
     "output_type": "stream",
     "text": [
      "[2, 3]\n",
      "(12, 13)\n",
      "range(3, 7, 2)\n",
      "이삼\n"
     ]
    }
   ],
   "source": [
    "#slicing\n",
    "print(my_list[1:3])\n",
    "print(my_tuple[1:3])\n",
    "print(my_range[1:3])\n",
    "print(my_string[1:3])"
   ]
  },
  {
   "cell_type": "code",
   "execution_count": 225,
   "id": "b48b6c12-c17d-4ece-b209-cc9988a06e16",
   "metadata": {},
   "outputs": [
    {
     "name": "stdout",
     "output_type": "stream",
     "text": [
      "[2, 4]\n",
      "range(5, 11, 4)\n"
     ]
    }
   ],
   "source": [
    "print(my_list[1:4:2])\n",
    "print(my_range[2:7:2])"
   ]
  },
  {
   "cell_type": "code",
   "execution_count": 228,
   "id": "aa3b4db9-889f-4184-9e66-e64eababb463",
   "metadata": {},
   "outputs": [
    {
     "name": "stdout",
     "output_type": "stream",
     "text": [
      "[1, 2, 3]\n",
      "[4, 5]\n"
     ]
    }
   ],
   "source": [
    "print(my_list[:3])\n",
    "print(my_list[3:])"
   ]
  },
  {
   "cell_type": "code",
   "execution_count": 232,
   "id": "934486bd-0f0f-4132-8242-7cc755fbbb6e",
   "metadata": {},
   "outputs": [
    {
     "name": "stdout",
     "output_type": "stream",
     "text": [
      "True\n",
      "True\n",
      "True\n",
      "True\n"
     ]
    }
   ],
   "source": [
    "# in\n",
    "print(1 in my_list)\n",
    "print(11 in my_tuple)\n",
    "print(1 in my_range)\n",
    "print('일' in my_string)"
   ]
  },
  {
   "cell_type": "markdown",
   "id": "f0db4b96-c16c-4504-b82f-fe458d4f91a5",
   "metadata": {},
   "source": [
    "# not in\n",
    "print(11 not in my_list)\n",
    "print(100 not in my_tuple)\n",
    "print(1 not in my_range)\n",
    "print('구' not in my_string)"
   ]
  },
  {
   "cell_type": "code",
   "execution_count": 241,
   "id": "72eff371-6421-44ef-b7fb-971c927b1784",
   "metadata": {},
   "outputs": [
    {
     "name": "stdout",
     "output_type": "stream",
     "text": [
      "[1, 2, 3, 4, 5, 1, 2, 3, 4, 5]\n",
      "(11, 12, 13, 14, 15, 1, 2, 3)\n"
     ]
    }
   ],
   "source": [
    "# concatenation\n",
    "print(my_list + [1,2,3,4,5])\n",
    "print(my_tuple + (1,2,3))"
   ]
  },
  {
   "cell_type": "code",
   "execution_count": 246,
   "id": "08fe9090-7ef2-41e0-b3c2-8c2b58cec0a4",
   "metadata": {},
   "outputs": [
    {
     "name": "stdout",
     "output_type": "stream",
     "text": [
      "일이삼사오일이삼사오일이삼사오\n",
      "[1, 2, 3, 4, 5, 1, 2, 3, 4, 5, 1, 2, 3, 4, 5]\n",
      "[[0, 0, 0, 0, 0, 0, 0, 0, 0, 0], [0, 0, 0, 0, 0, 0, 0, 0, 0, 0], [0, 0, 0, 0, 0, 0, 0, 0, 0, 0], [0, 0, 0, 0, 0, 0, 0, 0, 0, 0], [0, 0, 0, 0, 0, 0, 0, 0, 0, 0], [0, 0, 0, 0, 0, 0, 0, 0, 0, 0], [0, 0, 0, 0, 0, 0, 0, 0, 0, 0], [0, 0, 0, 0, 0, 0, 0, 0, 0, 0], [0, 0, 0, 0, 0, 0, 0, 0, 0, 0], [0, 0, 0, 0, 0, 0, 0, 0, 0, 0]]\n"
     ]
    }
   ],
   "source": [
    "#*\n",
    "print(my_string * 3)\n",
    "print(my_list * 3)\n",
    "\n",
    "print([[0]*10]*10)"
   ]
  },
  {
   "cell_type": "code",
   "execution_count": 247,
   "id": "c2e4e894-bbf6-47c2-b841-56a8d5cb9980",
   "metadata": {},
   "outputs": [
    {
     "data": {
      "text/plain": [
       "5"
      ]
     },
     "execution_count": 247,
     "metadata": {},
     "output_type": "execute_result"
    }
   ],
   "source": [
    "len(my_list)"
   ]
  },
  {
   "cell_type": "code",
   "execution_count": 248,
   "id": "18e4b338-a4ed-4acb-85c6-f91107109b7d",
   "metadata": {},
   "outputs": [
    {
     "data": {
      "text/plain": [
       "11"
      ]
     },
     "execution_count": 248,
     "metadata": {},
     "output_type": "execute_result"
    }
   ],
   "source": [
    "min(my_tuple)"
   ]
  },
  {
   "cell_type": "code",
   "execution_count": 249,
   "id": "ae282368-eb2f-4480-b287-201e9565e80f",
   "metadata": {},
   "outputs": [
    {
     "data": {
      "text/plain": [
       "9"
      ]
     },
     "execution_count": 249,
     "metadata": {},
     "output_type": "execute_result"
    }
   ],
   "source": [
    "max(my_range)"
   ]
  },
  {
   "cell_type": "code",
   "execution_count": 250,
   "id": "77e60687-d8a0-45f4-87a8-e3cd140817af",
   "metadata": {},
   "outputs": [
    {
     "data": {
      "text/plain": [
       "'일'"
      ]
     },
     "execution_count": 250,
     "metadata": {},
     "output_type": "execute_result"
    }
   ],
   "source": [
    "max(my_string)"
   ]
  },
  {
   "cell_type": "code",
   "execution_count": 251,
   "id": "577d7d32-dedb-4c40-baa8-2cd812613b5f",
   "metadata": {},
   "outputs": [
    {
     "data": {
      "text/plain": [
       "1"
      ]
     },
     "execution_count": 251,
     "metadata": {},
     "output_type": "execute_result"
    }
   ],
   "source": [
    "my_list.count(1)"
   ]
  },
  {
   "cell_type": "markdown",
   "id": "260456ab-77c8-42e6-bf81-6d29470f5129",
   "metadata": {},
   "source": [
    "# 5. 시퀀스 데이터가 아닌 자료구조\n",
    "# 5.1 set\n",
    "수학에서 사용하는 집합과 동일하게 처리(중복된 값이 없음)\n",
    "- 선언 : 변수이름={value1,value2,value3}"
   ]
  },
  {
   "cell_type": "code",
   "execution_count": 255,
   "id": "4eff7cd5-70ef-4487-a026-6d09fbe194bb",
   "metadata": {},
   "outputs": [],
   "source": [
    "my_set_a={1,2,3,4,5}\n",
    "my_set_b={1,3,5,7,9}"
   ]
  },
  {
   "cell_type": "code",
   "execution_count": 260,
   "id": "fd52eec1-a692-449b-91c0-95bc61d8bf07",
   "metadata": {},
   "outputs": [
    {
     "name": "stdout",
     "output_type": "stream",
     "text": [
      "{2, 4}\n",
      "{1, 2, 3, 4, 5, 7, 9}\n",
      "{1, 3, 5}\n"
     ]
    }
   ],
   "source": [
    "print(my_set_a - my_set_b)\n",
    "print(my_set_a | my_set_b)\n",
    "print(my_set_a & my_set_b)"
   ]
  },
  {
   "cell_type": "code",
   "execution_count": 261,
   "id": "4de89890-5c33-42c9-810f-0c96928e69f7",
   "metadata": {},
   "outputs": [
    {
     "name": "stdout",
     "output_type": "stream",
     "text": [
      "{1, 2, 3, 4, 5}\n"
     ]
    }
   ],
   "source": [
    "my_list = [1,2,3,4,5,1,4,5]\n",
    "print(set(my_list))"
   ]
  },
  {
   "cell_type": "markdown",
   "id": "9ed1c009-881a-4b10-9755-781816f82046",
   "metadata": {},
   "source": [
    "# 5.2 dictionary\n",
    "- 선언 : 변수이름 = {key1: value1, key2: value2, key3 : value3}\n",
    "- 접근 : 변수이름[key]\n",
    "- dictionary는 key와 value가 쌍으로 이루어져있다.\n",
    "- key에는 immutable한 모든 값을 사용가능.(불변값: string, integer...)\n",
    "- value에는 모든 데이터 가능.(list,dict도 가능)"
   ]
  },
  {
   "cell_type": "code",
   "execution_count": 266,
   "id": "6d112357-a9b0-4a06-b589-15b29e5c9d57",
   "metadata": {},
   "outputs": [
    {
     "data": {
      "text/plain": [
       "'02'"
      ]
     },
     "execution_count": 266,
     "metadata": {},
     "output_type": "execute_result"
    }
   ],
   "source": [
    "my_dict = {'서울': '02','경기': '031'}\n",
    "my_dict['서울']"
   ]
  },
  {
   "cell_type": "code",
   "execution_count": 279,
   "id": "bb57e8d0-64b6-4cee-bba6-8aa69d24f1f9",
   "metadata": {},
   "outputs": [
    {
     "name": "stdout",
     "output_type": "stream",
     "text": [
      "10\n",
      "4\n",
      "11\n"
     ]
    }
   ],
   "source": [
    "dict_a={\n",
    "    'name': 'seungjun',\n",
    "    'age': 10,\n",
    "    'location': 'seoul',\n",
    "    'numbers': [1,2,3,4,5],\n",
    "    'friends': {\n",
    "        'a': 10,\n",
    "        'b': 11,\n",
    "    },\n",
    "}\n",
    "\n",
    "print(dict_a['age'])\n",
    "print(dict_a['numbers'][3])\n",
    "print(dict_a['friends']['b'])"
   ]
  },
  {
   "cell_type": "code",
   "execution_count": 280,
   "id": "060e8138-7e08-4e06-bda8-2ac75db2b66a",
   "metadata": {},
   "outputs": [
    {
     "data": {
      "text/plain": [
       "dict_keys(['name', 'age', 'location', 'numbers', 'friends'])"
      ]
     },
     "execution_count": 280,
     "metadata": {},
     "output_type": "execute_result"
    }
   ],
   "source": [
    "dict_a.keys()"
   ]
  },
  {
   "cell_type": "code",
   "execution_count": 281,
   "id": "51e4030b-b68a-497b-a057-db4890f6f429",
   "metadata": {},
   "outputs": [
    {
     "data": {
      "text/plain": [
       "dict_values(['seungjun', 10, 'seoul', [1, 2, 3, 4, 5], {'a': 10, 'b': 11}])"
      ]
     },
     "execution_count": 281,
     "metadata": {},
     "output_type": "execute_result"
    }
   ],
   "source": [
    "dict_a.values()"
   ]
  },
  {
   "cell_type": "markdown",
   "id": "27f0014c-a3f5-4304-94d9-34c42bbcd39e",
   "metadata": {},
   "source": [
    "# 데이터 타입\n",
    "1. Number\n",
    "2. Boolean\n",
    "3. String\n",
    "\n",
    "# 자료구조\n",
    "- 시퀀스 자료형\n",
    "  1. [List] : mutable\n",
    "  2. (Tuple): immutable\n",
    "  3. range(): immutable\n",
    "  4. 'String' immutable\n",
    "     \n",
    "- 시퀀스가 아닌 자료형\n",
    "  1. {set}: mutable\n",
    "  2. {Dict: ionary}: mutable\n",
    "     "
   ]
  }
 ],
 "metadata": {
  "kernelspec": {
   "display_name": "Python 3 (ipykernel)",
   "language": "python",
   "name": "python3"
  },
  "language_info": {
   "codemirror_mode": {
    "name": "ipython",
    "version": 3
   },
   "file_extension": ".py",
   "mimetype": "text/x-python",
   "name": "python",
   "nbconvert_exporter": "python",
   "pygments_lexer": "ipython3",
   "version": "3.11.6"
  }
 },
 "nbformat": 4,
 "nbformat_minor": 5
}
