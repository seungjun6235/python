{
 "cells": [
  {
   "cell_type": "markdown",
   "id": "685acf65-70cb-4a4b-bf01-3ebba4ee1ec5",
   "metadata": {},
   "source": [
    "# 제어문"
   ]
  },
  {
   "cell_type": "markdown",
   "id": "45057028-0332-4978-a989-326fa5730d14",
   "metadata": {},
   "source": [
    "# 조건문(if문)\n",
    "\n",
    "```python\n",
    "if <조건식>:\n",
    "    if의 조건식이 참인 경우 실행하는 코드\n",
    "else:\n",
    "    if의 조건식이 거짓인 경우 실행하는 코드\n",
    "\n",
    "```\n",
    "\n",
    "1. `if`문은 반드시 참/거짓을 판단할 수 있는 `조건식`과 함께 사용한다.\n",
    "2. `조건식`이 참인 경우 `:` 이후의 문장을 실행\n",
    "3. `조건식`이 거짓인 경우 : `else`이후의 문장을 실행한다"
   ]
  },
  {
   "cell_type": "code",
   "execution_count": 3,
   "id": "ade40151-92b2-4959-bd3e-ca68f0992263",
   "metadata": {},
   "outputs": [
    {
     "name": "stdin",
     "output_type": "stream",
     "text": [
      " 12/12\n"
     ]
    },
    {
     "name": "stdout",
     "output_type": "stream",
     "text": [
      "크리스마스가 아닙니다\n"
     ]
    }
   ],
   "source": [
    "my_string=input()\n",
    "\n",
    "if my_string=='12/25':\n",
    "    print('크리스마스입니다')\n",
    "else:\n",
    "    print('크리스마스가 아닙니다')"
   ]
  },
  {
   "cell_type": "code",
   "execution_count": 10,
   "id": "83ce8eaf-142b-4ece-abc8-5514bed781ae",
   "metadata": {},
   "outputs": [
    {
     "name": "stdin",
     "output_type": "stream",
     "text": [
      "숫자를 입력해주세요 :  123\n"
     ]
    },
    {
     "name": "stdout",
     "output_type": "stream",
     "text": [
      "홀수입니다\n",
      "123\n",
      "<class 'int'>\n"
     ]
    }
   ],
   "source": [
    "num = input('숫자를 입력해주세요 : ')\n",
    "num=int(num)\n",
    "\n",
    "if num % 2 == 0:\n",
    "    print('짝수입니다')\n",
    "else:\n",
    "    print('홀수입니다')\n",
    "\n",
    "\n",
    "\n",
    "print(num)\n",
    "print(type(num))"
   ]
  },
  {
   "cell_type": "code",
   "execution_count": 11,
   "id": "d3987ea0-dc3f-4531-9aa2-75bcb28dbdcf",
   "metadata": {},
   "outputs": [
    {
     "name": "stdin",
     "output_type": "stream",
     "text": [
      "숫자를 입력해주세요 :  123\n"
     ]
    },
    {
     "name": "stdout",
     "output_type": "stream",
     "text": [
      "홀수입니다\n"
     ]
    }
   ],
   "source": [
    "num = input('숫자를 입력해주세요 : ')\n",
    "num=int(num)\n",
    "\n",
    "if num % 2 == 1:\n",
    "    print('홀수입니다')\n",
    "else:\n",
    "    print('짝수입니다')"
   ]
  },
  {
   "cell_type": "code",
   "execution_count": 13,
   "id": "172d956d-50c0-4948-8b96-7beedff236a0",
   "metadata": {},
   "outputs": [
    {
     "name": "stdin",
     "output_type": "stream",
     "text": [
      "숫자를 입력해주세요 :  123\n"
     ]
    },
    {
     "name": "stdout",
     "output_type": "stream",
     "text": [
      "홀수입니다\n"
     ]
    }
   ],
   "source": [
    "# num을 2로 나눈 나머지는 0,1 두가지 경우가 있다.\n",
    "# if 조건식에 0,1은 자동형변환이 일어나 False,True로 변환된다\n",
    "num = input('숫자를 입력해주세요 : ')\n",
    "num=int(num)\n",
    "\n",
    "if num % 2 :\n",
    "    print('홀수입니다')\n",
    "else:\n",
    "    print('짝수입니다')"
   ]
  },
  {
   "cell_type": "markdown",
   "id": "44ccadc6-ec3a-45ec-89e9-7ab92493368d",
   "metadata": {},
   "source": [
    "# elif\n",
    "\n",
    "```python\n",
    "if <조건식>:\n",
    "    if의 조건식이 참인 경우 실행하는 코드\n",
    "elif<조건식>:\n",
    "    elif 조건이 참인경우 실행\n",
    "...\n",
    "else:\n",
    "    둘다 만족 안하는 경우 실행\n",
    "\n",
    "```"
   ]
  },
  {
   "cell_type": "code",
   "execution_count": 19,
   "id": "5f0cb8a6-ed01-47d4-a5cc-6a85fd3034e4",
   "metadata": {},
   "outputs": [
    {
     "name": "stdin",
     "output_type": "stream",
     "text": [
      " 95\n"
     ]
    },
    {
     "name": "stdout",
     "output_type": "stream",
     "text": [
      "A\n",
      "good\n"
     ]
    }
   ],
   "source": [
    "score = int(input())\n",
    "\n",
    "#90점 이상 A(95점이상이라면 good 추가)\n",
    "# 80점 이상 B\n",
    "# 70점 이상은 c\n",
    "# 나머지는 F\n",
    "\n",
    "if score >= 90:\n",
    "    print('A')\n",
    "    if score >= 95:\n",
    "        print('good')\n",
    "elif score >=80:\n",
    "    print('B')\n",
    "elif score >=70:\n",
    "    print('c')\n",
    "else:\n",
    "    print('F')"
   ]
  },
  {
   "cell_type": "markdown",
   "id": "a6e5b76f-c504-4a9a-83f2-fb8a090e28d8",
   "metadata": {},
   "source": [
    "# 조건표현식\n",
    "\n",
    "```python\n",
    "true_value if <조건식> else false_value\n",
    "\n",
    "\n",
    "```"
   ]
  },
  {
   "cell_type": "code",
   "execution_count": 2,
   "id": "29868fde-d53b-49c2-9d53-bcc0cdf0e444",
   "metadata": {},
   "outputs": [
    {
     "name": "stdout",
     "output_type": "stream",
     "text": [
      "True\n"
     ]
    }
   ],
   "source": [
    "print('True') if 1 < 2 else print('False')"
   ]
  },
  {
   "cell_type": "code",
   "execution_count": 3,
   "id": "801beffb-6d76-4e0c-85a2-00f1d48a4ca8",
   "metadata": {},
   "outputs": [
    {
     "name": "stdout",
     "output_type": "stream",
     "text": [
      "False\n"
     ]
    }
   ],
   "source": [
    "if 1<0:\n",
    "    print('True')\n",
    "\n",
    "else:\n",
    "    print('False')"
   ]
  },
  {
   "cell_type": "code",
   "execution_count": 6,
   "id": "c6f927ab-9835-43b9-95e1-de252c812b8a",
   "metadata": {},
   "outputs": [
    {
     "name": "stdout",
     "output_type": "stream",
     "text": [
      "0\n"
     ]
    }
   ],
   "source": [
    "num = -5 \n",
    "\n",
    "if num >= 0:\n",
    "    value = num\n",
    "else:\n",
    "    value = 0\n",
    "\n",
    "print(value)"
   ]
  },
  {
   "cell_type": "code",
   "execution_count": 9,
   "id": "609e941c-7c61-4d2c-bae3-d0713f4a1e25",
   "metadata": {},
   "outputs": [
    {
     "name": "stdout",
     "output_type": "stream",
     "text": [
      "0\n"
     ]
    }
   ],
   "source": [
    "num = -5\n",
    "\n",
    "value = num if num >= 0 else 0\n",
    "\n",
    "print(value)"
   ]
  },
  {
   "cell_type": "code",
   "execution_count": 10,
   "id": "504ec241-290d-41c9-bfc9-5023523c616b",
   "metadata": {},
   "outputs": [
    {
     "name": "stdout",
     "output_type": "stream",
     "text": [
      "짝수\n"
     ]
    }
   ],
   "source": [
    "num = 10\n",
    "\n",
    "if num % 2 == 1:\n",
    "    result = '홀수'\n",
    "else:\n",
    "    result = '짝수'\n",
    "\n",
    "print(result)"
   ]
  },
  {
   "cell_type": "code",
   "execution_count": 16,
   "id": "912014c0-2d3a-4ded-bf8d-873fb34bfd3a",
   "metadata": {},
   "outputs": [
    {
     "name": "stdout",
     "output_type": "stream",
     "text": [
      "짝수\n"
     ]
    }
   ],
   "source": [
    "num = 10\n",
    "\n",
    "result = '홀수' if num % 2 == 1 else '짝수' # result = '짝수' 안써도 됨\n",
    "\n",
    "print(result)"
   ]
  },
  {
   "cell_type": "markdown",
   "id": "7facbf0e-978e-4832-9e2f-bc1ad45fce5c",
   "metadata": {},
   "source": [
    "# 반복문\n",
    "\n",
    "# while문\n",
    "```python\n",
    "while <조건식>:\n",
    "    실행할 코드\n",
    "```"
   ]
  },
  {
   "cell_type": "code",
   "execution_count": 17,
   "id": "5e34a814-e3e6-4e00-97d6-719cd867a238",
   "metadata": {},
   "outputs": [
    {
     "name": "stdout",
     "output_type": "stream",
     "text": [
      "0\n",
      "1\n",
      "2\n",
      "3\n",
      "4\n"
     ]
    }
   ],
   "source": [
    "a = 0\n",
    "\n",
    "while a < 5:\n",
    "    print(a)\n",
    "    a += 1"
   ]
  },
  {
   "cell_type": "code",
   "execution_count": 18,
   "id": "c44a9130-2acd-4f9d-85ec-3d2fab64d671",
   "metadata": {},
   "outputs": [
    {
     "name": "stdin",
     "output_type": "stream",
     "text": [
      "안녕이라고해줘 :  123\n",
      "안녕이라고해줘 :  안녕\n"
     ]
    }
   ],
   "source": [
    "greeting = ''\n",
    "\n",
    "while greeting != '안녕':\n",
    "    greeting = input('안녕이라고해줘 : ')\n"
   ]
  },
  {
   "cell_type": "markdown",
   "id": "868d2306-1a95-4eaf-81e3-33bbd86576f0",
   "metadata": {},
   "source": [
    "# for 문\n",
    "\n",
    "정해진 범위 내의 반복\n",
    "```python\n",
    "for variable in sequence:\n",
    "    실행할 코드\n",
    "\n",
    "```\n"
   ]
  },
  {
   "cell_type": "code",
   "execution_count": 19,
   "id": "f53eee37-5d70-46cd-b55b-d9253f7daf35",
   "metadata": {},
   "outputs": [
    {
     "name": "stdout",
     "output_type": "stream",
     "text": [
      "1\n",
      "2\n",
      "3\n",
      "4\n",
      "5\n"
     ]
    }
   ],
   "source": [
    "numbers =[1,2,3,4,5]\n",
    "\n",
    "for number in numbers:\n",
    "    print(number)"
   ]
  },
  {
   "cell_type": "code",
   "execution_count": 22,
   "id": "20003790-2a21-452f-b538-1d5f709ec578",
   "metadata": {},
   "outputs": [
    {
     "name": "stdin",
     "output_type": "stream",
     "text": [
      "단어를 입력해주세요 :  apple\n"
     ]
    },
    {
     "name": "stdout",
     "output_type": "stream",
     "text": [
      "a\n",
      "p\n",
      "p\n",
      "l\n",
      "e\n"
     ]
    }
   ],
   "source": [
    "word = input('단어를 입력해주세요 : ')\n",
    "\n",
    "for char in word: # 이거 쓰고\n",
    "    print(char)\n"
   ]
  },
  {
   "cell_type": "code",
   "execution_count": 23,
   "id": "62f7243e-3310-4d7f-8c25-19ef6ef449c6",
   "metadata": {},
   "outputs": [
    {
     "name": "stdout",
     "output_type": "stream",
     "text": [
      "0\n",
      "1\n",
      "2\n",
      "3\n",
      "4\n"
     ]
    }
   ],
   "source": [
    "for i in range(5): # 이거쓰고\n",
    "    print(i)"
   ]
  },
  {
   "cell_type": "code",
   "execution_count": 24,
   "id": "502c56b4-174a-4876-be6f-4cd2f9115887",
   "metadata": {},
   "outputs": [
    {
     "name": "stdout",
     "output_type": "stream",
     "text": [
      "1\n",
      "2\n",
      "3\n",
      "4\n",
      "5\n"
     ]
    }
   ],
   "source": [
    "for i in (1,2,3,4,5): #이거는 잘 안쓸듯\n",
    "    print(i)"
   ]
  },
  {
   "cell_type": "code",
   "execution_count": 39,
   "id": "c0d80454-9cba-4437-b5dc-79c3aed43b33",
   "metadata": {},
   "outputs": [
    {
     "name": "stdout",
     "output_type": "stream",
     "text": [
      "1\n",
      "3\n",
      "5\n",
      "7\n",
      "9\n",
      "11\n",
      "13\n",
      "15\n",
      "17\n",
      "19\n",
      "21\n",
      "23\n",
      "25\n",
      "27\n",
      "29\n",
      "[1, 3, 5, 7, 9, 11, 13, 15, 17, 19, 21, 23, 25, 27, 29]\n"
     ]
    }
   ],
   "source": [
    "# 1~30까지 중 홀수 출력\n",
    "\n",
    "for i in range(30):\n",
    "    if i % 2 == 1:\n",
    "        print(i)\n",
    "\n",
    "\n",
    "\n",
    "# 1~30까지 중 홀수 출력 리스트로 출력\n",
    "result = []\n",
    "\n",
    "for i in range(30):\n",
    "    if i % 2 == 1:\n",
    "        result.append(i)\n",
    "        \n",
    "print(result)\n"
   ]
  },
  {
   "cell_type": "code",
   "execution_count": 50,
   "id": "f2a7d19a-a101-4caa-a048-c5e2291f55e3",
   "metadata": {},
   "outputs": [
    {
     "name": "stdout",
     "output_type": "stream",
     "text": [
      "라면\n",
      "떡볶이\n",
      "김밥\n"
     ]
    }
   ],
   "source": [
    "menus=['라면','떡볶이','김밥']\n",
    "\n",
    "for menu in menus:\n",
    "    print(menu)\n",
    "    "
   ]
  },
  {
   "cell_type": "code",
   "execution_count": 49,
   "id": "3cf53057-b64b-41db-9c09-7fd542e8443f",
   "metadata": {},
   "outputs": [
    {
     "name": "stdout",
     "output_type": "stream",
     "text": [
      "라면\n",
      "떡볶이\n",
      "김밥\n"
     ]
    }
   ],
   "source": [
    "for i in range(len(menus)):\n",
    "    print(menus[i])"
   ]
  },
  {
   "cell_type": "code",
   "execution_count": 55,
   "id": "3437c815-5fca-4c87-b6ab-8b798d77365c",
   "metadata": {},
   "outputs": [
    {
     "name": "stdout",
     "output_type": "stream",
     "text": [
      "(0, '라면')\n",
      "(1, '떡볶이')\n",
      "(2, '김밥')\n"
     ]
    }
   ],
   "source": [
    "for i in enumerate(menus):\n",
    "    print(i)"
   ]
  },
  {
   "cell_type": "code",
   "execution_count": 57,
   "id": "7e966b2f-dc45-42a4-98d2-dde67aefaecb",
   "metadata": {},
   "outputs": [
    {
     "name": "stdout",
     "output_type": "stream",
     "text": [
      "0 라면\n",
      "1 떡볶이\n",
      "2 김밥\n"
     ]
    }
   ],
   "source": [
    "for index,menu in enumerate(menus):\n",
    "    print(index, menu)"
   ]
  },
  {
   "cell_type": "markdown",
   "id": "9aac7551-9355-4fcc-b45c-deabeb05d565",
   "metadata": {},
   "source": [
    "# dictionary 반복\n",
    "\n",
    "1. for key in dict:\n",
    "2. for key in dict.keys():\n",
    "3. for value in dict.values():\n",
    "4. for key,value in dict.items():"
   ]
  },
  {
   "cell_type": "code",
   "execution_count": 77,
   "id": "ef921eca-aae5-4b42-adfc-a4ef640c9258",
   "metadata": {},
   "outputs": [],
   "source": [
    "info = {\n",
    "    'name':'seungjun',\n",
    "    'location':'seoul',\n",
    "    'phone':'010-123-1234'\n",
    "}"
   ]
  },
  {
   "cell_type": "code",
   "execution_count": 78,
   "id": "6fcbe123-9601-4596-a07a-6c2ddaa6a7f9",
   "metadata": {},
   "outputs": [
    {
     "name": "stdout",
     "output_type": "stream",
     "text": [
      "name\n",
      "seungjun\n",
      "location\n",
      "seoul\n",
      "phone\n",
      "010-123-1234\n"
     ]
    }
   ],
   "source": [
    "for i in info:\n",
    "    print(i)\n",
    "    print(info[i])"
   ]
  },
  {
   "cell_type": "code",
   "execution_count": 82,
   "id": "417dafda-c0a5-4535-874a-edde8b0d74fa",
   "metadata": {},
   "outputs": [],
   "source": [
    "blood_type = {\n",
    "    'A' : 5,\n",
    "    'B' : 7,\n",
    "    'O' : 10\n",
    "}"
   ]
  },
  {
   "cell_type": "markdown",
   "id": "191d015c-e0d8-4456-a790-c85dded408b7",
   "metadata": {},
   "source": [
    "print('혈액형 목록은 다음과 같습니다')\n",
    "for i in blood_type:\n",
    "    print(i)"
   ]
  },
  {
   "cell_type": "code",
   "execution_count": 84,
   "id": "4c0c3304-5191-4f98-86c2-7f64d12e5c94",
   "metadata": {},
   "outputs": [
    {
     "data": {
      "text/plain": [
       "dict_keys(['A', 'B', 'O'])"
      ]
     },
     "execution_count": 84,
     "metadata": {},
     "output_type": "execute_result"
    }
   ],
   "source": [
    "blood_type.keys()"
   ]
  },
  {
   "cell_type": "code",
   "execution_count": 93,
   "id": "eef9c224-8aab-4dd0-b2e5-4f34a74bb6a5",
   "metadata": {},
   "outputs": [
    {
     "name": "stdout",
     "output_type": "stream",
     "text": [
      "총인원은 22명입니다\n"
     ]
    }
   ],
   "source": [
    "result = 0\n",
    "\n",
    "for value in blood_type.values():\n",
    "    # print(value)\n",
    "    result += value\n",
    "    \n",
    "print(f'총인원은 {result}명입니다') "
   ]
  },
  {
   "cell_type": "code",
   "execution_count": 101,
   "id": "86dd008d-559f-40e9-8abd-86dcd8b78106",
   "metadata": {},
   "outputs": [
    {
     "name": "stdout",
     "output_type": "stream",
     "text": [
      "A형은 5명입니다\n",
      "B형은 7명입니다\n",
      "O형은 10명입니다\n"
     ]
    }
   ],
   "source": [
    "for key,value in blood_type.items():\n",
    "    print(f'{key}형은 {value}명입니다')"
   ]
  },
  {
   "cell_type": "markdown",
   "id": "21eebf4e-fe88-4d31-8d5c-74c190e9306a",
   "metadata": {},
   "source": [
    "# break 문\n",
    "반복문을 종료시키는 키워드"
   ]
  },
  {
   "cell_type": "code",
   "execution_count": 107,
   "id": "9089ae40-0dc4-4cf0-beb8-1685334a5985",
   "metadata": {},
   "outputs": [
    {
     "name": "stdout",
     "output_type": "stream",
     "text": [
      "0\n",
      "1\n",
      "2\n",
      "3\n",
      "4\n",
      "5\n",
      "6\n",
      "7\n",
      "8\n",
      "9\n",
      "10\n",
      "11\n",
      "10을 넘었어!!\n"
     ]
    }
   ],
   "source": [
    "for i in range(100):\n",
    "    print(i)\n",
    "    if i > 10:\n",
    "        print('10을 넘었어!!')\n",
    "        break\n"
   ]
  },
  {
   "cell_type": "code",
   "execution_count": 111,
   "id": "a22fae85-2a2f-4b72-a9be-54644d553cd3",
   "metadata": {},
   "outputs": [
    {
     "name": "stdout",
     "output_type": "stream",
     "text": [
      "보리\n",
      "보리\n",
      "보리\n",
      "쌀\n",
      "잡았다!!\n"
     ]
    }
   ],
   "source": [
    "rice=['보리','보리','보리','쌀','보리','보리']\n",
    "\n",
    "for i in rice:\n",
    "    print(i)\n",
    "    if i == '쌀':\n",
    "        print('잡았다!!')\n",
    "        break"
   ]
  },
  {
   "cell_type": "markdown",
   "id": "3a05e14f-4e53-44c6-970e-ba55954e0d31",
   "metadata": {},
   "source": [
    "# continue 문\n",
    "\n",
    "continue 이후의 코드를 실행하지 않고 다음 반복을 실행"
   ]
  },
  {
   "cell_type": "code",
   "execution_count": 113,
   "id": "7207578c-4e26-4425-bc15-9ec421ee5425",
   "metadata": {},
   "outputs": [
    {
     "name": "stdout",
     "output_type": "stream",
     "text": [
      "0\n",
      "2\n",
      "4\n",
      "6\n",
      "8\n"
     ]
    }
   ],
   "source": [
    "for i in range(10):\n",
    "    if i % 2:\n",
    "        continue\n",
    "        \n",
    "        \n",
    "    print(i)"
   ]
  },
  {
   "cell_type": "code",
   "execution_count": 116,
   "id": "0520224e-d473-49fe-9e1c-e2b35d96141f",
   "metadata": {},
   "outputs": [
    {
     "name": "stdout",
     "output_type": "stream",
     "text": [
      "20살은 성인입니다\n",
      "30살은 성인입니다\n",
      "40살은 성인입니다\n",
      "50살은 성인입니다\n"
     ]
    }
   ],
   "source": [
    "age = [10,20,30,40,50]\n",
    "\n",
    "for i in age:\n",
    "    if i < 20:\n",
    "        continue\n",
    "        \n",
    "    print(f'{i}살은 성인입니다')\n",
    "    "
   ]
  },
  {
   "cell_type": "markdown",
   "id": "00bfbfb6-eb38-4d60-93d2-6bf3aaf773d2",
   "metadata": {},
   "source": [
    "# else 문\n",
    "else문은 끝까지 반복 후 실행합니다(break 만나지 않는 경우)"
   ]
  },
  {
   "cell_type": "code",
   "execution_count": 121,
   "id": "b5fcc60b-f7a6-47c7-8939-0dcfad9a8270",
   "metadata": {},
   "outputs": [
    {
     "name": "stdout",
     "output_type": "stream",
     "text": [
      "0\n",
      "1\n",
      "2\n",
      "3\n",
      "4\n",
      "5\n",
      "6\n",
      "7\n",
      "8\n",
      "9\n",
      "10\n",
      "11\n"
     ]
    }
   ],
   "source": [
    "for i in range(12):\n",
    "    print(i)\n",
    "    if i > 10:\n",
    "        break\n",
    "\n",
    "else:\n",
    "    print('break 못만남')\n",
    "        \n",
    "        \n",
    "   "
   ]
  },
  {
   "cell_type": "code",
   "execution_count": 124,
   "id": "95bff107-cccc-4864-bfa9-3132d6a4bf34",
   "metadata": {},
   "outputs": [
    {
     "name": "stdout",
     "output_type": "stream",
     "text": [
      "True\n",
      "False\n"
     ]
    }
   ],
   "source": [
    "numbers=[1,2,3,4,5]\n",
    "print(1 in numbers)\n",
    "print(99 in numbers)"
   ]
  },
  {
   "cell_type": "code",
   "execution_count": 130,
   "id": "c20d98f3-e099-4802-bd79-ec788d56d3d7",
   "metadata": {},
   "outputs": [
    {
     "name": "stdout",
     "output_type": "stream",
     "text": [
      "1\n",
      "2\n",
      "3\n",
      "True\n"
     ]
    }
   ],
   "source": [
    "numbers=[1,2,3,4,5]\n",
    "target = 3\n",
    "\n",
    "for i in numbers:\n",
    "    print(i)\n",
    "    if i == target:\n",
    "        print('True')\n",
    "        break\n",
    "\n",
    "else:\n",
    "    print('False')\n",
    "        \n"
   ]
  },
  {
   "cell_type": "markdown",
   "id": "de02b13f-3216-4b6a-847f-d8adc99da1b7",
   "metadata": {},
   "source": [
    "# pass문\n",
    "\n",
    "오류없이 일단 pass로 넘김"
   ]
  },
  {
   "cell_type": "code",
   "execution_count": 131,
   "id": "bc22ff4f-c92f-46d8-96f7-75736cd1bab8",
   "metadata": {},
   "outputs": [],
   "source": [
    "if True:\n",
    "    pass"
   ]
  },
  {
   "cell_type": "code",
   "execution_count": 132,
   "id": "8b366933-2980-48f6-8c91-2860eb8483c3",
   "metadata": {},
   "outputs": [],
   "source": [
    "def login():\n",
    "    pass\n",
    "\n",
    "def logout():\n",
    "    pass"
   ]
  },
  {
   "cell_type": "markdown",
   "id": "de1c8973-2482-481d-9b3c-287d72e1d03a",
   "metadata": {},
   "source": [
    "# match case 문\n",
    "```python\n",
    "match value:\n",
    "    case 조건:\n",
    "        실행할 코드\n",
    "    case 조건:\n",
    "        실행할 코드\n",
    "    case _:\n",
    "        실행할 코드\n",
    "```"
   ]
  },
  {
   "cell_type": "code",
   "execution_count": 143,
   "id": "338b237a-64ad-40b5-8d62-ebe0717e4c41",
   "metadata": {},
   "outputs": [
    {
     "name": "stdout",
     "output_type": "stream",
     "text": [
      "not found\n"
     ]
    }
   ],
   "source": [
    "status = 404\n",
    "\n",
    "match status:\n",
    "    case 400 | 405:\n",
    "        print('bad request')\n",
    "    case 404:\n",
    "        print('not found')\n",
    "    case _:\n",
    "        print('something is wrong')"
   ]
  },
  {
   "cell_type": "code",
   "execution_count": null,
   "id": "846cfd73-a170-432a-b00c-01b4e647774c",
   "metadata": {},
   "outputs": [],
   "source": []
  }
 ],
 "metadata": {
  "kernelspec": {
   "display_name": "Python 3 (ipykernel)",
   "language": "python",
   "name": "python3"
  },
  "language_info": {
   "codemirror_mode": {
    "name": "ipython",
    "version": 3
   },
   "file_extension": ".py",
   "mimetype": "text/x-python",
   "name": "python",
   "nbconvert_exporter": "python",
   "pygments_lexer": "ipython3",
   "version": "3.11.6"
  }
 },
 "nbformat": 4,
 "nbformat_minor": 5
}
