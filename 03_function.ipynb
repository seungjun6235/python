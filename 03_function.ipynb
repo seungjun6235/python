{
 "cells": [
  {
   "cell_type": "markdown",
   "id": "5a4d00e4-ef65-4b3a-87cc-b6d75a66f391",
   "metadata": {},
   "source": [
    "# 함수(function)"
   ]
  },
  {
   "cell_type": "code",
   "execution_count": 1,
   "id": "d0829438-913e-4add-8c1e-389fcb1803c9",
   "metadata": {},
   "outputs": [
    {
     "name": "stdout",
     "output_type": "stream",
     "text": [
      "직사각형의 면적은 200이고, 둘레는 60입니다\n"
     ]
    }
   ],
   "source": [
    "height = 10\n",
    "width = 20\n",
    "\n",
    "area = height * width\n",
    "perimeter = (height + width) *2 \n",
    "print(f'직사각형의 면적은 {area}이고, 둘레는 {perimeter}입니다')\n",
    "\n",
    "area2 = height2 * width2"
   ]
  },
  {
   "cell_type": "markdown",
   "id": "98d61f1c-6a55-4a94-9f97-f8016517001d",
   "metadata": {},
   "source": [
    "# 함수의 선언과 호출\n",
    "\n",
    "- 함수의 선언\n",
    "```python\n",
    "def func_name(parameter1, parameter2):\n",
    "    code1\n",
    "    code2\n",
    "    ...\n",
    "    return value\n",
    "```\n",
    "\n",
    "- 함수의 호출(실행)\n",
    "```python\n",
    "func_name(parameter1, parameter2)\n",
    "```"
   ]
  },
  {
   "cell_type": "code",
   "execution_count": 2,
   "id": "5f07732a-bc0a-4483-b663-8a55198d6132",
   "metadata": {},
   "outputs": [],
   "source": [
    "def rectangle(height, width):\n",
    "    area = height * width\n",
    "    perimeter = (height + width) *2 \n",
    "    print(area, perimeter)"
   ]
  },
  {
   "cell_type": "code",
   "execution_count": 4,
   "id": "4de4adef-091c-4344-95dc-492009f7c9d5",
   "metadata": {},
   "outputs": [
    {
     "name": "stdout",
     "output_type": "stream",
     "text": [
      "5000 300\n",
      "3000 260\n"
     ]
    }
   ],
   "source": [
    "rectangle(100, 50 ) # 함수의 실행\n",
    "rectangle(100, 30 )"
   ]
  },
  {
   "cell_type": "code",
   "execution_count": 5,
   "id": "68f6ca15-78a3-4d64-8ae8-c869298cde87",
   "metadata": {},
   "outputs": [
    {
     "data": {
      "text/plain": [
       "['ArithmeticError',\n",
       " 'AssertionError',\n",
       " 'AttributeError',\n",
       " 'BaseException',\n",
       " 'BaseExceptionGroup',\n",
       " 'BlockingIOError',\n",
       " 'BrokenPipeError',\n",
       " 'BufferError',\n",
       " 'BytesWarning',\n",
       " 'ChildProcessError',\n",
       " 'ConnectionAbortedError',\n",
       " 'ConnectionError',\n",
       " 'ConnectionRefusedError',\n",
       " 'ConnectionResetError',\n",
       " 'DeprecationWarning',\n",
       " 'EOFError',\n",
       " 'Ellipsis',\n",
       " 'EncodingWarning',\n",
       " 'EnvironmentError',\n",
       " 'Exception',\n",
       " 'ExceptionGroup',\n",
       " 'False',\n",
       " 'FileExistsError',\n",
       " 'FileNotFoundError',\n",
       " 'FloatingPointError',\n",
       " 'FutureWarning',\n",
       " 'GeneratorExit',\n",
       " 'IOError',\n",
       " 'ImportError',\n",
       " 'ImportWarning',\n",
       " 'IndentationError',\n",
       " 'IndexError',\n",
       " 'InterruptedError',\n",
       " 'IsADirectoryError',\n",
       " 'KeyError',\n",
       " 'KeyboardInterrupt',\n",
       " 'LookupError',\n",
       " 'MemoryError',\n",
       " 'ModuleNotFoundError',\n",
       " 'NameError',\n",
       " 'None',\n",
       " 'NotADirectoryError',\n",
       " 'NotImplemented',\n",
       " 'NotImplementedError',\n",
       " 'OSError',\n",
       " 'OverflowError',\n",
       " 'PendingDeprecationWarning',\n",
       " 'PermissionError',\n",
       " 'ProcessLookupError',\n",
       " 'RecursionError',\n",
       " 'ReferenceError',\n",
       " 'ResourceWarning',\n",
       " 'RuntimeError',\n",
       " 'RuntimeWarning',\n",
       " 'StopAsyncIteration',\n",
       " 'StopIteration',\n",
       " 'SyntaxError',\n",
       " 'SyntaxWarning',\n",
       " 'SystemError',\n",
       " 'SystemExit',\n",
       " 'TabError',\n",
       " 'TimeoutError',\n",
       " 'True',\n",
       " 'TypeError',\n",
       " 'UnboundLocalError',\n",
       " 'UnicodeDecodeError',\n",
       " 'UnicodeEncodeError',\n",
       " 'UnicodeError',\n",
       " 'UnicodeTranslateError',\n",
       " 'UnicodeWarning',\n",
       " 'UserWarning',\n",
       " 'ValueError',\n",
       " 'Warning',\n",
       " 'WindowsError',\n",
       " 'ZeroDivisionError',\n",
       " '__IPYTHON__',\n",
       " '__build_class__',\n",
       " '__debug__',\n",
       " '__doc__',\n",
       " '__import__',\n",
       " '__loader__',\n",
       " '__name__',\n",
       " '__package__',\n",
       " '__spec__',\n",
       " 'abs',\n",
       " 'aiter',\n",
       " 'all',\n",
       " 'anext',\n",
       " 'any',\n",
       " 'ascii',\n",
       " 'bin',\n",
       " 'bool',\n",
       " 'breakpoint',\n",
       " 'bytearray',\n",
       " 'bytes',\n",
       " 'callable',\n",
       " 'chr',\n",
       " 'classmethod',\n",
       " 'compile',\n",
       " 'complex',\n",
       " 'copyright',\n",
       " 'credits',\n",
       " 'delattr',\n",
       " 'dict',\n",
       " 'dir',\n",
       " 'display',\n",
       " 'divmod',\n",
       " 'enumerate',\n",
       " 'eval',\n",
       " 'exec',\n",
       " 'execfile',\n",
       " 'filter',\n",
       " 'float',\n",
       " 'format',\n",
       " 'frozenset',\n",
       " 'get_ipython',\n",
       " 'getattr',\n",
       " 'globals',\n",
       " 'hasattr',\n",
       " 'hash',\n",
       " 'help',\n",
       " 'hex',\n",
       " 'id',\n",
       " 'input',\n",
       " 'int',\n",
       " 'isinstance',\n",
       " 'issubclass',\n",
       " 'iter',\n",
       " 'len',\n",
       " 'license',\n",
       " 'list',\n",
       " 'locals',\n",
       " 'map',\n",
       " 'max',\n",
       " 'memoryview',\n",
       " 'min',\n",
       " 'next',\n",
       " 'object',\n",
       " 'oct',\n",
       " 'open',\n",
       " 'ord',\n",
       " 'pow',\n",
       " 'print',\n",
       " 'property',\n",
       " 'range',\n",
       " 'repr',\n",
       " 'reversed',\n",
       " 'round',\n",
       " 'runfile',\n",
       " 'set',\n",
       " 'setattr',\n",
       " 'slice',\n",
       " 'sorted',\n",
       " 'staticmethod',\n",
       " 'str',\n",
       " 'sum',\n",
       " 'super',\n",
       " 'tuple',\n",
       " 'type',\n",
       " 'vars',\n",
       " 'zip']"
      ]
     },
     "execution_count": 5,
     "metadata": {},
     "output_type": "execute_result"
    }
   ],
   "source": [
    "dir(__builtins__)"
   ]
  },
  {
   "cell_type": "code",
   "execution_count": 6,
   "id": "e9ef5c6b-9158-49aa-8294-e3410269ffbc",
   "metadata": {},
   "outputs": [
    {
     "data": {
      "text/plain": [
       "6"
      ]
     },
     "execution_count": 6,
     "metadata": {},
     "output_type": "execute_result"
    }
   ],
   "source": [
    "max(1,3,5,6)"
   ]
  },
  {
   "cell_type": "code",
   "execution_count": 21,
   "id": "8e315280-586c-4446-a3d0-4604f698baad",
   "metadata": {},
   "outputs": [
    {
     "name": "stdout",
     "output_type": "stream",
     "text": [
      "10\n",
      "None\n"
     ]
    }
   ],
   "source": [
    "# 두개의 정수를 받아서 큰 수를 출력\n",
    "def my_max(num1,num2):\n",
    "    if num1 != num2:\n",
    "        print(max(num1,num2))\n",
    "    else:\n",
    "        print('같습니다')\n",
    "\n",
    "a= my_max(10,1) # return None\n",
    "print(a)"
   ]
  },
  {
   "cell_type": "markdown",
   "id": "7715a653-8861-4601-aa36-88a41a60b5ad",
   "metadata": {},
   "source": [
    "# 함수의 return\n",
    "\n",
    "- 함수가 return을 만나면 해당 값을 반환 후 함수 종료\n",
    "- 만약 return이 없다면 None을 자동으로 반환\n",
    "- return은 오직 하나의 객체만 반환합니다."
   ]
  },
  {
   "cell_type": "code",
   "execution_count": 19,
   "id": "46f5784b-ef7b-41df-a12c-87b3ecc42d0a",
   "metadata": {},
   "outputs": [],
   "source": [
    "def my_max2(num1,num2):\n",
    "    # return 'hello'\n",
    "    \n",
    "    if num1 > num2:\n",
    "        return num1\n",
    "    elif num1 < num2:\n",
    "        return num2\n",
    "    else:\n",
    "        return num1\n",
    "        \n",
    "# my_max2(10,1) "
   ]
  },
  {
   "cell_type": "code",
   "execution_count": 20,
   "id": "cefae918-2831-48d2-97bc-884f238b2a32",
   "metadata": {},
   "outputs": [
    {
     "name": "stdout",
     "output_type": "stream",
     "text": [
      "10\n"
     ]
    }
   ],
   "source": [
    "a = my_max2(10,1) \n",
    "print(a)"
   ]
  },
  {
   "cell_type": "code",
   "execution_count": 26,
   "id": "cb9db81b-199f-432f-a17e-83ab37009199",
   "metadata": {},
   "outputs": [
    {
     "data": {
      "text/plain": [
       "[3, 4, 5]"
      ]
     },
     "execution_count": 26,
     "metadata": {},
     "output_type": "execute_result"
    }
   ],
   "source": [
    "def my_list_max(list1, list2):\n",
    "    \n",
    "    if sum(list1) > sum(list2):\n",
    "        return list1\n",
    "    else:\n",
    "        return list2\n",
    "        \n",
    "my_list_max([1,2,3],[3,4,5])    "
   ]
  },
  {
   "cell_type": "code",
   "execution_count": 28,
   "id": "f10d8d33-5db5-45df-bcbb-29eb6c302496",
   "metadata": {},
   "outputs": [
    {
     "name": "stdout",
     "output_type": "stream",
     "text": [
      "10\n"
     ]
    }
   ],
   "source": [
    "def my_def(x):\n",
    "    return x*2 \n",
    "\n",
    "a= my_def(5)\n",
    "print(a)"
   ]
  },
  {
   "cell_type": "code",
   "execution_count": 29,
   "id": "6f47b8e5-4c0e-4719-b771-f116e9e98aca",
   "metadata": {},
   "outputs": [
    {
     "name": "stdout",
     "output_type": "stream",
     "text": [
      "10\n",
      "None\n"
     ]
    }
   ],
   "source": [
    "def my_def2(x):\n",
    "    print(x*2) # return None\n",
    "\n",
    "a= my_def2(5)\n",
    "print(a)"
   ]
  },
  {
   "cell_type": "markdown",
   "id": "784d9a9a-a60b-4b22-b84a-1045e4cc1170",
   "metadata": {},
   "source": [
    "# 함수의 인수"
   ]
  },
  {
   "cell_type": "markdown",
   "id": "3a960657-9788-4821-8037-f38f5ef0554c",
   "metadata": {},
   "source": [
    "# 위치 인수\n",
    "\n",
    "기본적으로 함수는 인수의 위치로 판단합니다."
   ]
  },
  {
   "cell_type": "code",
   "execution_count": 34,
   "id": "38ee3189-4cc6-4b50-8389-dbd54a22fc58",
   "metadata": {},
   "outputs": [
    {
     "name": "stdout",
     "output_type": "stream",
     "text": [
      "1570.0\n",
      "785.0\n"
     ]
    },
    {
     "data": {
      "text/plain": [
       "785.0"
      ]
     },
     "execution_count": 34,
     "metadata": {},
     "output_type": "execute_result"
    }
   ],
   "source": [
    "def cylinder(r, h):\n",
    "    return 3.14*r**2*h\n",
    "\n",
    "print(cylinder(10, 5))\n",
    "print(cylinder(5, 10))\n",
    "\n",
    "cylinder(10, 5)\n",
    "cylinder(5, 10)"
   ]
  },
  {
   "cell_type": "markdown",
   "id": "de2ea46c-5294-4118-8ac0-3a6eb4ddcd7e",
   "metadata": {},
   "source": [
    "#  기본값\n",
    "\n",
    "```python\n",
    "def func(p1=v1):\n",
    "    code...\n",
    "    return p1\n",
    "```"
   ]
  },
  {
   "cell_type": "code",
   "execution_count": 37,
   "id": "35644ccf-7746-4a8e-9255-0a0f96b333b6",
   "metadata": {},
   "outputs": [
    {
     "data": {
      "text/plain": [
       "'승준님 안녕하세요!'"
      ]
     },
     "execution_count": 37,
     "metadata": {},
     "output_type": "execute_result"
    }
   ],
   "source": [
    "def greeting(name='익명'):\n",
    "    return f'{name}님 안녕하세요!'\n",
    "\n",
    "greeting('승준')"
   ]
  },
  {
   "cell_type": "code",
   "execution_count": 38,
   "id": "5add51c9-643f-4a6a-ac1b-b13f03901497",
   "metadata": {},
   "outputs": [
    {
     "data": {
      "text/plain": [
       "'익명님 안녕하세요!'"
      ]
     },
     "execution_count": 38,
     "metadata": {},
     "output_type": "execute_result"
    }
   ],
   "source": [
    "greeting()"
   ]
  },
  {
   "cell_type": "code",
   "execution_count": 40,
   "id": "7baf81bc-6830-4df2-807c-4980fd00b8ac",
   "metadata": {},
   "outputs": [
    {
     "name": "stdout",
     "output_type": "stream",
     "text": [
      "hello!world\n"
     ]
    }
   ],
   "source": [
    "print('hello','world', sep='!')"
   ]
  },
  {
   "cell_type": "code",
   "execution_count": 43,
   "id": "d9709393-695c-46c0-ae99-31710c4040ff",
   "metadata": {},
   "outputs": [
    {
     "ename": "SyntaxError",
     "evalue": "non-default argument follows default argument (4050289885.py, line 1)",
     "output_type": "error",
     "traceback": [
      "\u001b[1;36m  Cell \u001b[1;32mIn[43], line 1\u001b[1;36m\u001b[0m\n\u001b[1;33m    def greeting(name='익명', age):\u001b[0m\n\u001b[1;37m                            ^\u001b[0m\n\u001b[1;31mSyntaxError\u001b[0m\u001b[1;31m:\u001b[0m non-default argument follows default argument\n"
     ]
    }
   ],
   "source": [
    "def greeting(name='익명', age):\n",
    "    return f'{name}님 {age}살입니다!'\n"
   ]
  },
  {
   "cell_type": "code",
   "execution_count": 44,
   "id": "14a328dc-4419-490f-9ad1-19ee0c1be388",
   "metadata": {},
   "outputs": [
    {
     "ename": "TypeError",
     "evalue": "greeting() takes from 0 to 1 positional arguments but 2 were given",
     "output_type": "error",
     "traceback": [
      "\u001b[1;31m---------------------------------------------------------------------------\u001b[0m",
      "\u001b[1;31mTypeError\u001b[0m                                 Traceback (most recent call last)",
      "Cell \u001b[1;32mIn[44], line 1\u001b[0m\n\u001b[1;32m----> 1\u001b[0m \u001b[43mgreeting\u001b[49m\u001b[43m(\u001b[49m\u001b[38;5;124;43m'\u001b[39;49m\u001b[38;5;124;43m홍길동\u001b[39;49m\u001b[38;5;124;43m'\u001b[39;49m\u001b[43m,\u001b[49m\u001b[43m \u001b[49m\u001b[38;5;241;43m50\u001b[39;49m\u001b[43m)\u001b[49m\n\u001b[0;32m      2\u001b[0m greeting(\u001b[38;5;241m50\u001b[39m)\n",
      "\u001b[1;31mTypeError\u001b[0m: greeting() takes from 0 to 1 positional arguments but 2 were given"
     ]
    }
   ],
   "source": [
    "greeting('홍길동', 50)\n",
    "greeting(50)"
   ]
  },
  {
   "cell_type": "code",
   "execution_count": 46,
   "id": "0c45f06e-d6f2-474e-94ec-9442ee0fde9c",
   "metadata": {},
   "outputs": [
    {
     "name": "stdout",
     "output_type": "stream",
     "text": [
      "50님 홍길동살입니다!\n",
      "익명님 50살입니다!\n"
     ]
    }
   ],
   "source": [
    "def greeting( age, name='익명'):\n",
    "    return f'{name}님 {age}살입니다!'\n",
    "\n",
    "print(greeting('홍길동', 50))\n",
    "print(greeting(50))"
   ]
  },
  {
   "cell_type": "markdown",
   "id": "3a1e0d2e-5c61-4fa5-ab75-198b07a4b4b0",
   "metadata": {},
   "source": [
    "# 키워드 인자\n",
    "함수를 호출(실행)할 때 내가 원하는 위치에 직접적으로 특정인자를 전달 가능"
   ]
  },
  {
   "cell_type": "code",
   "execution_count": 50,
   "id": "7a4f9124-e0a5-4aeb-aa15-b7947e691c01",
   "metadata": {},
   "outputs": [
    {
     "name": "stdout",
     "output_type": "stream",
     "text": [
      "홍길동님 50살입니다!\n",
      "익명님 50살입니다!\n",
      "홍길동님 50살입니다!\n"
     ]
    }
   ],
   "source": [
    "def greeting( age, name='익명'):\n",
    "    return f'{name}님 {age}살입니다!'\n",
    "\n",
    "print(greeting(50, '홍길동'))\n",
    "print(greeting(50))\n",
    "print(greeting(name= '홍길동', age= 50))"
   ]
  },
  {
   "cell_type": "code",
   "execution_count": 52,
   "id": "e66bf44b-ca03-4768-81c2-9d018eed7db4",
   "metadata": {},
   "outputs": [
    {
     "name": "stdout",
     "output_type": "stream",
     "text": [
      "a b c d\n"
     ]
    }
   ],
   "source": [
    "print('a','b','c','d')"
   ]
  },
  {
   "cell_type": "markdown",
   "id": "8772c307-8ab0-4345-a125-922030328ce8",
   "metadata": {},
   "source": [
    "# 가변인자 리스트\n",
    "\n",
    "    def func(*parms):\n",
    "        code\n",
    "        ..."
   ]
  },
  {
   "cell_type": "code",
   "execution_count": 55,
   "id": "25c81ae0-210b-4ee9-9653-79e16afd46fd",
   "metadata": {},
   "outputs": [],
   "source": [
    "def my_print(*words):\n",
    "    print(words)\n",
    "    print(type(words))"
   ]
  },
  {
   "cell_type": "code",
   "execution_count": 56,
   "id": "4132ff94-6b58-4158-aa50-4c5ac992831a",
   "metadata": {},
   "outputs": [
    {
     "name": "stdout",
     "output_type": "stream",
     "text": [
      "('a', 'b', 'c', 'd')\n",
      "<class 'tuple'>\n"
     ]
    }
   ],
   "source": [
    "my_print('a', 'b','c','d')"
   ]
  },
  {
   "cell_type": "code",
   "execution_count": 60,
   "id": "60ac55e7-3ed4-4f33-94fe-2d59010f3819",
   "metadata": {},
   "outputs": [
    {
     "name": "stdout",
     "output_type": "stream",
     "text": [
      "a공간b공간c공간d\n",
      "a/b/c/d\n"
     ]
    }
   ],
   "source": [
    "print('a','b','c','d', sep='공간')\n",
    "print('a','b','c','d', sep='/')"
   ]
  },
  {
   "cell_type": "code",
   "execution_count": 61,
   "id": "93fbecd5-b78a-486f-9cd0-545823f50c61",
   "metadata": {},
   "outputs": [
    {
     "data": {
      "text/plain": [
       "7"
      ]
     },
     "execution_count": 61,
     "metadata": {},
     "output_type": "execute_result"
    }
   ],
   "source": [
    "max(1,2,3,4,5,6,7)"
   ]
  },
  {
   "cell_type": "code",
   "execution_count": 76,
   "id": "6a03172f-d3f1-4a9c-83ba-01cbe06d5009",
   "metadata": {},
   "outputs": [
    {
     "name": "stdout",
     "output_type": "stream",
     "text": [
      "6\n",
      "-1\n"
     ]
    }
   ],
   "source": [
    "# 여러개의 숫자를 받아 그중 큰수를 리턴\n",
    "def my_max(*numbers):\n",
    "    result = numbers[0]\n",
    "\n",
    "    for number in numbers:\n",
    "        if result < number:\n",
    "            result = number\n",
    "            \n",
    "    return result\n",
    "    \n",
    "print(my_max(1,2,3,4,5,6,-1))\n",
    "print(my_max(-1,-2,-3))"
   ]
  },
  {
   "cell_type": "markdown",
   "id": "d76c8fa9-7b6c-43c4-805e-8a8502996d5b",
   "metadata": {},
   "source": [
    "# 정의되지않은 키워드 인자 처리하기\n",
    "```python\n",
    "def func(**kwargs):\n",
    "    code\n",
    "    ...\n",
    "```"
   ]
  },
  {
   "cell_type": "code",
   "execution_count": 79,
   "id": "b21aceb3-6113-4547-a439-4f15319b799c",
   "metadata": {},
   "outputs": [
    {
     "name": "stdout",
     "output_type": "stream",
     "text": [
      "{'name': 'hong', 'age': 10}\n"
     ]
    }
   ],
   "source": [
    "info = {\n",
    "    'name' : 'hong',\n",
    "    'age': 10\n",
    "}\n",
    "\n",
    "print(info)"
   ]
  },
  {
   "cell_type": "code",
   "execution_count": 80,
   "id": "e4359be7-e509-46ce-b5e9-719bb05d37a2",
   "metadata": {},
   "outputs": [
    {
     "name": "stdout",
     "output_type": "stream",
     "text": [
      "{'name': 'hong', 'age': 20}\n"
     ]
    }
   ],
   "source": [
    "info =dict(name='hong', age=20)\n",
    "print(info)"
   ]
  },
  {
   "cell_type": "code",
   "execution_count": 83,
   "id": "bf5ac6d1-c3ef-43b6-a817-f27210168690",
   "metadata": {},
   "outputs": [
    {
     "name": "stdout",
     "output_type": "stream",
     "text": [
      "{'a': 10, 'b': 20}\n"
     ]
    }
   ],
   "source": [
    "def fake_dict(**kwargs):\n",
    "    print(kwargs)\n",
    "\n",
    "fake_dict(a=10, b=20)"
   ]
  },
  {
   "cell_type": "code",
   "execution_count": 85,
   "id": "ff3c3b68-534e-49db-86b7-e2aad42ad130",
   "metadata": {},
   "outputs": [
    {
     "name": "stdout",
     "output_type": "stream",
     "text": [
      "a는 10입니다\n",
      "b는 20입니다\n",
      "korean는 안녕입니다\n",
      "English는 Hello입니다\n"
     ]
    }
   ],
   "source": [
    "def fake_dict(**kwargs):\n",
    "    for key, value in kwargs.items():\n",
    "        print(f'{key}는 {value}입니다')\n",
    "\n",
    "fake_dict(a=10, b=20)\n",
    "fake_dict(korean='안녕', English='Hello')"
   ]
  },
  {
   "cell_type": "markdown",
   "id": "d1885043-382d-41ae-aadc-622a02db17a4",
   "metadata": {},
   "source": [
    "# dictionary를 인자로 넣기(unpacking)"
   ]
  },
  {
   "cell_type": "code",
   "execution_count": 89,
   "id": "eea7b618-63ef-4523-8638-d25a2edf9238",
   "metadata": {},
   "outputs": [
    {
     "name": "stdout",
     "output_type": "stream",
     "text": [
      "change님 회원가입이 완료되었습니다\n",
      "비밀번호가 일치하지 않습니다\n"
     ]
    }
   ],
   "source": [
    "def sign_up(id,pw,pw_confirmation):\n",
    "    if pw == pw_confirmation:\n",
    "        print(f'{id}님 회원가입이 완료되었습니다')\n",
    "    else:\n",
    "        print('비밀번호가 일치하지 않습니다')\n",
    "\n",
    "sign_up('change','1234','1234')\n",
    "sign_up('change','1234','123')"
   ]
  },
  {
   "cell_type": "code",
   "execution_count": 90,
   "id": "14a0abcf-6f29-4000-b251-2b27d3193bf1",
   "metadata": {},
   "outputs": [
    {
     "name": "stdout",
     "output_type": "stream",
     "text": [
      "change님 회원가입이 완료되었습니다\n"
     ]
    }
   ],
   "source": [
    "account={\n",
    "    'id' : 'change',\n",
    "    'pw' : '1234',\n",
    "    'pw_confirmation' : '1234'\n",
    "}\n",
    "\n",
    "sign_up(**account)"
   ]
  },
  {
   "cell_type": "markdown",
   "id": "eb24cccc-2d3d-4a70-8d75-ae8f740657ea",
   "metadata": {},
   "source": [
    "# Lambda 표현식\n",
    "```python\n",
    "    lambda parameter : expression\n",
    "```\n"
   ]
  },
  {
   "cell_type": "code",
   "execution_count": 100,
   "id": "6963ac2e-6229-4c03-ae1b-53670e83d586",
   "metadata": {},
   "outputs": [
    {
     "data": {
      "text/plain": [
       "30"
      ]
     },
     "execution_count": 100,
     "metadata": {},
     "output_type": "execute_result"
    }
   ],
   "source": [
    "(lambda x,y: x+y)(10,20)"
   ]
  },
  {
   "cell_type": "code",
   "execution_count": 101,
   "id": "f12a5507-f831-4738-82b9-9e878e44ae60",
   "metadata": {},
   "outputs": [
    {
     "data": {
      "text/plain": [
       "3"
      ]
     },
     "execution_count": 101,
     "metadata": {},
     "output_type": "execute_result"
    }
   ],
   "source": [
    "def my_sum(x,y):\n",
    "    return x + y\n",
    "\n",
    "my_sum(1,2)"
   ]
  },
  {
   "cell_type": "markdown",
   "id": "f06b1a42-edff-4658-814a-852eebf9ab58",
   "metadata": {},
   "source": [
    "# 타입힌트"
   ]
  },
  {
   "cell_type": "code",
   "execution_count": 104,
   "id": "733ac56c-545d-4dea-a2fc-7ad37c8165f6",
   "metadata": {},
   "outputs": [
    {
     "data": {
      "text/plain": [
       "3"
      ]
     },
     "execution_count": 104,
     "metadata": {},
     "output_type": "execute_result"
    }
   ],
   "source": [
    "def my_sum(a: int,b: int) -> int:\n",
    "    return a + b\n",
    "\n",
    "my_sum(1,2)"
   ]
  },
  {
   "cell_type": "markdown",
   "id": "df4fb2bd-76af-4e37-a185-288aee895abd",
   "metadata": {},
   "source": [
    "# 이름공간(scope)\n",
    "\n",
    "python에서 사용되는 이름들은 이름공간에서(namespace)에 저장되어 있습니다.\n",
    "\n",
    "- Local scope: 정의된 함수 내부\n",
    "- Enclosed scope: 상위 함수\n",
    "- Global scope: 함수 밖에 변수 혹은 import된 모듈\n",
    "- Built-in scope: python이 기본적으로 가지고 있는 함수 or 변수"
   ]
  },
  {
   "cell_type": "code",
   "execution_count": 114,
   "id": "2cf99151-17d4-4b2b-b9ea-a045290ee0ab",
   "metadata": {},
   "outputs": [],
   "source": [
    "str = '123'"
   ]
  },
  {
   "cell_type": "code",
   "execution_count": 115,
   "id": "c61f94b8-df4d-4ac7-b4fb-90c6113eb18b",
   "metadata": {},
   "outputs": [
    {
     "name": "stdout",
     "output_type": "stream",
     "text": [
      "123\n"
     ]
    }
   ],
   "source": [
    "print(str)"
   ]
  },
  {
   "cell_type": "code",
   "execution_count": 116,
   "id": "886865c2-acba-4d77-88ec-8b7b3e793c70",
   "metadata": {},
   "outputs": [
    {
     "ename": "TypeError",
     "evalue": "'str' object is not callable",
     "output_type": "error",
     "traceback": [
      "\u001b[1;31m---------------------------------------------------------------------------\u001b[0m",
      "\u001b[1;31mTypeError\u001b[0m                                 Traceback (most recent call last)",
      "Cell \u001b[1;32mIn[116], line 1\u001b[0m\n\u001b[1;32m----> 1\u001b[0m \u001b[38;5;28;43mstr\u001b[39;49m\u001b[43m(\u001b[49m\u001b[38;5;241;43m123\u001b[39;49m\u001b[43m)\u001b[49m\n",
      "\u001b[1;31mTypeError\u001b[0m: 'str' object is not callable"
     ]
    }
   ],
   "source": [
    "str(123)"
   ]
  },
  {
   "cell_type": "code",
   "execution_count": 117,
   "id": "efcfb198-4f5c-4781-aefa-023972512db3",
   "metadata": {},
   "outputs": [],
   "source": [
    "del str #정의된 str 함수 삭제 해줘"
   ]
  },
  {
   "cell_type": "code",
   "execution_count": 113,
   "id": "a700a9ae-25af-45f4-a64d-01449fa9d571",
   "metadata": {},
   "outputs": [
    {
     "data": {
      "text/plain": [
       "'123'"
      ]
     },
     "execution_count": 113,
     "metadata": {},
     "output_type": "execute_result"
    }
   ],
   "source": [
    "str(123)"
   ]
  },
  {
   "cell_type": "code",
   "execution_count": 119,
   "id": "43f21ede-32f7-4712-a126-45b07354314f",
   "metadata": {},
   "outputs": [
    {
     "name": "stdout",
     "output_type": "stream",
     "text": [
      "5\n",
      "1\n"
     ]
    }
   ],
   "source": [
    "a = 1\n",
    "\n",
    "def local_scope(a):\n",
    "    print(a)\n",
    "\n",
    "local_scope(5)\n",
    "print(a)"
   ]
  },
  {
   "cell_type": "code",
   "execution_count": 121,
   "id": "95e218cc-35e4-42e6-99ae-ab8152804c83",
   "metadata": {},
   "outputs": [
    {
     "name": "stdout",
     "output_type": "stream",
     "text": [
      "10\n"
     ]
    }
   ],
   "source": [
    "a = 10\n",
    "\n",
    "def global_scope():\n",
    "    global a\n",
    "    print(a)\n",
    "\n",
    "global_scope()"
   ]
  },
  {
   "cell_type": "markdown",
   "id": "95a31944-d902-4dbf-8e8d-968f997f2e16",
   "metadata": {},
   "source": [
    "# 재귀(recursive)\n",
    "함수 내부에서 자기자신을 호출하는 함수"
   ]
  },
  {
   "cell_type": "code",
   "execution_count": 123,
   "id": "940548e1-507a-466e-89d0-62d873f7fbc8",
   "metadata": {},
   "outputs": [
    {
     "name": "stdout",
     "output_type": "stream",
     "text": [
      "120\n"
     ]
    }
   ],
   "source": [
    "#factorial(n! = 1*2*3...*n)\n",
    "def fact(n):\n",
    "    result = 1 \n",
    "\n",
    "    while n > 1:\n",
    "        result = result * n # result *= n \n",
    "        n = n-1 # n -=1\n",
    "\n",
    "    return result\n",
    "\n",
    "print(fact(5))"
   ]
  },
  {
   "cell_type": "markdown",
   "id": "aa670d5e-1c9f-41f3-a965-5bfcb2660c09",
   "metadata": {},
   "source": [
    "\n",
    "- 1!= 1\n",
    "- 2!= 1! * 2\n",
    "- 3!= 2! * 3\n",
    "- n!= (n-1)! * n\n"
   ]
  },
  {
   "cell_type": "code",
   "execution_count": 124,
   "id": "afea2780-ad75-4d09-97fb-ee0047166b21",
   "metadata": {},
   "outputs": [
    {
     "name": "stdout",
     "output_type": "stream",
     "text": [
      "120\n"
     ]
    }
   ],
   "source": [
    "def factorial(n):\n",
    "    if n <= 1:\n",
    "        return 1\n",
    "    else:\n",
    "        return factorial(n-1) * n\n",
    "\n",
    "print(factorial(5))"
   ]
  },
  {
   "cell_type": "markdown",
   "id": "e7056a15-7d5d-49d5-aba5-0d95f6ee8db6",
   "metadata": {},
   "source": [
    "# 피보나치 수열\n",
    "    - F(0) = F(1) = 1\n",
    "    - F(N) = F(N-1) + F(N-2)"
   ]
  },
  {
   "cell_type": "code",
   "execution_count": 125,
   "id": "0f3f8a3c-d5ea-4161-9fe4-0a6803f3ff3b",
   "metadata": {},
   "outputs": [
    {
     "name": "stdout",
     "output_type": "stream",
     "text": [
      "89\n"
     ]
    }
   ],
   "source": [
    "# 반복문으로 해결\n",
    "def fib_loop(n):\n",
    "    result = [1,1]\n",
    "\n",
    "    for i in range(1,n):\n",
    "        end1 = result[-1]\n",
    "        end2 = result[-2]\n",
    "        \n",
    "        fib_num = end1 + end2\n",
    "        \n",
    "        result.append(fib_num)\n",
    "\n",
    "    return result[-1]\n",
    "\n",
    "print(fib_loop(10))\n"
   ]
  },
  {
   "cell_type": "code",
   "execution_count": 126,
   "id": "c085a31a-72c2-4ce5-a114-fdb196a6125f",
   "metadata": {},
   "outputs": [
    {
     "name": "stdout",
     "output_type": "stream",
     "text": [
      "89\n"
     ]
    }
   ],
   "source": [
    "# 재귀\n",
    "def fib_rec(n):\n",
    "    if n == 0 or n == 1:\n",
    "        return 1\n",
    "    else:\n",
    "        return fib_rec(n-1) + fib_rec(n-2)\n",
    "\n",
    "print(fib_rec(10))\n",
    "    "
   ]
  },
  {
   "cell_type": "code",
   "execution_count": null,
   "id": "99b27033-58e3-4339-9192-288f91e773eb",
   "metadata": {},
   "outputs": [],
   "source": []
  }
 ],
 "metadata": {
  "kernelspec": {
   "display_name": "Python 3 (ipykernel)",
   "language": "python",
   "name": "python3"
  },
  "language_info": {
   "codemirror_mode": {
    "name": "ipython",
    "version": 3
   },
   "file_extension": ".py",
   "mimetype": "text/x-python",
   "name": "python",
   "nbconvert_exporter": "python",
   "pygments_lexer": "ipython3",
   "version": "3.11.6"
  }
 },
 "nbformat": 4,
 "nbformat_minor": 5
}
