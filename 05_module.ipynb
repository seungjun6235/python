{
 "cells": [
  {
   "cell_type": "markdown",
   "id": "72aded17-9078-4de7-a86f-6ddab4d49d5e",
   "metadata": {},
   "source": [
    "# 모듈"
   ]
  },
  {
   "cell_type": "code",
   "execution_count": 13,
   "id": "6d2a01c9-016a-4775-9a8a-40c5193f5f15",
   "metadata": {},
   "outputs": [],
   "source": [
    "import fibo"
   ]
  },
  {
   "cell_type": "code",
   "execution_count": 14,
   "id": "1b3b23ee-1e3e-4924-948e-3a9df3c98686",
   "metadata": {},
   "outputs": [
    {
     "name": "stdout",
     "output_type": "stream",
     "text": [
      "<module 'fibo' from 'C:\\\\Users\\\\SJ\\\\Desktop\\\\CAMP31\\\\python\\\\fibo.py'>\n"
     ]
    }
   ],
   "source": [
    "print(fibo)"
   ]
  },
  {
   "cell_type": "code",
   "execution_count": 15,
   "id": "e9a501b3-9d03-48a5-83a8-e98b161e2cc2",
   "metadata": {},
   "outputs": [
    {
     "data": {
      "text/plain": [
       "89"
      ]
     },
     "execution_count": 15,
     "metadata": {},
     "output_type": "execute_result"
    }
   ],
   "source": [
    "fibo.fib_loop(10)"
   ]
  },
  {
   "cell_type": "code",
   "execution_count": 16,
   "id": "8d2c6547-3cd9-4d0e-989e-ebb912e5688a",
   "metadata": {},
   "outputs": [
    {
     "data": {
      "text/plain": [
       "8"
      ]
     },
     "execution_count": 16,
     "metadata": {},
     "output_type": "execute_result"
    }
   ],
   "source": [
    "fibo.fib_rec(5)"
   ]
  },
  {
   "cell_type": "markdown",
   "id": "49c0690b-9088-416f-89dd-6aecf6819089",
   "metadata": {},
   "source": [
    "# package 패키지(=라이브러리= 모듈들의 집합 폴더로)\n",
    "```\n",
    "my package/\n",
    "    __init__.py\n",
    "    math/\n",
    "        __init__.py\n",
    "        fibo.py\n",
    "        fomula.py\n",
    "\n",
    "```\n",
    "\n",
    "패키지안에 `__init__.py` 파일이 있어야 패키지로 인식"
   ]
  },
  {
   "cell_type": "code",
   "execution_count": 17,
   "id": "47e04fcc-64d5-4c29-8155-5e3827feb145",
   "metadata": {},
   "outputs": [],
   "source": [
    "import myPackage"
   ]
  },
  {
   "cell_type": "code",
   "execution_count": 19,
   "id": "d180c1d0-9d2e-4f19-a15b-1858b9d08829",
   "metadata": {},
   "outputs": [
    {
     "name": "stdout",
     "output_type": "stream",
     "text": [
      "<module 'myPackage' from 'C:\\\\Users\\\\SJ\\\\Desktop\\\\CAMP31\\\\python\\\\myPackage\\\\__init__.py'>\n"
     ]
    }
   ],
   "source": [
    "print(myPackage)"
   ]
  },
  {
   "cell_type": "code",
   "execution_count": 20,
   "id": "8ec74211-fea7-4440-a95f-e4c2de6ae9bf",
   "metadata": {},
   "outputs": [],
   "source": [
    "from myPackage.math import fomula"
   ]
  },
  {
   "cell_type": "code",
   "execution_count": 21,
   "id": "9981895b-fa19-433d-93a4-1613b48af37d",
   "metadata": {},
   "outputs": [
    {
     "data": {
      "text/plain": [
       "3.14"
      ]
     },
     "execution_count": 21,
     "metadata": {},
     "output_type": "execute_result"
    }
   ],
   "source": [
    "fomula.pi"
   ]
  },
  {
   "cell_type": "code",
   "execution_count": 23,
   "id": "112d399f-6fb4-4fb8-b7df-47035be3bbad",
   "metadata": {},
   "outputs": [
    {
     "data": {
      "text/plain": [
       "2"
      ]
     },
     "execution_count": 23,
     "metadata": {},
     "output_type": "execute_result"
    }
   ],
   "source": [
    "fomula.my_max(1,2)"
   ]
  },
  {
   "cell_type": "code",
   "execution_count": 29,
   "id": "1c0bcba5-3fda-4842-87d4-dd086dd58bf9",
   "metadata": {},
   "outputs": [
    {
     "data": {
      "text/plain": [
       "3.14"
      ]
     },
     "execution_count": 29,
     "metadata": {},
     "output_type": "execute_result"
    }
   ],
   "source": [
    "import myPackage\n",
    "\n",
    "myPackage.math.fomula.my_max(1,2)\n",
    "myPackage.math.fomula.pi"
   ]
  },
  {
   "cell_type": "code",
   "execution_count": 32,
   "id": "b33f0bf2-21f2-4f6e-9779-dea3f68ae3df",
   "metadata": {},
   "outputs": [],
   "source": [
    "from myPackage.math.fibo import *"
   ]
  },
  {
   "cell_type": "code",
   "execution_count": 31,
   "id": "1265abb3-e956-499f-9383-8e6badbe12bf",
   "metadata": {},
   "outputs": [
    {
     "data": {
      "text/plain": [
       "8"
      ]
     },
     "execution_count": 31,
     "metadata": {},
     "output_type": "execute_result"
    }
   ],
   "source": [
    "fib_loop(5)"
   ]
  },
  {
   "cell_type": "code",
   "execution_count": 36,
   "id": "4182f8ab-c808-42d4-b383-e4fdb29c4f5f",
   "metadata": {},
   "outputs": [
    {
     "data": {
      "text/plain": [
       "13"
      ]
     },
     "execution_count": 36,
     "metadata": {},
     "output_type": "execute_result"
    }
   ],
   "source": [
    "fib_rec(6)"
   ]
  },
  {
   "cell_type": "code",
   "execution_count": 37,
   "id": "64f15757-40ab-46b3-a7b9-0996f7e4b1ab",
   "metadata": {},
   "outputs": [
    {
     "data": {
      "text/plain": [
       "['__builtins__',\n",
       " '__cached__',\n",
       " '__doc__',\n",
       " '__file__',\n",
       " '__loader__',\n",
       " '__name__',\n",
       " '__package__',\n",
       " '__spec__',\n",
       " 'fib_loop',\n",
       " 'fib_rec']"
      ]
     },
     "execution_count": 37,
     "metadata": {},
     "output_type": "execute_result"
    }
   ],
   "source": [
    "dir(fibo)"
   ]
  },
  {
   "cell_type": "code",
   "execution_count": 38,
   "id": "fba81987-076c-4289-97b5-292fc4022327",
   "metadata": {},
   "outputs": [
    {
     "name": "stdout",
     "output_type": "stream",
     "text": [
      "1234\n",
      "<module 'myPackage.math.fomula' from 'C:\\\\Users\\\\SJ\\\\Desktop\\\\CAMP31\\\\python\\\\myPackage\\\\math\\\\fomula.py'>\n"
     ]
    }
   ],
   "source": [
    "fomula = 1234\n",
    "\n",
    "from myPackage.math import fomula as f ## 이름 충돌시 마지막에 쓴 fomula 출력됨 so, as로 모듈 이름 변경\n",
    "\n",
    "print(fomula)\n",
    "print(f)"
   ]
  },
  {
   "cell_type": "markdown",
   "id": "ff8faa98-7e7d-47b2-9aab-5ef73f61f5b9",
   "metadata": {},
   "source": [
    "# 파이썬 내장 패키지\n",
    "# math"
   ]
  },
  {
   "cell_type": "code",
   "execution_count": 39,
   "id": "e5c2d395-4f9f-44c8-afb3-f0e5fd84060a",
   "metadata": {},
   "outputs": [],
   "source": [
    "import math"
   ]
  },
  {
   "cell_type": "code",
   "execution_count": 40,
   "id": "a707b3e9-a3b9-4ba9-be2b-cbbc39c93083",
   "metadata": {},
   "outputs": [
    {
     "data": {
      "text/plain": [
       "3.141592653589793"
      ]
     },
     "execution_count": 40,
     "metadata": {},
     "output_type": "execute_result"
    }
   ],
   "source": [
    "math.pi"
   ]
  },
  {
   "cell_type": "code",
   "execution_count": 41,
   "id": "86fb0e4d-7865-4050-a88b-e37dbe41aa42",
   "metadata": {},
   "outputs": [
    {
     "data": {
      "text/plain": [
       "2.718281828459045"
      ]
     },
     "execution_count": 41,
     "metadata": {},
     "output_type": "execute_result"
    }
   ],
   "source": [
    "math.e"
   ]
  },
  {
   "cell_type": "code",
   "execution_count": 42,
   "id": "780c53e5-33a7-46a1-81d8-c94544597583",
   "metadata": {},
   "outputs": [
    {
     "data": {
      "text/plain": [
       "4"
      ]
     },
     "execution_count": 42,
     "metadata": {},
     "output_type": "execute_result"
    }
   ],
   "source": [
    "pi = 3.141592\n",
    "math.ceil(pi)"
   ]
  },
  {
   "cell_type": "code",
   "execution_count": 43,
   "id": "52e81324-dde4-45d5-b794-fe404368593e",
   "metadata": {},
   "outputs": [
    {
     "data": {
      "text/plain": [
       "3"
      ]
     },
     "execution_count": 43,
     "metadata": {},
     "output_type": "execute_result"
    }
   ],
   "source": [
    "math.floor(pi)"
   ]
  },
  {
   "cell_type": "code",
   "execution_count": 44,
   "id": "9ff7cbba-10dd-4b34-8b85-f2cf045a9087",
   "metadata": {},
   "outputs": [
    {
     "data": {
      "text/plain": [
       "3.0"
      ]
     },
     "execution_count": 44,
     "metadata": {},
     "output_type": "execute_result"
    }
   ],
   "source": [
    "math.sqrt(9)"
   ]
  },
  {
   "cell_type": "code",
   "execution_count": 46,
   "id": "08c42af1-a122-4190-b8dc-d229674065a4",
   "metadata": {},
   "outputs": [
    {
     "data": {
      "text/plain": [
       "120"
      ]
     },
     "execution_count": 46,
     "metadata": {},
     "output_type": "execute_result"
    }
   ],
   "source": [
    "math.factorial(5)"
   ]
  },
  {
   "cell_type": "markdown",
   "id": "4cc72e97-fd83-4d96-8915-ff95b62689cb",
   "metadata": {},
   "source": [
    "# Random "
   ]
  },
  {
   "cell_type": "code",
   "execution_count": 47,
   "id": "01ed0ebd-d6bc-483e-ad77-136f24a8649c",
   "metadata": {},
   "outputs": [],
   "source": [
    "import random"
   ]
  },
  {
   "cell_type": "code",
   "execution_count": 64,
   "id": "7659f9ad-f769-450d-aed2-676742f3c5dd",
   "metadata": {},
   "outputs": [
    {
     "data": {
      "text/plain": [
       "0.6033180850045321"
      ]
     },
     "execution_count": 64,
     "metadata": {},
     "output_type": "execute_result"
    }
   ],
   "source": [
    "random.random()"
   ]
  },
  {
   "cell_type": "code",
   "execution_count": 65,
   "id": "41c0dec0-bd06-4244-ae51-7fb5976023a2",
   "metadata": {},
   "outputs": [
    {
     "data": {
      "text/plain": [
       "6"
      ]
     },
     "execution_count": 65,
     "metadata": {},
     "output_type": "execute_result"
    }
   ],
   "source": [
    "random.randint(1,10)"
   ]
  },
  {
   "cell_type": "code",
   "execution_count": 71,
   "id": "7fd46e21-4d7b-4968-9ba8-d8b381518cbf",
   "metadata": {},
   "outputs": [
    {
     "data": {
      "text/plain": [
       "0.13436424411240122"
      ]
     },
     "execution_count": 71,
     "metadata": {},
     "output_type": "execute_result"
    }
   ],
   "source": [
    "# seed \n",
    "random.seed(1)\n",
    "random.random()"
   ]
  },
  {
   "cell_type": "code",
   "execution_count": 82,
   "id": "b494105f-d9bc-49ec-a76f-51833cad38ef",
   "metadata": {},
   "outputs": [
    {
     "name": "stdout",
     "output_type": "stream",
     "text": [
      "[1, 2, 3, 4, 5]\n",
      "[3, 1, 5, 4, 2]\n"
     ]
    }
   ],
   "source": [
    "a = [1,2,3,4,5]\n",
    "print(a)\n",
    "\n",
    "random.shuffle(a)\n",
    "print(a)"
   ]
  },
  {
   "cell_type": "code",
   "execution_count": 90,
   "id": "fa1a3f54-097d-4963-81bd-f52633e01cb7",
   "metadata": {},
   "outputs": [
    {
     "data": {
      "text/plain": [
       "'바위'"
      ]
     },
     "execution_count": 90,
     "metadata": {},
     "output_type": "execute_result"
    }
   ],
   "source": [
    "rsp = ['가위','바위','보']\n",
    "random.choice(rsp)"
   ]
  },
  {
   "cell_type": "code",
   "execution_count": 105,
   "id": "b44fd3cb-4840-45c7-89db-07340ed740e3",
   "metadata": {},
   "outputs": [
    {
     "data": {
      "text/plain": [
       "[23, 1, 35, 43, 40, 41]"
      ]
     },
     "execution_count": 105,
     "metadata": {},
     "output_type": "execute_result"
    }
   ],
   "source": [
    "random.sample(range(1,46),6)"
   ]
  },
  {
   "cell_type": "markdown",
   "id": "40ba5673-9a71-4ab2-8fd4-b92e3cdeab29",
   "metadata": {},
   "source": [
    "# datetime"
   ]
  },
  {
   "cell_type": "code",
   "execution_count": 106,
   "id": "a2b1938d-9fff-4bc5-94f4-3158f364453e",
   "metadata": {},
   "outputs": [],
   "source": [
    "from datetime import datetime # datetime 폴더 안에 dateime 파일 有"
   ]
  },
  {
   "cell_type": "code",
   "execution_count": 107,
   "id": "60af2ff2-81ee-42ec-b0e4-1862c2b513f7",
   "metadata": {},
   "outputs": [
    {
     "data": {
      "text/plain": [
       "datetime.datetime(2023, 10, 11, 10, 21, 17, 251587)"
      ]
     },
     "execution_count": 107,
     "metadata": {},
     "output_type": "execute_result"
    }
   ],
   "source": [
    "datetime.now()"
   ]
  },
  {
   "cell_type": "code",
   "execution_count": 109,
   "id": "6bf71b60-eabf-4e3c-a62b-e66d25093ea5",
   "metadata": {},
   "outputs": [
    {
     "name": "stdout",
     "output_type": "stream",
     "text": [
      "2023-10-11 10:22:25.118335\n"
     ]
    }
   ],
   "source": [
    "today = datetime.today()\n",
    "print(today)"
   ]
  },
  {
   "cell_type": "code",
   "execution_count": 110,
   "id": "e546af00-1587-483e-a4b4-16428bd94d7b",
   "metadata": {},
   "outputs": [
    {
     "data": {
      "text/plain": [
       "datetime.datetime(2023, 10, 11, 1, 23, 26, 971984)"
      ]
     },
     "execution_count": 110,
     "metadata": {},
     "output_type": "execute_result"
    }
   ],
   "source": [
    "datetime.utcnow()"
   ]
  },
  {
   "cell_type": "code",
   "execution_count": 112,
   "id": "6c8b95ba-0d23-43c2-81e6-70c55dba24c0",
   "metadata": {},
   "outputs": [
    {
     "data": {
      "text/plain": [
       "'2023년 10월 11일 Wed'"
      ]
     },
     "execution_count": 112,
     "metadata": {},
     "output_type": "execute_result"
    }
   ],
   "source": [
    "now = datetime.now()\n",
    "now.strftime('%Y년 %m월 %d일 %a')"
   ]
  },
  {
   "cell_type": "code",
   "execution_count": 113,
   "id": "15f8cebb-a064-4028-9593-9e92db72c7d3",
   "metadata": {},
   "outputs": [
    {
     "data": {
      "text/plain": [
       "2023"
      ]
     },
     "execution_count": 113,
     "metadata": {},
     "output_type": "execute_result"
    }
   ],
   "source": [
    "now.year"
   ]
  },
  {
   "cell_type": "code",
   "execution_count": 114,
   "id": "cf7fc82a-01eb-4420-b522-4dd1c76e83ba",
   "metadata": {},
   "outputs": [
    {
     "data": {
      "text/plain": [
       "11"
      ]
     },
     "execution_count": 114,
     "metadata": {},
     "output_type": "execute_result"
    }
   ],
   "source": [
    "now.day"
   ]
  },
  {
   "cell_type": "code",
   "execution_count": 115,
   "id": "d952e993-10ad-477e-81af-d44e56ae5371",
   "metadata": {},
   "outputs": [
    {
     "data": {
      "text/plain": [
       "2"
      ]
     },
     "execution_count": 115,
     "metadata": {},
     "output_type": "execute_result"
    }
   ],
   "source": [
    "# => 0~6 / 월~일\n",
    "now.weekday()"
   ]
  },
  {
   "cell_type": "code",
   "execution_count": 118,
   "id": "ed30f92c-8284-4440-a3c0-50c51f74ef96",
   "metadata": {},
   "outputs": [
    {
     "name": "stdout",
     "output_type": "stream",
     "text": [
      "2023-01-01 00:00:00\n"
     ]
    }
   ],
   "source": [
    "birth = datetime(2023,1,1)\n",
    "print(birth)"
   ]
  },
  {
   "cell_type": "code",
   "execution_count": 119,
   "id": "abb7f701-6355-4c7c-b6d8-e783c7ff6b9e",
   "metadata": {},
   "outputs": [],
   "source": [
    "from datetime import timedelta"
   ]
  },
  {
   "cell_type": "code",
   "execution_count": 120,
   "id": "4beb5bdd-0b42-40a6-8953-778680ddede2",
   "metadata": {},
   "outputs": [
    {
     "name": "stdout",
     "output_type": "stream",
     "text": [
      "3 days, 0:00:00\n"
     ]
    }
   ],
   "source": [
    "future = timedelta(days=3) # 산술연산시 사용\n",
    "print(future)"
   ]
  },
  {
   "cell_type": "code",
   "execution_count": 121,
   "id": "c531af99-d1e6-4f00-ab38-71c569d2c81c",
   "metadata": {},
   "outputs": [
    {
     "data": {
      "text/plain": [
       "datetime.datetime(2023, 1, 4, 0, 0)"
      ]
     },
     "execution_count": 121,
     "metadata": {},
     "output_type": "execute_result"
    }
   ],
   "source": [
    "birth + future"
   ]
  },
  {
   "cell_type": "code",
   "execution_count": 123,
   "id": "faddc688-c73d-430b-84aa-000352b1bca5",
   "metadata": {},
   "outputs": [
    {
     "name": "stdout",
     "output_type": "stream",
     "text": [
      "81 days, 13:24:22.043568\n"
     ]
    }
   ],
   "source": [
    "new_year = datetime(2024,1,1)\n",
    "now = datetime.now()\n",
    "\n",
    "print(new_year - now)"
   ]
  },
  {
   "cell_type": "code",
   "execution_count": 126,
   "id": "6473f0f0-a29b-4e18-bd4e-df519cf64ddc",
   "metadata": {},
   "outputs": [
    {
     "name": "stdout",
     "output_type": "stream",
     "text": [
      "2024-01-19 10:36:24.383234\n"
     ]
    }
   ],
   "source": [
    "now = datetime.now()\n",
    "f = timedelta(days=100)\n",
    "\n",
    "print(now + f)"
   ]
  },
  {
   "cell_type": "code",
   "execution_count": null,
   "id": "070ec64a-cf65-4d87-8fb4-0fb8268dd262",
   "metadata": {},
   "outputs": [],
   "source": []
  }
 ],
 "metadata": {
  "kernelspec": {
   "display_name": "Python 3 (ipykernel)",
   "language": "python",
   "name": "python3"
  },
  "language_info": {
   "codemirror_mode": {
    "name": "ipython",
    "version": 3
   },
   "file_extension": ".py",
   "mimetype": "text/x-python",
   "name": "python",
   "nbconvert_exporter": "python",
   "pygments_lexer": "ipython3",
   "version": "3.11.6"
  }
 },
 "nbformat": 4,
 "nbformat_minor": 5
}
